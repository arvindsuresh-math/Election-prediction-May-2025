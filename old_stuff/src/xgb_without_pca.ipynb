{
 "cells": [
  {
   "cell_type": "code",
   "execution_count": 1,
   "id": "97dcbfb6",
   "metadata": {},
   "outputs": [],
   "source": [
    "from data_handling import DataHandler\n",
    "from xgboost_model import XGBoostModel"
   ]
  },
  {
   "cell_type": "code",
   "execution_count": 2,
   "id": "8bbeff0a",
   "metadata": {},
   "outputs": [
    {
     "name": "stdout",
     "output_type": "stream",
     "text": [
      "DataHandler initialized - Using 114 features - Test year: 2020\n"
     ]
    }
   ],
   "source": [
    "dh = DataHandler()"
   ]
  },
  {
   "cell_type": "code",
   "execution_count": 3,
   "id": "b80e91f6",
   "metadata": {},
   "outputs": [
    {
     "name": "stdout",
     "output_type": "stream",
     "text": [
      "XGBoostModel initialized with model name: xgb_without_pca\n",
      "Optuna study will be stored in  : /Users/arvindsuresh/Documents/Election-prediction-May-2025/2020-results-20250514/optuna/xgb_without_pca_study.pkl\n",
      "Trained model will be stored in : /Users/arvindsuresh/Documents/Election-prediction-May-2025/2020-results-20250514/models/xgb_without_pca_model.json\n",
      "Final preds will be stored in   : /Users/arvindsuresh/Documents/Election-prediction-May-2025/2020-results-20250514/preds/xgb_without_pca_preds.csv\n"
     ]
    }
   ],
   "source": [
    "xgb = XGBoostModel(dh, 'xgb_without_pca')"
   ]
  },
  {
   "cell_type": "code",
   "execution_count": 4,
   "id": "4bb1056f",
   "metadata": {},
   "outputs": [
    {
     "name": "stderr",
     "output_type": "stream",
     "text": [
      "[I 2025-05-14 18:10:49,451] A new study created in memory with name: xgb_without_pca_study\n",
      "[I 2025-05-14 18:10:51,162] Trial 3 pruned. Trial was pruned at iteration 10.\n",
      "[I 2025-05-14 18:10:51,374] Trial 4 pruned. Trial was pruned at iteration 10.\n",
      "[I 2025-05-14 18:10:51,412] Trial 6 pruned. Trial was pruned at iteration 10.\n",
      "[I 2025-05-14 18:10:51,529] Trial 5 pruned. Trial was pruned at iteration 10.\n",
      "[I 2025-05-14 18:10:51,569] Trial 0 finished with value: 1.0562373333333335 and parameters: {'learning_rate': 0.2650758682689334, 'gamma': 4.279043584756918, 'subsample': 0.6126896885440951, 'colsample_bytree': 0.8942524098432836, 'colsample_bylevel': 0.630246331470644, 'colsample_bynode': 0.7578575020226265, 'reg_alpha': 2.0834553308727082e-07, 'reg_lambda': 4.2080290785631565e-08, 'max_depth': 12, 'min_child_weight': 20}. Best is trial 0 with value: 1.0562373333333335.\n",
      "[I 2025-05-14 18:10:51,593] Trial 7 pruned. Trial was pruned at iteration 10.\n",
      "[I 2025-05-14 18:10:51,769] Trial 2 pruned. Trial was pruned at iteration 10.\n",
      "[I 2025-05-14 18:10:52,958] Trial 1 finished with value: 1.0509330000000001 and parameters: {'learning_rate': 0.16779725269014023, 'gamma': 0.7192524277935514, 'subsample': 0.5066159381842229, 'colsample_bytree': 0.5996115456750166, 'colsample_bylevel': 0.5174586269863439, 'colsample_bynode': 0.5764830311808918, 'reg_alpha': 0.3313166304915689, 'reg_lambda': 1.129043100206449e-06, 'max_depth': 12, 'min_child_weight': 19}. Best is trial 1 with value: 1.0509330000000001.\n",
      "[I 2025-05-14 18:10:53,062] Trial 8 pruned. Trial was pruned at iteration 10.\n",
      "[I 2025-05-14 18:10:53,198] Trial 10 pruned. Trial was pruned at iteration 10.\n",
      "[I 2025-05-14 18:10:53,555] Trial 9 pruned. Trial was pruned at iteration 10.\n",
      "[I 2025-05-14 18:10:53,703] Trial 13 pruned. Trial was pruned at iteration 10.\n",
      "[I 2025-05-14 18:10:54,043] Trial 11 pruned. Trial was pruned at iteration 10.\n",
      "[I 2025-05-14 18:10:54,112] Trial 12 finished with value: 1.0546663333333333 and parameters: {'learning_rate': 0.258572221297761, 'gamma': 1.5401119780973964, 'subsample': 0.8065791042376113, 'colsample_bytree': 0.9272072778846915, 'colsample_bylevel': 0.7443241456637263, 'colsample_bynode': 0.9268667273930287, 'reg_alpha': 4.612994098865659, 'reg_lambda': 0.0344695060480911, 'max_depth': 8, 'min_child_weight': 18}. Best is trial 1 with value: 1.0509330000000001.\n",
      "[I 2025-05-14 18:10:54,552] Trial 16 pruned. Trial was pruned at iteration 10.\n",
      "[I 2025-05-14 18:10:54,921] Trial 20 pruned. Trial was pruned at iteration 10.\n",
      "[I 2025-05-14 18:10:55,166] Trial 14 finished with value: 1.0531346666666666 and parameters: {'learning_rate': 0.1207295296652544, 'gamma': 2.8912825225296395, 'subsample': 0.9365572549894877, 'colsample_bytree': 0.8855113265783346, 'colsample_bylevel': 0.7098439864717311, 'colsample_bynode': 0.49111538347164085, 'reg_alpha': 2.6663245619710003e-06, 'reg_lambda': 2.0327847402111108e-05, 'max_depth': 11, 'min_child_weight': 19}. Best is trial 1 with value: 1.0509330000000001.\n",
      "[I 2025-05-14 18:10:55,436] Trial 15 finished with value: 1.0514949999999998 and parameters: {'learning_rate': 0.19981263494236443, 'gamma': 1.1310714234477415, 'subsample': 0.514479186702969, 'colsample_bytree': 0.9533782183121093, 'colsample_bylevel': 0.6030926163575873, 'colsample_bynode': 0.8315003554048667, 'reg_alpha': 3.053095419678502e-08, 'reg_lambda': 4.6159932985231855e-06, 'max_depth': 8, 'min_child_weight': 4}. Best is trial 1 with value: 1.0509330000000001.\n",
      "[I 2025-05-14 18:10:55,931] Trial 22 pruned. Trial was pruned at iteration 10.\n",
      "[I 2025-05-14 18:10:55,977] Trial 18 finished with value: 1.0548659999999999 and parameters: {'learning_rate': 0.27502731902508815, 'gamma': 2.713169679686145, 'subsample': 0.526307163409456, 'colsample_bytree': 0.40211857347668706, 'colsample_bylevel': 0.5214375799130294, 'colsample_bynode': 0.5747293788933046, 'reg_alpha': 2.451434612817378e-05, 'reg_lambda': 0.00014942276099485073, 'max_depth': 6, 'min_child_weight': 2}. Best is trial 1 with value: 1.0509330000000001.\n",
      "[I 2025-05-14 18:10:56,234] Trial 23 pruned. Trial was pruned at iteration 10.\n",
      "[I 2025-05-14 18:10:56,376] Trial 17 finished with value: 1.052264 and parameters: {'learning_rate': 0.23130780843125115, 'gamma': 0.1504254142255126, 'subsample': 0.5064747809979201, 'colsample_bytree': 0.40637220175577604, 'colsample_bylevel': 0.5500224784703287, 'colsample_bynode': 0.5772641809838521, 'reg_alpha': 3.7889449115373752, 'reg_lambda': 0.00021621244589773567, 'max_depth': 5, 'min_child_weight': 1}. Best is trial 1 with value: 1.0509330000000001.\n",
      "[I 2025-05-14 18:10:57,170] Trial 19 finished with value: 1.0488836666666668 and parameters: {'learning_rate': 0.29657614114776887, 'gamma': 0.13890232217365117, 'subsample': 0.5078360826728199, 'colsample_bytree': 0.4026724910511821, 'colsample_bylevel': 0.5367516828313179, 'colsample_bynode': 0.5983509682217479, 'reg_alpha': 5.199391022934708e-05, 'reg_lambda': 0.00011713559548307426, 'max_depth': 4, 'min_child_weight': 20}. Best is trial 19 with value: 1.0488836666666668.\n",
      "[I 2025-05-14 18:10:57,202] Trial 21 finished with value: 1.0520616666666667 and parameters: {'learning_rate': 0.29276466999318945, 'gamma': 0.11032276761153703, 'subsample': 0.8517673372273071, 'colsample_bytree': 0.5171019858055568, 'colsample_bylevel': 0.8280834817149595, 'colsample_bynode': 0.5932387389828307, 'reg_alpha': 7.4862124112543995, 'reg_lambda': 0.0015744983149067718, 'max_depth': 9, 'min_child_weight': 17}. Best is trial 19 with value: 1.0488836666666668.\n",
      "[I 2025-05-14 18:10:57,462] Trial 28 pruned. Trial was pruned at iteration 10.\n",
      "[I 2025-05-14 18:10:57,994] Trial 27 finished with value: 1.0496359999999998 and parameters: {'learning_rate': 0.17656446444218393, 'gamma': 0.7205322729485472, 'subsample': 0.5429848781735908, 'colsample_bytree': 0.5600827796500792, 'colsample_bylevel': 0.5663252084353888, 'colsample_bynode': 0.8304697528837748, 'reg_alpha': 0.00022691451798408156, 'reg_lambda': 0.0010937682402330307, 'max_depth': 4, 'min_child_weight': 5}. Best is trial 19 with value: 1.0488836666666668.\n",
      "[I 2025-05-14 18:10:58,008] Trial 26 finished with value: 1.049575 and parameters: {'learning_rate': 0.1659167698326755, 'gamma': 0.7793324947088003, 'subsample': 0.5391870483343619, 'colsample_bytree': 0.5238944183556562, 'colsample_bylevel': 0.5462675606625932, 'colsample_bynode': 0.8280721821634098, 'reg_alpha': 7.264682342312077e-05, 'reg_lambda': 0.0008363729434850691, 'max_depth': 4, 'min_child_weight': 4}. Best is trial 19 with value: 1.0488836666666668.\n",
      "[I 2025-05-14 18:10:58,035] Trial 24 finished with value: 1.048129 and parameters: {'learning_rate': 0.15549736771432518, 'gamma': 0.32614827122486534, 'subsample': 0.8648773457539737, 'colsample_bytree': 0.5164667709870351, 'colsample_bylevel': 0.8324548336790917, 'colsample_bynode': 0.5998505974894548, 'reg_alpha': 0.00014533983861986908, 'reg_lambda': 2.8747972922970684e-05, 'max_depth': 10, 'min_child_weight': 17}. Best is trial 24 with value: 1.048129.\n",
      "[I 2025-05-14 18:10:58,118] Trial 29 finished with value: 1.0507773333333332 and parameters: {'learning_rate': 0.17545389913154943, 'gamma': 0.7578813062588896, 'subsample': 0.5491421303760725, 'colsample_bytree': 0.531806631998254, 'colsample_bylevel': 0.5836613562839899, 'colsample_bynode': 0.40179554801082523, 'reg_alpha': 0.36968058426768874, 'reg_lambda': 8.70534264788854e-06, 'max_depth': 4, 'min_child_weight': 5}. Best is trial 24 with value: 1.048129.\n",
      "[I 2025-05-14 18:10:58,251] Trial 25 finished with value: 1.0450486666666665 and parameters: {'learning_rate': 0.1595940331613385, 'gamma': 0.00818819501779755, 'subsample': 0.5097686055193371, 'colsample_bytree': 0.5004132529093215, 'colsample_bylevel': 0.8336454126041507, 'colsample_bynode': 0.6247686995811663, 'reg_alpha': 0.00012620119151992643, 'reg_lambda': 0.00310697260906106, 'max_depth': 4, 'min_child_weight': 1}. Best is trial 25 with value: 1.0450486666666665.\n"
     ]
    },
    {
     "name": "stdout",
     "output_type": "stream",
     "text": [
      "--------------------\n",
      "Study concluded. Results:\n",
      "Best trial: 25\n",
      "Best loss: 1.0450486666666665\n",
      "Best params: {'learning_rate': 0.1595940331613385, 'gamma': 0.00818819501779755, 'subsample': 0.5097686055193371, 'colsample_bytree': 0.5004132529093215, 'colsample_bylevel': 0.8336454126041507, 'colsample_bynode': 0.6247686995811663, 'reg_alpha': 0.00012620119151992643, 'reg_lambda': 0.00310697260906106, 'max_depth': 4, 'min_child_weight': 1}\n",
      "Optimal boosting rounds: 30\n",
      "Study saved to /Users/arvindsuresh/Documents/Election-prediction-May-2025/2020-results-20250514/optuna/xgb_without_pca_study.pkl\n"
     ]
    }
   ],
   "source": [
    "xgb.run_optuna_study(min_resource=10, reduction_factor=3, n_trials=30, timeout=5, num_boost_rounds=30, early_stopping_rounds=10, use_pca=False)"
   ]
  },
  {
   "cell_type": "code",
   "execution_count": 5,
   "id": "8fc5ee22",
   "metadata": {},
   "outputs": [
    {
     "name": "stdout",
     "output_type": "stream",
     "text": [
      "Training xgb_without_pca for 30 boosting rounds...\n",
      "Using best params: {'learning_rate': 0.1595940331613385, 'gamma': 0.00818819501779755, 'subsample': 0.5097686055193371, 'colsample_bytree': 0.5004132529093215, 'colsample_bylevel': 0.8336454126041507, 'colsample_bynode': 0.6247686995811663, 'reg_alpha': 0.00012620119151992643, 'reg_lambda': 0.00310697260906106, 'max_depth': 4, 'min_child_weight': 1}\n",
      "Training completed in 0.10 seconds.\n",
      "Model saved to /Users/arvindsuresh/Documents/Election-prediction-May-2025/2020-results-20250514/models/xgb_without_pca_model.json\n"
     ]
    }
   ],
   "source": [
    "xgb.train_final_model()"
   ]
  },
  {
   "cell_type": "code",
   "execution_count": 6,
   "id": "6932f924",
   "metadata": {},
   "outputs": [
    {
     "name": "stdout",
     "output_type": "stream",
     "text": [
      "xgb_without_pca predictions saved to: /Users/arvindsuresh/Documents/Election-prediction-May-2025/2020-results-20250514/preds/xgb_without_pca_preds.csv.\n"
     ]
    },
    {
     "data": {
      "text/plain": [
       "array([[0.19433702, 0.15925298, 0.190814  , 0.22132495],\n",
       "       [0.20008607, 0.16396415, 0.19645883, 0.22787239],\n",
       "       [0.20124332, 0.16491248, 0.19759511, 0.22919035],\n",
       "       ...,\n",
       "       [0.18291511, 0.14989309, 0.17959915, 0.20831686],\n",
       "       [0.19827102, 0.16247677, 0.19467669, 0.22580528],\n",
       "       [0.20196346, 0.16550261, 0.19830218, 0.23001049]], shape=(3090, 4))"
      ]
     },
     "execution_count": 6,
     "metadata": {},
     "output_type": "execute_result"
    }
   ],
   "source": [
    "xgb.make_final_predictions()"
   ]
  },
  {
   "cell_type": "code",
   "execution_count": 7,
   "id": "8465a6e3",
   "metadata": {},
   "outputs": [
    {
     "name": "stdout",
     "output_type": "stream",
     "text": [
      "XGBoostModel initialized with model name: xgb_without_pca\n",
      "Optuna study will be stored in  : /Users/arvindsuresh/Documents/Election-prediction-May-2025/2020-results-20250514/optuna/xgb_without_pca_study.pkl\n",
      "Trained model will be stored in : /Users/arvindsuresh/Documents/Election-prediction-May-2025/2020-results-20250514/models/xgb_without_pca_model.json\n",
      "Final preds will be stored in   : /Users/arvindsuresh/Documents/Election-prediction-May-2025/2020-results-20250514/preds/xgb_without_pca_preds.csv\n",
      "Study loaded from /Users/arvindsuresh/Documents/Election-prediction-May-2025/2020-results-20250514/optuna/xgb_without_pca_study.pkl\n",
      "{'learning_rate': 0.1595940331613385, 'gamma': 0.00818819501779755, 'subsample': 0.5097686055193371, 'colsample_bytree': 0.5004132529093215, 'colsample_bylevel': 0.8336454126041507, 'colsample_bynode': 0.6247686995811663, 'reg_alpha': 0.00012620119151992643, 'reg_lambda': 0.00310697260906106, 'max_depth': 4, 'min_child_weight': 1}\n"
     ]
    }
   ],
   "source": [
    "check = XGBoostModel(dh, 'xgb_without_pca')\n",
    "study = check.load_optuna_study()\n",
    "print(study.best_params)"
   ]
  },
  {
   "cell_type": "code",
   "execution_count": 8,
   "id": "60666b91",
   "metadata": {},
   "outputs": [
    {
     "name": "stdout",
     "output_type": "stream",
     "text": [
      "Model loaded from /Users/arvindsuresh/Documents/Election-prediction-May-2025/2020-results-20250514/models/xgb_without_pca_model.json\n"
     ]
    }
   ],
   "source": [
    "check.load_model()"
   ]
  }
 ],
 "metadata": {
  "kernelspec": {
   "display_name": "math392",
   "language": "python",
   "name": "python3"
  },
  "language_info": {
   "codemirror_mode": {
    "name": "ipython",
    "version": 3
   },
   "file_extension": ".py",
   "mimetype": "text/x-python",
   "name": "python",
   "nbconvert_exporter": "python",
   "pygments_lexer": "ipython3",
   "version": "3.11.8"
  }
 },
 "nbformat": 4,
 "nbformat_minor": 5
}
