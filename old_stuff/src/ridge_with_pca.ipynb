{
 "cells": [
  {
   "cell_type": "code",
   "execution_count": 1,
   "id": "f2708ca3",
   "metadata": {},
   "outputs": [
    {
     "name": "stdout",
     "output_type": "stream",
     "text": [
      "DataHandler initialized - Using 114 features - Test year: 2020\n"
     ]
    }
   ],
   "source": [
    "from data_handling import DataHandler\n",
    "from ridge_model import RidgeModel\n",
    "\n",
    "dh = DataHandler()"
   ]
  },
  {
   "cell_type": "code",
   "execution_count": 2,
   "id": "7c110364",
   "metadata": {},
   "outputs": [
    {
     "name": "stdout",
     "output_type": "stream",
     "text": [
      "RidgeModel initialized with model name: ridge_with_pca\n",
      "Optuna study will be stored in  : /Users/arvindsuresh/Documents/Election-prediction-May-2025/2020-results-20250514/optuna/ridge_with_pca_study.pkl\n",
      "Trained model will be stored in : /Users/arvindsuresh/Documents/Election-prediction-May-2025/2020-results-20250514/models/ridge_with_pca_model.pkl\n",
      "Final preds will be stored in   : /Users/arvindsuresh/Documents/Election-prediction-May-2025/2020-results-20250514/preds/ridge_with_pca_preds.csv\n"
     ]
    }
   ],
   "source": [
    "ridge = RidgeModel(dh, 'ridge_with_pca')"
   ]
  },
  {
   "cell_type": "code",
   "execution_count": 3,
   "id": "3a6b4c6a",
   "metadata": {},
   "outputs": [
    {
     "name": "stderr",
     "output_type": "stream",
     "text": [
      "[I 2025-05-14 15:37:29,076] A new study created in memory with name: ridge_with_pca_study\n",
      "[I 2025-05-14 15:37:29,198] Trial 0 finished with value: 0.0019099053149859782 and parameters: {'alpha': 4.0322561562851185, 'n_components': 10}. Best is trial 0 with value: 0.0019099053149859782.\n",
      "[I 2025-05-14 15:37:29,276] Trial 1 finished with value: 0.001707446844307739 and parameters: {'alpha': 4.80585801128871, 'n_components': 40}. Best is trial 1 with value: 0.001707446844307739.\n",
      "[I 2025-05-14 15:37:29,358] Trial 2 finished with value: 0.0016531014583839616 and parameters: {'alpha': 7.160410971342719e-05, 'n_components': 80}. Best is trial 2 with value: 0.0016531014583839616.\n",
      "[I 2025-05-14 15:37:29,449] Trial 3 finished with value: 0.0015269952940182845 and parameters: {'alpha': 1.18893251635155, 'n_components': 90}. Best is trial 3 with value: 0.0015269952940182845.\n",
      "[I 2025-05-14 15:37:29,542] Trial 4 finished with value: 0.0018618239225072627 and parameters: {'alpha': 8.829289627035381, 'n_components': 60}. Best is trial 3 with value: 0.0015269952940182845.\n",
      "[I 2025-05-14 15:37:29,638] Trial 5 finished with value: 0.001509305852677682 and parameters: {'alpha': 0.00026209732773346974, 'n_components': 100}. Best is trial 5 with value: 0.001509305852677682.\n",
      "[I 2025-05-14 15:37:29,720] Trial 6 finished with value: 0.0016683940521902841 and parameters: {'alpha': 8.278984708575659e-06, 'n_components': 50}. Best is trial 5 with value: 0.001509305852677682.\n",
      "[I 2025-05-14 15:37:29,832] Trial 7 finished with value: 0.0016322884840674753 and parameters: {'alpha': 0.08217838285217739, 'n_components': 70}. Best is trial 5 with value: 0.001509305852677682.\n",
      "[I 2025-05-14 15:37:29,904] Trial 8 finished with value: 0.0016397186681372659 and parameters: {'alpha': 0.04261215576791036, 'n_components': 20}. Best is trial 5 with value: 0.001509305852677682.\n",
      "[I 2025-05-14 15:37:29,992] Trial 9 finished with value: 0.0015262516363147287 and parameters: {'alpha': 0.4373514237655234, 'n_components': 80}. Best is trial 5 with value: 0.001509305852677682.\n",
      "[I 2025-05-14 15:37:30,095] Trial 10 finished with value: 0.0015171120691847301 and parameters: {'alpha': 0.000666056872633079, 'n_components': 110}. Best is trial 5 with value: 0.001509305852677682.\n",
      "[I 2025-05-14 15:37:30,190] Trial 11 finished with value: 0.0015148628830737119 and parameters: {'alpha': 0.0007658683598320837, 'n_components': 110}. Best is trial 5 with value: 0.001509305852677682.\n",
      "[I 2025-05-14 15:37:30,280] Trial 12 finished with value: 0.0015077614193019738 and parameters: {'alpha': 0.0014719810098742059, 'n_components': 110}. Best is trial 12 with value: 0.0015077614193019738.\n",
      "[I 2025-05-14 15:37:30,378] Trial 13 finished with value: 0.0015270232231281104 and parameters: {'alpha': 0.006391972907622335, 'n_components': 100}. Best is trial 12 with value: 0.0015077614193019738.\n",
      "[I 2025-05-14 15:37:30,476] Trial 14 finished with value: 0.0015085265851918297 and parameters: {'alpha': 3.9831897456931956e-05, 'n_components': 100}. Best is trial 12 with value: 0.0015077614193019738.\n",
      "[I 2025-05-14 15:37:30,563] Trial 15 finished with value: 0.0016732241763256835 and parameters: {'alpha': 1.210455464316687e-06, 'n_components': 90}. Best is trial 12 with value: 0.0015077614193019738.\n",
      "[I 2025-05-14 15:37:30,679] Trial 16 finished with value: 0.0015644828574854798 and parameters: {'alpha': 2.007255861815382e-05, 'n_components': 110}. Best is trial 12 with value: 0.0015077614193019738.\n",
      "[I 2025-05-14 15:37:30,766] Trial 17 finished with value: 0.0016563042950181468 and parameters: {'alpha': 0.01240290593473656, 'n_components': 90}. Best is trial 12 with value: 0.0015077614193019738.\n",
      "[I 2025-05-14 15:37:30,850] Trial 18 finished with value: 0.0016856551361088192 and parameters: {'alpha': 1.0026766041495983e-06, 'n_components': 70}. Best is trial 12 with value: 0.0015077614193019738.\n",
      "[I 2025-05-14 15:37:30,921] Trial 19 finished with value: 0.0016575409608969955 and parameters: {'alpha': 7.454006474784337e-05, 'n_components': 40}. Best is trial 12 with value: 0.0015077614193019738.\n",
      "[I 2025-05-14 15:37:31,026] Trial 20 finished with value: 0.0015176509258998784 and parameters: {'alpha': 0.0028321140307992552, 'n_components': 100}. Best is trial 12 with value: 0.0015077614193019738.\n",
      "[I 2025-05-14 15:37:31,127] Trial 21 finished with value: 0.001509317342002726 and parameters: {'alpha': 0.0002653908523822171, 'n_components': 100}. Best is trial 12 with value: 0.0015077614193019738.\n",
      "[I 2025-05-14 15:37:31,223] Trial 22 finished with value: 0.0015461895284888665 and parameters: {'alpha': 0.00014468409375275156, 'n_components': 110}. Best is trial 12 with value: 0.0015077614193019738.\n",
      "[I 2025-05-14 15:37:31,317] Trial 23 finished with value: 0.0015084481655963336 and parameters: {'alpha': 1.758176520983984e-05, 'n_components': 100}. Best is trial 12 with value: 0.0015077614193019738.\n",
      "[I 2025-05-14 15:37:31,389] Trial 24 finished with value: 0.0016531615533179184 and parameters: {'alpha': 1.1995915715732492e-05, 'n_components': 80}. Best is trial 12 with value: 0.0015077614193019738.\n",
      "[I 2025-05-14 15:37:31,477] Trial 25 finished with value: 0.0016732196250752653 and parameters: {'alpha': 4.196165579849543e-06, 'n_components': 90}. Best is trial 12 with value: 0.0015077614193019738.\n",
      "[I 2025-05-14 15:37:31,566] Trial 26 finished with value: 0.0015129510370612536 and parameters: {'alpha': 0.0013359640401667977, 'n_components': 100}. Best is trial 12 with value: 0.0015077614193019738.\n",
      "[I 2025-05-14 15:37:31,662] Trial 27 finished with value: 0.0016856337912732732 and parameters: {'alpha': 2.651265418161964e-05, 'n_components': 70}. Best is trial 12 with value: 0.0015077614193019738.\n",
      "[I 2025-05-14 15:37:31,763] Trial 28 finished with value: 0.0015672426426240193 and parameters: {'alpha': 5.890911786134285e-06, 'n_components': 110}. Best is trial 12 with value: 0.0015077614193019738.\n",
      "[I 2025-05-14 15:37:31,847] Trial 29 finished with value: 0.0016412833489902396 and parameters: {'alpha': 5.347675684554051e-05, 'n_components': 20}. Best is trial 12 with value: 0.0015077614193019738.\n",
      "[I 2025-05-14 15:37:31,936] Trial 30 finished with value: 0.0016531704301959206 and parameters: {'alpha': 3.1948355452047465e-06, 'n_components': 80}. Best is trial 12 with value: 0.0015077614193019738.\n",
      "[I 2025-05-14 15:37:32,026] Trial 31 finished with value: 0.0015096283814400393 and parameters: {'alpha': 0.00035474502916760036, 'n_components': 100}. Best is trial 12 with value: 0.0015077614193019738.\n",
      "[I 2025-05-14 15:37:32,103] Trial 32 finished with value: 0.001508921051614498 and parameters: {'alpha': 0.0001520726243795425, 'n_components': 100}. Best is trial 12 with value: 0.0015077614193019738.\n",
      "[I 2025-05-14 15:37:32,200] Trial 33 finished with value: 0.0016731198935445394 and parameters: {'alpha': 6.966529494658226e-05, 'n_components': 90}. Best is trial 12 with value: 0.0015077614193019738.\n",
      "[I 2025-05-14 15:37:32,290] Trial 34 finished with value: 0.001506671328703071 and parameters: {'alpha': 0.002081614089589167, 'n_components': 110}. Best is trial 34 with value: 0.001506671328703071.\n",
      "[I 2025-05-14 15:37:32,373] Trial 35 finished with value: 0.00155005952032892 and parameters: {'alpha': 0.03803640839261542, 'n_components': 110}. Best is trial 34 with value: 0.001506671328703071.\n",
      "[I 2025-05-14 15:37:32,468] Trial 36 finished with value: 0.0015067160282915863 and parameters: {'alpha': 0.0022975843637405013, 'n_components': 110}. Best is trial 34 with value: 0.001506671328703071.\n",
      "[I 2025-05-14 15:37:32,564] Trial 37 finished with value: 0.0015073131648840816 and parameters: {'alpha': 0.0028255135839964983, 'n_components': 110}. Best is trial 34 with value: 0.001506671328703071.\n",
      "[I 2025-05-14 15:37:32,656] Trial 38 finished with value: 0.0015075490551402324 and parameters: {'alpha': 0.0029651871529413794, 'n_components': 110}. Best is trial 34 with value: 0.001506671328703071.\n",
      "[I 2025-05-14 15:37:32,724] Trial 39 finished with value: 0.0016622178120131673 and parameters: {'alpha': 0.010108799274599877, 'n_components': 50}. Best is trial 34 with value: 0.001506671328703071.\n",
      "[I 2025-05-14 15:37:32,806] Trial 40 finished with value: 0.0016672788166700017 and parameters: {'alpha': 0.004052974372918402, 'n_components': 90}. Best is trial 34 with value: 0.001506671328703071.\n",
      "[I 2025-05-14 15:37:32,904] Trial 41 finished with value: 0.0015066795908453556 and parameters: {'alpha': 0.00204612723099785, 'n_components': 110}. Best is trial 34 with value: 0.001506671328703071.\n",
      "[I 2025-05-14 15:37:32,996] Trial 42 finished with value: 0.0015346797866632224 and parameters: {'alpha': 0.01630008685387298, 'n_components': 110}. Best is trial 34 with value: 0.001506671328703071.\n",
      "[I 2025-05-14 15:37:33,124] Trial 43 finished with value: 0.0015067374805875042 and parameters: {'alpha': 0.0019374395445315464, 'n_components': 110}. Best is trial 34 with value: 0.001506671328703071.\n",
      "[I 2025-05-14 15:37:33,214] Trial 44 finished with value: 0.0015085511941652513 and parameters: {'alpha': 0.001311884859172876, 'n_components': 110}. Best is trial 34 with value: 0.001506671328703071.\n",
      "[I 2025-05-14 15:37:33,282] Trial 45 finished with value: 0.0018810298840607692 and parameters: {'alpha': 0.2505865876467281, 'n_components': 10}. Best is trial 34 with value: 0.001506671328703071.\n",
      "[I 2025-05-14 15:37:33,385] Trial 46 finished with value: 0.0015446804350169607 and parameters: {'alpha': 0.026590486062778564, 'n_components': 110}. Best is trial 34 with value: 0.001506671328703071.\n",
      "[I 2025-05-14 15:37:33,497] Trial 47 finished with value: 0.0015516750466921612 and parameters: {'alpha': 0.09946420374814036, 'n_components': 100}. Best is trial 34 with value: 0.001506671328703071.\n",
      "[I 2025-05-14 15:37:33,598] Trial 48 finished with value: 0.001672269854405068 and parameters: {'alpha': 0.0006310525356260539, 'n_components': 90}. Best is trial 34 with value: 0.001506671328703071.\n",
      "[I 2025-05-14 15:37:33,689] Trial 49 finished with value: 0.001525668487531962 and parameters: {'alpha': 0.005815712615111348, 'n_components': 100}. Best is trial 34 with value: 0.001506671328703071.\n",
      "[I 2025-05-14 15:37:33,781] Trial 50 finished with value: 0.0015066843867939227 and parameters: {'alpha': 0.0022252284923722134, 'n_components': 110}. Best is trial 34 with value: 0.001506671328703071.\n",
      "[I 2025-05-14 15:37:33,870] Trial 51 finished with value: 0.0015067701107549618 and parameters: {'alpha': 0.0023803592077617577, 'n_components': 110}. Best is trial 34 with value: 0.001506671328703071.\n",
      "[I 2025-05-14 15:37:33,965] Trial 52 finished with value: 0.0015150818038683217 and parameters: {'alpha': 0.0007550658224090899, 'n_components': 110}. Best is trial 34 with value: 0.001506671328703071.\n",
      "[I 2025-05-14 15:37:34,069] Trial 53 finished with value: 0.0015149100920943508 and parameters: {'alpha': 0.0019419661765151914, 'n_components': 100}. Best is trial 34 with value: 0.001506671328703071.\n",
      "[I 2025-05-14 15:37:34,176] Trial 54 finished with value: 0.001517169840515293 and parameters: {'alpha': 0.006904568198010233, 'n_components': 110}. Best is trial 34 with value: 0.001506671328703071.\n",
      "[I 2025-05-14 15:37:34,297] Trial 55 finished with value: 0.00172444083234524 and parameters: {'alpha': 0.0004844585764226115, 'n_components': 60}. Best is trial 34 with value: 0.001506671328703071.\n",
      "[I 2025-05-14 15:37:34,386] Trial 56 finished with value: 0.001509753769438549 and parameters: {'alpha': 0.0011447648778546142, 'n_components': 110}. Best is trial 34 with value: 0.001506671328703071.\n",
      "[I 2025-05-14 15:37:34,478] Trial 57 finished with value: 0.0015474903115433054 and parameters: {'alpha': 0.020859928960170127, 'n_components': 100}. Best is trial 34 with value: 0.001506671328703071.\n",
      "[I 2025-05-14 15:37:34,578] Trial 58 finished with value: 0.0016613105295204104 and parameters: {'alpha': 0.008444914388397664, 'n_components': 90}. Best is trial 34 with value: 0.001506671328703071.\n",
      "[I 2025-05-14 15:37:34,672] Trial 59 finished with value: 0.0015438542906238625 and parameters: {'alpha': 0.00016601777760993233, 'n_components': 110}. Best is trial 34 with value: 0.001506671328703071.\n",
      "[I 2025-05-14 15:37:34,772] Trial 60 finished with value: 0.0015235100739615325 and parameters: {'alpha': 0.004945999501364898, 'n_components': 100}. Best is trial 34 with value: 0.001506671328703071.\n",
      "[I 2025-05-14 15:37:34,872] Trial 61 finished with value: 0.0015067043538826933 and parameters: {'alpha': 0.0022746743486053113, 'n_components': 110}. Best is trial 34 with value: 0.001506671328703071.\n",
      "[I 2025-05-14 15:37:34,963] Trial 62 finished with value: 0.0015069296248024291 and parameters: {'alpha': 0.002547527100257608, 'n_components': 110}. Best is trial 34 with value: 0.001506671328703071.\n",
      "[I 2025-05-14 15:37:35,071] Trial 63 finished with value: 0.0015110303009169285 and parameters: {'alpha': 0.001016576361260955, 'n_components': 110}. Best is trial 34 with value: 0.001506671328703071.\n",
      "[I 2025-05-14 15:37:35,183] Trial 64 finished with value: 0.001513878910780862 and parameters: {'alpha': 0.001620129182035872, 'n_components': 100}. Best is trial 34 with value: 0.001506671328703071.\n",
      "[I 2025-05-14 15:37:35,302] Trial 65 finished with value: 0.0015256999008025965 and parameters: {'alpha': 0.00042039033498246834, 'n_components': 110}. Best is trial 34 with value: 0.001506671328703071.\n",
      "[I 2025-05-14 15:37:35,391] Trial 66 finished with value: 0.0015205621968667309 and parameters: {'alpha': 0.0038420365064463307, 'n_components': 100}. Best is trial 34 with value: 0.001506671328703071.\n",
      "[I 2025-05-14 15:37:35,465] Trial 67 finished with value: 0.001639845140353111 and parameters: {'alpha': 0.014426499896369956, 'n_components': 80}. Best is trial 34 with value: 0.001506671328703071.\n",
      "[I 2025-05-14 15:37:35,567] Trial 68 finished with value: 0.0015382151443181086 and parameters: {'alpha': 0.00022533022041506406, 'n_components': 110}. Best is trial 34 with value: 0.001506671328703071.\n",
      "[I 2025-05-14 15:37:35,642] Trial 69 finished with value: 0.001582724863542247 and parameters: {'alpha': 0.001817546491754032, 'n_components': 30}. Best is trial 34 with value: 0.001506671328703071.\n",
      "[I 2025-05-14 15:37:35,728] Trial 70 finished with value: 0.0015112838839693471 and parameters: {'alpha': 0.0008370923337876398, 'n_components': 100}. Best is trial 34 with value: 0.001506671328703071.\n",
      "[I 2025-05-14 15:37:35,844] Trial 71 finished with value: 0.00155982008082469 and parameters: {'alpha': 1.922931286272282, 'n_components': 110}. Best is trial 34 with value: 0.001506671328703071.\n",
      "[I 2025-05-14 15:37:35,945] Trial 72 finished with value: 0.0015068283701998543 and parameters: {'alpha': 0.002449380507925027, 'n_components': 110}. Best is trial 34 with value: 0.001506671328703071.\n",
      "[I 2025-05-14 15:37:36,064] Trial 73 finished with value: 0.0015067325936227666 and parameters: {'alpha': 0.002326083001734065, 'n_components': 110}. Best is trial 34 with value: 0.001506671328703071.\n",
      "[I 2025-05-14 15:37:36,146] Trial 74 finished with value: 0.0015250040059506583 and parameters: {'alpha': 0.005541901953925772, 'n_components': 100}. Best is trial 34 with value: 0.001506671328703071.\n",
      "[I 2025-05-14 15:37:36,235] Trial 75 finished with value: 0.0015226651525823687 and parameters: {'alpha': 0.009291508003262785, 'n_components': 110}. Best is trial 34 with value: 0.001506671328703071.\n",
      "[I 2025-05-14 15:37:36,332] Trial 76 finished with value: 0.0016723950374998454 and parameters: {'alpha': 0.0005479974298709527, 'n_components': 90}. Best is trial 34 with value: 0.001506671328703071.\n",
      "[I 2025-05-14 15:37:36,434] Trial 77 finished with value: 0.001509529594575389 and parameters: {'alpha': 0.0038866691451897046, 'n_components': 110}. Best is trial 34 with value: 0.001506671328703071.\n",
      "[I 2025-05-14 15:37:36,546] Trial 78 finished with value: 0.001509306735332886 and parameters: {'alpha': 0.00026235033163261645, 'n_components': 100}. Best is trial 34 with value: 0.001506671328703071.\n",
      "[I 2025-05-14 15:37:36,652] Trial 79 finished with value: 0.0015070042113212855 and parameters: {'alpha': 0.0017338163160492707, 'n_components': 110}. Best is trial 34 with value: 0.001506671328703071.\n",
      "[I 2025-05-14 15:37:36,738] Trial 80 finished with value: 0.001556548944735452 and parameters: {'alpha': 0.060312301271930234, 'n_components': 100}. Best is trial 34 with value: 0.001506671328703071.\n",
      "[I 2025-05-14 15:37:36,820] Trial 81 finished with value: 0.0015066773794999502 and parameters: {'alpha': 0.0022011849241813175, 'n_components': 110}. Best is trial 34 with value: 0.001506671328703071.\n",
      "[I 2025-05-14 15:37:36,913] Trial 82 finished with value: 0.0015097465846557571 and parameters: {'alpha': 0.0011455991688106807, 'n_components': 110}. Best is trial 34 with value: 0.001506671328703071.\n",
      "[I 2025-05-14 15:37:37,026] Trial 83 finished with value: 0.001506737189447838 and parameters: {'alpha': 0.00233337974542162, 'n_components': 110}. Best is trial 34 with value: 0.001506671328703071.\n",
      "[I 2025-05-14 15:37:37,128] Trial 84 finished with value: 0.0015197640603292512 and parameters: {'alpha': 0.003557838556178782, 'n_components': 100}. Best is trial 34 with value: 0.001506671328703071.\n",
      "[I 2025-05-14 15:37:37,235] Trial 85 finished with value: 0.0015148221948713973 and parameters: {'alpha': 0.0007679060816233805, 'n_components': 110}. Best is trial 34 with value: 0.001506671328703071.\n",
      "[I 2025-05-14 15:37:37,389] Trial 86 finished with value: 0.001519675212917023 and parameters: {'alpha': 0.00795249244454091, 'n_components': 110}. Best is trial 34 with value: 0.001506671328703071.\n",
      "[I 2025-05-14 15:37:37,501] Trial 87 finished with value: 0.001507924651001325 and parameters: {'alpha': 0.0014334558928685295, 'n_components': 110}. Best is trial 34 with value: 0.001506671328703071.\n",
      "[I 2025-05-14 15:37:37,608] Trial 88 finished with value: 0.0015095012271449356 and parameters: {'alpha': 0.000318171564166919, 'n_components': 100}. Best is trial 34 with value: 0.001506671328703071.\n",
      "[I 2025-05-14 15:37:37,722] Trial 89 finished with value: 0.0015125841758560745 and parameters: {'alpha': 0.005096611028336553, 'n_components': 110}. Best is trial 34 with value: 0.001506671328703071.\n",
      "[I 2025-05-14 15:37:37,805] Trial 90 finished with value: 0.0016512000497251637 and parameters: {'alpha': 0.012383030675452333, 'n_components': 40}. Best is trial 34 with value: 0.001506671328703071.\n",
      "[I 2025-05-14 15:37:37,920] Trial 91 finished with value: 0.0015066793552912714 and parameters: {'alpha': 0.0022086331651152992, 'n_components': 110}. Best is trial 34 with value: 0.001506671328703071.\n",
      "[I 2025-05-14 15:37:38,051] Trial 92 finished with value: 0.0015066714973792116 and parameters: {'alpha': 0.0021728193796876146, 'n_components': 110}. Best is trial 34 with value: 0.001506671328703071.\n",
      "[I 2025-05-14 15:37:38,167] Trial 93 finished with value: 0.0015109769285269563 and parameters: {'alpha': 0.001021271609996862, 'n_components': 110}. Best is trial 34 with value: 0.001506671328703071.\n",
      "[I 2025-05-14 15:37:38,271] Trial 94 finished with value: 0.0015182719397575529 and parameters: {'alpha': 0.00304156192192952, 'n_components': 100}. Best is trial 34 with value: 0.001506671328703071.\n",
      "[I 2025-05-14 15:37:38,362] Trial 95 finished with value: 0.0015199854938918117 and parameters: {'alpha': 0.0005657565176179207, 'n_components': 110}. Best is trial 34 with value: 0.001506671328703071.\n",
      "[I 2025-05-14 15:37:38,457] Trial 96 finished with value: 0.0015154355095830727 and parameters: {'alpha': 0.002108553374287272, 'n_components': 100}. Best is trial 34 with value: 0.001506671328703071.\n",
      "[I 2025-05-14 15:37:38,560] Trial 97 finished with value: 0.0015104109862887852 and parameters: {'alpha': 0.0042456080822552335, 'n_components': 110}. Best is trial 34 with value: 0.001506671328703071.\n",
      "[I 2025-05-14 15:37:38,649] Trial 98 finished with value: 0.001664417778999644 and parameters: {'alpha': 0.006454138031635964, 'n_components': 50}. Best is trial 34 with value: 0.001506671328703071.\n",
      "[I 2025-05-14 15:37:38,750] Trial 99 finished with value: 0.0015445452064449415 and parameters: {'alpha': 0.02639218876855254, 'n_components': 110}. Best is trial 34 with value: 0.001506671328703071.\n"
     ]
    },
    {
     "name": "stdout",
     "output_type": "stream",
     "text": [
      "Best alpha: 0.002081614089589167\n",
      "Best n_components: 110\n",
      "Optuna study saved to: /Users/arvindsuresh/Documents/Election-prediction-May-2025/2020-results-20250514/optuna/ridge_with_pca_study.pkl\n"
     ]
    }
   ],
   "source": [
    "ridge.run_optuna_study(n_trials=100, use_pca=True)"
   ]
  },
  {
   "cell_type": "code",
   "execution_count": 4,
   "id": "f6d367de",
   "metadata": {},
   "outputs": [
    {
     "name": "stdout",
     "output_type": "stream",
     "text": [
      "Updated best_params: {'alpha': 0.002081614089589167, 'n_components': 110}\n",
      "Model saved to: /Users/arvindsuresh/Documents/Election-prediction-May-2025/2020-results-20250514/models/ridge_with_pca_model.pkl\n"
     ]
    }
   ],
   "source": [
    "ridge.train_final_model()"
   ]
  },
  {
   "cell_type": "code",
   "execution_count": null,
   "id": "0c7d69d9",
   "metadata": {},
   "outputs": [
    {
     "name": "stdout",
     "output_type": "stream",
     "text": [
      "Predictions saved to: /Users/arvindsuresh/Documents/Election-prediction-May-2025/2020-results-20250514/preds/ridge_with_pca_preds.csv\n"
     ]
    },
    {
     "data": {
      "text/plain": [
       "array([[0.12068393, 0.02202264, 0.27988527, 0.34387202],\n",
       "       [0.13661395, 0.0348029 , 0.30440974, 0.31256396],\n",
       "       [0.19956774, 0.01892169, 0.19377284, 0.38103773],\n",
       "       ...,\n",
       "       [0.10262987, 0.04451384, 0.26854936, 0.30533852],\n",
       "       [0.13737304, 0.03874506, 0.32684538, 0.27896038],\n",
       "       [0.03636304, 0.06140138, 0.28666173, 0.41263746]], shape=(3090, 4))"
      ]
     },
     "execution_count": 5,
     "metadata": {},
     "output_type": "execute_result"
    }
   ],
   "source": [
    "ridge.make_final_predictions()"
   ]
  },
  {
   "cell_type": "code",
   "execution_count": 6,
   "id": "2c38bf3b",
   "metadata": {},
   "outputs": [
    {
     "name": "stdout",
     "output_type": "stream",
     "text": [
      "RidgeModel initialized with model name: ridge_with_pca\n",
      "Optuna study will be stored in  : /Users/arvindsuresh/Documents/Election-prediction-May-2025/2020-results-20250514/optuna/ridge_with_pca_study.pkl\n",
      "Trained model will be stored in : /Users/arvindsuresh/Documents/Election-prediction-May-2025/2020-results-20250514/models/ridge_with_pca_model.pkl\n",
      "Final preds will be stored in   : /Users/arvindsuresh/Documents/Election-prediction-May-2025/2020-results-20250514/preds/ridge_with_pca_preds.csv\n"
     ]
    }
   ],
   "source": [
    "check = RidgeModel(dh, 'ridge_with_pca')"
   ]
  },
  {
   "cell_type": "code",
   "execution_count": 7,
   "id": "719b5bb7",
   "metadata": {},
   "outputs": [],
   "source": [
    "study = check.load_optuna_study()"
   ]
  },
  {
   "cell_type": "code",
   "execution_count": 8,
   "id": "83da5781",
   "metadata": {},
   "outputs": [
    {
     "data": {
      "text/plain": [
       "{'alpha': 0.002081614089589167, 'n_components': 110}"
      ]
     },
     "execution_count": 8,
     "metadata": {},
     "output_type": "execute_result"
    }
   ],
   "source": [
    "study.best_params"
   ]
  },
  {
   "cell_type": "code",
   "execution_count": 10,
   "id": "ff4c3f99",
   "metadata": {},
   "outputs": [
    {
     "name": "stdout",
     "output_type": "stream",
     "text": [
      "Model loaded from: /Users/arvindsuresh/Documents/Election-prediction-May-2025/2020-results-20250514/models/ridge_with_pca_model.pkl\n"
     ]
    }
   ],
   "source": [
    "check.load_model()"
   ]
  },
  {
   "cell_type": "code",
   "execution_count": 11,
   "id": "c63e574c",
   "metadata": {},
   "outputs": [
    {
     "name": "stdout",
     "output_type": "stream",
     "text": [
      "Ridge(alpha=0.002081614089589167)\n"
     ]
    }
   ],
   "source": [
    "print(check.model)"
   ]
  }
 ],
 "metadata": {
  "kernelspec": {
   "display_name": "math392",
   "language": "python",
   "name": "python3"
  },
  "language_info": {
   "codemirror_mode": {
    "name": "ipython",
    "version": 3
   },
   "file_extension": ".py",
   "mimetype": "text/x-python",
   "name": "python",
   "nbconvert_exporter": "python",
   "pygments_lexer": "ipython3",
   "version": "3.11.8"
  }
 },
 "nbformat": 4,
 "nbformat_minor": 5
}
