{
 "cells": [
  {
   "cell_type": "code",
   "execution_count": 1,
   "id": "b303b656",
   "metadata": {},
   "outputs": [],
   "source": [
    "from data_handling import DataHandler\n",
    "from ridge_model import RidgeModel\n",
    "import numpy as np\n",
    "import pandas as pd"
   ]
  },
  {
   "cell_type": "code",
   "execution_count": 2,
   "id": "da37bdab",
   "metadata": {},
   "outputs": [
    {
     "name": "stdout",
     "output_type": "stream",
     "text": [
      "DataHandler initialized - Using 114 features - Test year: 2020\n"
     ]
    }
   ],
   "source": [
    "dh = DataHandler()"
   ]
  },
  {
   "cell_type": "code",
   "execution_count": 3,
   "id": "d8c7163a",
   "metadata": {},
   "outputs": [
    {
     "name": "stdout",
     "output_type": "stream",
     "text": [
      "RidgeModel initialized with model name: ridge_without_pca\n",
      "Optuna study will be stored in  : /Users/arvindsuresh/Documents/Election-prediction-May-2025/2020-results-20250514/optuna/ridge_without_pca_study.pkl\n",
      "Trained model will be stored in : /Users/arvindsuresh/Documents/Election-prediction-May-2025/2020-results-20250514/models/ridge_without_pca_model.pkl\n",
      "Final preds will be stored in   : /Users/arvindsuresh/Documents/Election-prediction-May-2025/2020-results-20250514/preds/ridge_without_pca_preds.csv\n"
     ]
    }
   ],
   "source": [
    "ridge = RidgeModel(dh, 'ridge_without_pca')"
   ]
  },
  {
   "cell_type": "code",
   "execution_count": 4,
   "id": "ac23847f",
   "metadata": {},
   "outputs": [
    {
     "name": "stderr",
     "output_type": "stream",
     "text": [
      "[I 2025-05-14 15:29:12,192] A new study created in memory with name: ridge_without_pca_study\n",
      "[I 2025-05-14 15:29:12,302] Trial 0 finished with value: 0.0015283076081621019 and parameters: {'alpha': 0.012181165853515597}. Best is trial 0 with value: 0.0015283076081621019.\n",
      "[I 2025-05-14 15:29:12,387] Trial 1 finished with value: 0.001544906077087016 and parameters: {'alpha': 0.00015620384701113484}. Best is trial 0 with value: 0.0015283076081621019.\n",
      "[I 2025-05-14 15:29:12,462] Trial 2 finished with value: 0.0015418413060761004 and parameters: {'alpha': 0.0001858174745089739}. Best is trial 0 with value: 0.0015283076081621019.\n",
      "[I 2025-05-14 15:29:12,561] Trial 3 finished with value: 0.0015736374716117513 and parameters: {'alpha': 2.182522265086284}. Best is trial 0 with value: 0.0015283076081621019.\n",
      "[I 2025-05-14 15:29:12,626] Trial 4 finished with value: 0.001527579320796419 and parameters: {'alpha': 0.011775597842125647}. Best is trial 4 with value: 0.001527579320796419.\n",
      "[I 2025-05-14 15:29:12,701] Trial 5 finished with value: 0.0015225155784615114 and parameters: {'alpha': 0.0004944582078913725}. Best is trial 5 with value: 0.0015225155784615114.\n",
      "[I 2025-05-14 15:29:12,780] Trial 6 finished with value: 0.0015671788347116752 and parameters: {'alpha': 6.208684597384254e-06}. Best is trial 5 with value: 0.0015225155784615114.\n",
      "[I 2025-05-14 15:29:12,841] Trial 7 finished with value: 0.001523022629531195 and parameters: {'alpha': 1.1824412059382907}. Best is trial 5 with value: 0.0015225155784615114.\n",
      "[I 2025-05-14 15:29:12,910] Trial 8 finished with value: 0.0015435231573854952 and parameters: {'alpha': 0.1359591124758791}. Best is trial 5 with value: 0.0015225155784615114.\n",
      "[I 2025-05-14 15:29:13,009] Trial 9 finished with value: 0.001544136027346055 and parameters: {'alpha': 0.025807636288636394}. Best is trial 5 with value: 0.0015225155784615114.\n"
     ]
    },
    {
     "name": "stdout",
     "output_type": "stream",
     "text": [
      "Best alpha: 0.0004944582078913725\n",
      "Optuna study saved to: /Users/arvindsuresh/Documents/Election-prediction-May-2025/2020-results-20250514/optuna/ridge_without_pca_study.pkl\n"
     ]
    }
   ],
   "source": [
    "ridge.run_optuna_study(n_trials=10)"
   ]
  },
  {
   "cell_type": "code",
   "execution_count": 6,
   "id": "bbc0af76",
   "metadata": {},
   "outputs": [
    {
     "name": "stdout",
     "output_type": "stream",
     "text": [
      "Updated best_params: {'alpha': 0.0004944582078913725}\n",
      "Model saved to: /Users/arvindsuresh/Documents/Election-prediction-May-2025/2020-results-20250514/models/ridge_without_pca_model.pkl\n"
     ]
    }
   ],
   "source": [
    "ridge.train_final_model()"
   ]
  },
  {
   "cell_type": "code",
   "execution_count": 7,
   "id": "78b40106",
   "metadata": {},
   "outputs": [
    {
     "name": "stdout",
     "output_type": "stream",
     "text": [
      "Predictions saved to: /Users/arvindsuresh/Documents/Election-prediction-May-2025/2020-results-20250514/preds/ridge_without_pca_preds.csv\n"
     ]
    },
    {
     "data": {
      "text/plain": [
       "array([[0.1199081 , 0.02302412, 0.28158661, 0.34146751],\n",
       "       [0.13556907, 0.03501033, 0.30508277, 0.3127239 ],\n",
       "       [0.1990195 , 0.0191636 , 0.19466254, 0.38021562],\n",
       "       ...,\n",
       "       [0.10189837, 0.04522654, 0.26778303, 0.30590728],\n",
       "       [0.137541  , 0.03987315, 0.32733612, 0.27670406],\n",
       "       [0.03436519, 0.06452734, 0.28923621, 0.4080603 ]], shape=(3090, 4))"
      ]
     },
     "execution_count": 7,
     "metadata": {},
     "output_type": "execute_result"
    }
   ],
   "source": [
    "ridge.make_final_predictions()"
   ]
  }
 ],
 "metadata": {
  "kernelspec": {
   "display_name": "math392",
   "language": "python",
   "name": "python3"
  },
  "language_info": {
   "codemirror_mode": {
    "name": "ipython",
    "version": 3
   },
   "file_extension": ".py",
   "mimetype": "text/x-python",
   "name": "python",
   "nbconvert_exporter": "python",
   "pygments_lexer": "ipython3",
   "version": "3.11.8"
  }
 },
 "nbformat": 4,
 "nbformat_minor": 5
}
