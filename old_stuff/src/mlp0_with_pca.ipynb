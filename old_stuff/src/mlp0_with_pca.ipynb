{
 "cells": [
  {
   "cell_type": "code",
   "execution_count": 1,
   "id": "a1ea00a1",
   "metadata": {},
   "outputs": [
    {
     "name": "stdout",
     "output_type": "stream",
     "text": [
      "Using MPS device (Apple Silicon GPU)\n"
     ]
    }
   ],
   "source": [
    "from data_handling import DataHandler\n",
    "from mlp_model import MLPModel"
   ]
  },
  {
   "cell_type": "code",
   "execution_count": 2,
   "id": "8ed0d065",
   "metadata": {},
   "outputs": [
    {
     "name": "stdout",
     "output_type": "stream",
     "text": [
      "DataHandler initialized - Using 114 features - Test year: 2020\n"
     ]
    }
   ],
   "source": [
    "dh = DataHandler()"
   ]
  },
  {
   "cell_type": "code",
   "execution_count": 3,
   "id": "c1735e49",
   "metadata": {},
   "outputs": [
    {
     "name": "stdout",
     "output_type": "stream",
     "text": [
      "MLPModel initialized with model name mlp0_with_pca and depth 0.\n",
      "Optuna study will be stored in  : /Users/arvindsuresh/Documents/Election-prediction-May-2025/2020-results-20250514/optuna/mlp0_with_pca_study.pkl\n",
      "Trained model will be stored in : /Users/arvindsuresh/Documents/Election-prediction-May-2025/2020-results-20250514/models/mlp0_with_pca_model.pth\n",
      "Final preds will be stored in   : /Users/arvindsuresh/Documents/Election-prediction-May-2025/2020-results-20250514/preds/mlp0_with_pca_preds.csv\n"
     ]
    }
   ],
   "source": [
    "mlp0 = MLPModel(dh, model_name='mlp0_with_pca', depth=0)"
   ]
  },
  {
   "cell_type": "code",
   "execution_count": 4,
   "id": "4f62357e",
   "metadata": {},
   "outputs": [
    {
     "name": "stderr",
     "output_type": "stream",
     "text": [
      "[I 2025-05-14 17:17:27,207] A new study created in memory with name: mlp0_with_pca_study\n",
      "[I 2025-05-14 17:17:38,342] Trial 1 pruned. \n",
      "[I 2025-05-14 17:17:38,915] Trial 4 pruned. \n",
      "[I 2025-05-14 17:17:39,984] Trial 5 pruned. \n",
      "[I 2025-05-14 17:17:40,749] Trial 2 pruned. \n",
      "[I 2025-05-14 17:17:46,693] Trial 0 pruned. \n",
      "[I 2025-05-14 17:17:47,734] Trial 9 pruned. \n",
      "[I 2025-05-14 17:17:48,734] Trial 7 pruned. \n",
      "[I 2025-05-14 17:17:50,737] Trial 6 finished with value: 1.0531466557429388 and parameters: {'learning_rate': 0.017575696892886943, 'weight_decay': 2.6401382084396152e-06, 'batch_size': 256, 'n_components': 100}. Best is trial 6 with value: 1.0531466557429388.\n",
      "[I 2025-05-14 17:17:52,291] Trial 8 finished with value: 1.052805130298321 and parameters: {'learning_rate': 0.011560357674017772, 'weight_decay': 0.0076601565010897725, 'batch_size': 256, 'n_components': 20}. Best is trial 8 with value: 1.052805130298321.\n",
      "[I 2025-05-14 17:17:54,824] Trial 3 pruned. \n"
     ]
    },
    {
     "name": "stdout",
     "output_type": "stream",
     "text": [
      "--------------------\n",
      "Study concluded and saved to /Users/arvindsuresh/Documents/Election-prediction-May-2025/2020-results-20250514/optuna/mlp0_with_pca_study.pkl.\n",
      "Best trial: 8\n",
      "Best loss: 1.052805130298321\n",
      "Best params: {'learning_rate': 0.011560357674017772, 'weight_decay': 0.0076601565010897725, 'batch_size': 256, 'n_components': 20}\n",
      "Best epoch: 16\n"
     ]
    }
   ],
   "source": [
    "mlp0.run_optuna_study(min_resource=5, reduction_factor=3, n_trials=10, timeout=300, max_epochs=20, use_pca=True)"
   ]
  },
  {
   "cell_type": "code",
   "execution_count": 5,
   "id": "692bf1f0",
   "metadata": {},
   "outputs": [
    {
     "name": "stdout",
     "output_type": "stream",
     "text": [
      "Training mlp0_with_pca with depth 0 for 16 epochs with patience of 30 epochs.\n",
      "Using batch size: 256 and best params: {'learning_rate': 0.011560357674017772, 'weight_decay': 0.0076601565010897725, 'batch_size': 256, 'n_components': 20}.\n",
      "Epoch    0, Loss: 1.281979\n",
      "Epoch    1, Loss: 1.100603\n",
      "Epoch    2, Loss: 1.071743\n",
      "Epoch    3, Loss: 1.060166\n",
      "Epoch    4, Loss: 1.052393\n",
      "Epoch    5, Loss: 1.049997\n",
      "Epoch    6, Loss: 1.048584\n",
      "Epoch    7, Loss: 1.046665\n",
      "Epoch    8, Loss: 1.044389\n",
      "Epoch    9, Loss: 1.043199\n",
      "Epoch   10, Loss: 1.044295\n",
      "Epoch   11, Loss: 1.045632\n",
      "Epoch   12, Loss: 1.043089\n",
      "Epoch   13, Loss: 1.043639\n",
      "Epoch   14, Loss: 1.044444\n",
      "Epoch   15, Loss: 1.044037\n",
      "Training completed in 2.51 seconds.\n",
      "Model saved to /Users/arvindsuresh/Documents/Election-prediction-May-2025/2020-results-20250514/models/mlp0_with_pca_model.pth\n"
     ]
    }
   ],
   "source": [
    "mlp0.train_final_model()"
   ]
  },
  {
   "cell_type": "code",
   "execution_count": 6,
   "id": "9ccb76a3",
   "metadata": {},
   "outputs": [
    {
     "name": "stdout",
     "output_type": "stream",
     "text": [
      "mlp0_with_pca predictions saved to: /Users/arvindsuresh/Documents/Election-prediction-May-2025/2020-results-20250514/preds/mlp0_with_pca_preds.csv.\n"
     ]
    },
    {
     "data": {
      "text/plain": [
       "array([[0.1463402 , 0.01935225, 0.29581857, 0.3042179 ],\n",
       "       [0.14039092, 0.03874774, 0.3212878 , 0.28795502],\n",
       "       [0.14889468, 0.01430627, 0.22829257, 0.40144777],\n",
       "       ...,\n",
       "       [0.09183252, 0.05139475, 0.30131403, 0.27618292],\n",
       "       [0.15807202, 0.04112935, 0.32877028, 0.25325808],\n",
       "       [0.12968114, 0.04405431, 0.3088486 , 0.31319472]],\n",
       "      shape=(3090, 4), dtype=float32)"
      ]
     },
     "execution_count": 6,
     "metadata": {},
     "output_type": "execute_result"
    }
   ],
   "source": [
    "mlp0.make_final_predictions()"
   ]
  },
  {
   "cell_type": "code",
   "execution_count": 7,
   "id": "bed8b503",
   "metadata": {},
   "outputs": [
    {
     "name": "stdout",
     "output_type": "stream",
     "text": [
      "MLPModel initialized with model name mlp0_with_pca and depth 0.\n",
      "Optuna study will be stored in  : /Users/arvindsuresh/Documents/Election-prediction-May-2025/2020-results-20250514/optuna/mlp0_with_pca_study.pkl\n",
      "Trained model will be stored in : /Users/arvindsuresh/Documents/Election-prediction-May-2025/2020-results-20250514/models/mlp0_with_pca_model.pth\n",
      "Final preds will be stored in   : /Users/arvindsuresh/Documents/Election-prediction-May-2025/2020-results-20250514/preds/mlp0_with_pca_preds.csv\n"
     ]
    }
   ],
   "source": [
    "check = MLPModel(dh, model_name='mlp0_with_pca', depth=0)"
   ]
  },
  {
   "cell_type": "code",
   "execution_count": 8,
   "id": "2b77b4f4",
   "metadata": {},
   "outputs": [
    {
     "name": "stdout",
     "output_type": "stream",
     "text": [
      "Loaded study from /Users/arvindsuresh/Documents/Election-prediction-May-2025/2020-results-20250514/optuna/mlp0_with_pca_study.pkl\n"
     ]
    },
    {
     "data": {
      "text/plain": [
       "{'learning_rate': 0.011560357674017772,\n",
       " 'weight_decay': 0.0076601565010897725,\n",
       " 'batch_size': 256,\n",
       " 'n_components': 20}"
      ]
     },
     "execution_count": 8,
     "metadata": {},
     "output_type": "execute_result"
    }
   ],
   "source": [
    "study = check.load_optuna_study()\n",
    "study.best_params"
   ]
  },
  {
   "cell_type": "code",
   "execution_count": 9,
   "id": "211d3f41",
   "metadata": {},
   "outputs": [
    {
     "name": "stdout",
     "output_type": "stream",
     "text": [
      "Loaded study from /Users/arvindsuresh/Documents/Election-prediction-May-2025/2020-results-20250514/optuna/mlp0_with_pca_study.pkl\n",
      "Best params: {'learning_rate': 0.011560357674017772, 'weight_decay': 0.0076601565010897725, 'batch_size': 256, 'n_components': 20}\n",
      "Best epoch: 16\n",
      "Model loaded from /Users/arvindsuresh/Documents/Election-prediction-May-2025/2020-results-20250514/models/mlp0_with_pca_model.pth\n"
     ]
    },
    {
     "name": "stderr",
     "output_type": "stream",
     "text": [
      "/Users/arvindsuresh/Documents/Election-prediction-May-2025/src/mlp_model.py:412: FutureWarning: You are using `torch.load` with `weights_only=False` (the current default value), which uses the default pickle module implicitly. It is possible to construct malicious pickle data which will execute arbitrary code during unpickling (See https://github.com/pytorch/pytorch/blob/main/SECURITY.md#untrusted-models for more details). In a future release, the default value for `weights_only` will be flipped to `True`. This limits the functions that could be executed during unpickling. Arbitrary objects will no longer be allowed to be loaded via this mode unless they are explicitly allowlisted by the user via `torch.serialization.add_safe_globals`. We recommend you start setting `weights_only=True` for any use case where you don't have full control of the loaded file. Please open an issue on GitHub for any issues related to this experimental feature.\n",
      "  self.model.load_state_dict(torch.load(self.model_path))\n"
     ]
    }
   ],
   "source": [
    "check.load_model()"
   ]
  }
 ],
 "metadata": {
  "kernelspec": {
   "display_name": "math392",
   "language": "python",
   "name": "python3"
  },
  "language_info": {
   "codemirror_mode": {
    "name": "ipython",
    "version": 3
   },
   "file_extension": ".py",
   "mimetype": "text/x-python",
   "name": "python",
   "nbconvert_exporter": "python",
   "pygments_lexer": "ipython3",
   "version": "3.11.8"
  }
 },
 "nbformat": 4,
 "nbformat_minor": 5
}
