{
 "cells": [
  {
   "cell_type": "code",
   "execution_count": 1,
   "id": "e568e4a4",
   "metadata": {},
   "outputs": [
    {
     "name": "stdout",
     "output_type": "stream",
     "text": [
      "DataHandler initialized - Using 114 features - Test year: 2020\n"
     ]
    }
   ],
   "source": [
    "from data_handling import DataHandler\n",
    "from xgboost_model import XGBoostModel\n",
    "\n",
    "dh = DataHandler()"
   ]
  },
  {
   "cell_type": "code",
   "execution_count": 2,
   "id": "a1a44108",
   "metadata": {},
   "outputs": [
    {
     "name": "stdout",
     "output_type": "stream",
     "text": [
      "XGBoostModel initialized with model name: xgb_with_pca\n",
      "Optuna study will be stored in  : /Users/arvindsuresh/Documents/Election-prediction-May-2025/2020-results-20250514/optuna/xgb_with_pca_study.pkl\n",
      "Trained model will be stored in : /Users/arvindsuresh/Documents/Election-prediction-May-2025/2020-results-20250514/models/xgb_with_pca_model.json\n",
      "Final preds will be stored in   : /Users/arvindsuresh/Documents/Election-prediction-May-2025/2020-results-20250514/preds/xgb_with_pca_preds.csv\n"
     ]
    }
   ],
   "source": [
    "xgb = XGBoostModel(dh, 'xgb_with_pca')"
   ]
  },
  {
   "cell_type": "code",
   "execution_count": 3,
   "id": "e25e8f73",
   "metadata": {},
   "outputs": [
    {
     "name": "stderr",
     "output_type": "stream",
     "text": [
      "[I 2025-05-14 18:19:33,705] A new study created in memory with name: xgb_with_pca_study\n",
      "[I 2025-05-14 18:19:34,821] Trial 0 pruned. Trial was pruned at iteration 10.\n",
      "[I 2025-05-14 18:19:35,117] Trial 5 pruned. Trial was pruned at iteration 10.\n",
      "[I 2025-05-14 18:19:35,139] Trial 7 pruned. Trial was pruned at iteration 10.\n",
      "[I 2025-05-14 18:19:35,534] Trial 4 pruned. Trial was pruned at iteration 10.\n",
      "[I 2025-05-14 18:19:35,770] Trial 1 finished with value: 1.0826943333333332 and parameters: {'learning_rate': 0.04322560891957463, 'gamma': 4.349757009316912, 'subsample': 0.8252076091477063, 'colsample_bytree': 0.7645007490382373, 'colsample_bylevel': 0.5013325643958385, 'colsample_bynode': 0.44034459128045395, 'reg_alpha': 2.00402520070703e-05, 'reg_lambda': 0.00038060919347425643, 'max_depth': 6, 'min_child_weight': 13, 'n_components': 20}. Best is trial 1 with value: 1.0826943333333332.\n",
      "[I 2025-05-14 18:19:35,831] Trial 2 finished with value: 1.0636353333333333 and parameters: {'learning_rate': 0.2929619749514342, 'gamma': 4.950160454921983, 'subsample': 0.8435473269856602, 'colsample_bytree': 0.6062977556405964, 'colsample_bylevel': 0.5238209172100503, 'colsample_bynode': 0.7549644602655268, 'reg_alpha': 0.00010526556851671126, 'reg_lambda': 2.6198934941427805e-06, 'max_depth': 3, 'min_child_weight': 17, 'n_components': 40}. Best is trial 2 with value: 1.0636353333333333.\n",
      "[I 2025-05-14 18:19:36,204] Trial 8 pruned. Trial was pruned at iteration 10.\n",
      "[I 2025-05-14 18:19:36,533] Trial 9 pruned. Trial was pruned at iteration 10.\n",
      "[I 2025-05-14 18:19:36,562] Trial 11 pruned. Trial was pruned at iteration 10.\n",
      "[I 2025-05-14 18:19:36,611] Trial 6 finished with value: 1.0599356666666666 and parameters: {'learning_rate': 0.14227769179387095, 'gamma': 1.1836771614777486, 'subsample': 0.5556487677784532, 'colsample_bytree': 0.7605983623773493, 'colsample_bylevel': 0.6391999825526319, 'colsample_bynode': 0.6635055099850684, 'reg_alpha': 0.08917086769248518, 'reg_lambda': 0.00011296348946859602, 'max_depth': 6, 'min_child_weight': 20, 'n_components': 110}. Best is trial 6 with value: 1.0599356666666666.\n",
      "[I 2025-05-14 18:19:36,797] Trial 13 pruned. Trial was pruned at iteration 10.\n",
      "[I 2025-05-14 18:19:36,915] Trial 3 finished with value: 1.0559143333333332 and parameters: {'learning_rate': 0.2073487782302055, 'gamma': 1.0952253037578707, 'subsample': 0.8813946042089846, 'colsample_bytree': 0.9434544194125356, 'colsample_bylevel': 0.8377681565254289, 'colsample_bynode': 0.9005941327196945, 'reg_alpha': 0.0005125361497862346, 'reg_lambda': 2.6266507017491245e-08, 'max_depth': 12, 'min_child_weight': 8, 'n_components': 100}. Best is trial 3 with value: 1.0559143333333332.\n",
      "[I 2025-05-14 18:19:36,925] Trial 10 finished with value: 1.059969 and parameters: {'learning_rate': 0.17919840128615117, 'gamma': 1.7250034179571179, 'subsample': 0.7749158739496721, 'colsample_bytree': 0.9089106927945217, 'colsample_bylevel': 0.9516812835011835, 'colsample_bynode': 0.8655601483110325, 'reg_alpha': 0.22048822411451532, 'reg_lambda': 6.391333298472174e-08, 'max_depth': 8, 'min_child_weight': 16, 'n_components': 10}. Best is trial 3 with value: 1.0559143333333332.\n",
      "[I 2025-05-14 18:19:37,292] Trial 12 pruned. Trial was pruned at iteration 10.\n",
      "[I 2025-05-14 18:19:37,835] Trial 15 pruned. Trial was pruned at iteration 10.\n",
      "[I 2025-05-14 18:19:37,968] Trial 16 pruned. Trial was pruned at iteration 10.\n",
      "[I 2025-05-14 18:19:38,313] Trial 14 finished with value: 1.0628093333333333 and parameters: {'learning_rate': 0.23995844203072775, 'gamma': 3.3134767056920387, 'subsample': 0.951978377631516, 'colsample_bytree': 0.9566809827971101, 'colsample_bylevel': 0.4106606729325464, 'colsample_bynode': 0.8497330126927017, 'reg_alpha': 2.116672473994608e-06, 'reg_lambda': 4.140250051107196, 'max_depth': 6, 'min_child_weight': 10, 'n_components': 100}. Best is trial 3 with value: 1.0559143333333332.\n",
      "[I 2025-05-14 18:19:38,866] Trial 19 pruned. Trial was pruned at iteration 10.\n",
      "[I 2025-05-14 18:19:38,932] Trial 20 pruned. Trial was pruned at iteration 10.\n",
      "[I 2025-05-14 18:19:39,039] Trial 21 pruned. Trial was pruned at iteration 10.\n",
      "[I 2025-05-14 18:19:39,522] Trial 22 pruned. Trial was pruned at iteration 10.\n",
      "[I 2025-05-14 18:19:39,644] Trial 18 finished with value: 1.0567973333333331 and parameters: {'learning_rate': 0.2898386856595738, 'gamma': 0.8975915135374644, 'subsample': 0.630401978652185, 'colsample_bytree': 0.652203342372958, 'colsample_bylevel': 0.6593762891150653, 'colsample_bynode': 0.636861012790986, 'reg_alpha': 0.001023917506408789, 'reg_lambda': 3.7929869516457635, 'max_depth': 3, 'min_child_weight': 20, 'n_components': 110}. Best is trial 3 with value: 1.0559143333333332.\n",
      "[I 2025-05-14 18:19:39,752] Trial 17 finished with value: 1.0583786666666668 and parameters: {'learning_rate': 0.29289735369737707, 'gamma': 0.6436894381140493, 'subsample': 0.5073805048172891, 'colsample_bytree': 0.45273694190833086, 'colsample_bylevel': 0.9856984116941576, 'colsample_bynode': 0.6272374577334427, 'reg_alpha': 0.008732471953461926, 'reg_lambda': 8.08502605388617, 'max_depth': 3, 'min_child_weight': 20, 'n_components': 110}. Best is trial 3 with value: 1.0559143333333332.\n",
      "[I 2025-05-14 18:19:39,853] Trial 23 pruned. Trial was pruned at iteration 10.\n",
      "[I 2025-05-14 18:19:39,888] Trial 24 pruned. Trial was pruned at iteration 10.\n",
      "[I 2025-05-14 18:19:40,286] Trial 25 pruned. Trial was pruned at iteration 10.\n",
      "[I 2025-05-14 18:19:40,359] Trial 26 pruned. Trial was pruned at iteration 10.\n",
      "[I 2025-05-14 18:19:40,391] Trial 27 pruned. Trial was pruned at iteration 10.\n",
      "[I 2025-05-14 18:19:40,713] Trial 29 finished with value: 1.0606473333333335 and parameters: {'learning_rate': 0.19112521913042618, 'gamma': 1.4875740450245944, 'subsample': 0.5700594668189569, 'colsample_bytree': 0.6499342434332446, 'colsample_bylevel': 0.8074892435886603, 'colsample_bynode': 0.5377299451011298, 'reg_alpha': 0.030346242617249754, 'reg_lambda': 0.00026588096768466473, 'max_depth': 3, 'min_child_weight': 18, 'n_components': 80}. Best is trial 3 with value: 1.0559143333333332.\n",
      "[I 2025-05-14 18:19:40,725] Trial 28 finished with value: 1.0580126666666667 and parameters: {'learning_rate': 0.16365661390306324, 'gamma': 1.6059449399916077, 'subsample': 0.8982062704831872, 'colsample_bytree': 0.9133955661614348, 'colsample_bylevel': 0.9904073776330561, 'colsample_bynode': 0.9092987316023771, 'reg_alpha': 0.04599042625479367, 'reg_lambda': 1.6267522155417222e-08, 'max_depth': 8, 'min_child_weight': 17, 'n_components': 80}. Best is trial 3 with value: 1.0559143333333332.\n"
     ]
    },
    {
     "name": "stdout",
     "output_type": "stream",
     "text": [
      "--------------------\n",
      "Study concluded. Results:\n",
      "Best trial: 3\n",
      "Best loss: 1.0559143333333332\n",
      "Best params: {'learning_rate': 0.2073487782302055, 'gamma': 1.0952253037578707, 'subsample': 0.8813946042089846, 'colsample_bytree': 0.9434544194125356, 'colsample_bylevel': 0.8377681565254289, 'colsample_bynode': 0.9005941327196945, 'reg_alpha': 0.0005125361497862346, 'reg_lambda': 2.6266507017491245e-08, 'max_depth': 12, 'min_child_weight': 8, 'n_components': 100}\n",
      "Optimal boosting rounds: 20\n",
      "Study saved to /Users/arvindsuresh/Documents/Election-prediction-May-2025/2020-results-20250514/optuna/xgb_with_pca_study.pkl\n"
     ]
    }
   ],
   "source": [
    "xgb.run_optuna_study(min_resource=10, reduction_factor=3, n_trials=30, timeout=5, num_boost_rounds=30, early_stopping_rounds=10, use_pca=True)"
   ]
  },
  {
   "cell_type": "code",
   "execution_count": 4,
   "id": "c69ec504",
   "metadata": {},
   "outputs": [
    {
     "name": "stdout",
     "output_type": "stream",
     "text": [
      "Training xgb_with_pca for 20 boosting rounds...\n",
      "Using best params: {'learning_rate': 0.2073487782302055, 'gamma': 1.0952253037578707, 'subsample': 0.8813946042089846, 'colsample_bytree': 0.9434544194125356, 'colsample_bylevel': 0.8377681565254289, 'colsample_bynode': 0.9005941327196945, 'reg_alpha': 0.0005125361497862346, 'reg_lambda': 2.6266507017491245e-08, 'max_depth': 12, 'min_child_weight': 8, 'n_components': 100}\n",
      "Training completed in 0.23 seconds.\n",
      "Model saved to /Users/arvindsuresh/Documents/Election-prediction-May-2025/2020-results-20250514/models/xgb_with_pca_model.json\n"
     ]
    }
   ],
   "source": [
    "xgb.train_final_model()"
   ]
  },
  {
   "cell_type": "code",
   "execution_count": 5,
   "id": "42f02422",
   "metadata": {},
   "outputs": [
    {
     "name": "stdout",
     "output_type": "stream",
     "text": [
      "xgb_with_pca predictions saved to: /Users/arvindsuresh/Documents/Election-prediction-May-2025/2020-results-20250514/preds/xgb_with_pca_preds.csv.\n"
     ]
    },
    {
     "data": {
      "text/plain": [
       "array([[0.19143224, 0.19143224, 0.19143224, 0.19143224],\n",
       "       [0.19709536, 0.19709536, 0.19709536, 0.19709536],\n",
       "       [0.19823532, 0.19823532, 0.19823532, 0.19823532],\n",
       "       ...,\n",
       "       [0.18018106, 0.18018106, 0.18018106, 0.18018106],\n",
       "       [0.19530744, 0.19530744, 0.19530744, 0.19530744],\n",
       "       [0.19894469, 0.19894469, 0.19894469, 0.19894469]], shape=(3090, 4))"
      ]
     },
     "execution_count": 5,
     "metadata": {},
     "output_type": "execute_result"
    }
   ],
   "source": [
    "xgb.make_final_predictions()"
   ]
  },
  {
   "cell_type": "code",
   "execution_count": 6,
   "id": "49bc1ac8",
   "metadata": {},
   "outputs": [
    {
     "name": "stdout",
     "output_type": "stream",
     "text": [
      "XGBoostModel initialized with model name: xgb_with_pca\n",
      "Optuna study will be stored in  : /Users/arvindsuresh/Documents/Election-prediction-May-2025/2020-results-20250514/optuna/xgb_with_pca_study.pkl\n",
      "Trained model will be stored in : /Users/arvindsuresh/Documents/Election-prediction-May-2025/2020-results-20250514/models/xgb_with_pca_model.json\n",
      "Final preds will be stored in   : /Users/arvindsuresh/Documents/Election-prediction-May-2025/2020-results-20250514/preds/xgb_with_pca_preds.csv\n"
     ]
    }
   ],
   "source": [
    "check = XGBoostModel(dh, 'xgb_with_pca')"
   ]
  },
  {
   "cell_type": "code",
   "execution_count": 7,
   "id": "0ff570fa",
   "metadata": {},
   "outputs": [
    {
     "name": "stdout",
     "output_type": "stream",
     "text": [
      "Study loaded from /Users/arvindsuresh/Documents/Election-prediction-May-2025/2020-results-20250514/optuna/xgb_with_pca_study.pkl\n"
     ]
    }
   ],
   "source": [
    "study = check.load_optuna_study()"
   ]
  },
  {
   "cell_type": "code",
   "execution_count": 8,
   "id": "b0f60664",
   "metadata": {},
   "outputs": [
    {
     "data": {
      "text/plain": [
       "{'learning_rate': 0.2073487782302055,\n",
       " 'gamma': 1.0952253037578707,\n",
       " 'subsample': 0.8813946042089846,\n",
       " 'colsample_bytree': 0.9434544194125356,\n",
       " 'colsample_bylevel': 0.8377681565254289,\n",
       " 'colsample_bynode': 0.9005941327196945,\n",
       " 'reg_alpha': 0.0005125361497862346,\n",
       " 'reg_lambda': 2.6266507017491245e-08,\n",
       " 'max_depth': 12,\n",
       " 'min_child_weight': 8,\n",
       " 'n_components': 100}"
      ]
     },
     "execution_count": 8,
     "metadata": {},
     "output_type": "execute_result"
    }
   ],
   "source": [
    "study.best_params"
   ]
  },
  {
   "cell_type": "code",
   "execution_count": 9,
   "id": "e8f99ae3",
   "metadata": {},
   "outputs": [
    {
     "name": "stdout",
     "output_type": "stream",
     "text": [
      "Model loaded from /Users/arvindsuresh/Documents/Election-prediction-May-2025/2020-results-20250514/models/xgb_with_pca_model.json\n"
     ]
    }
   ],
   "source": [
    "check.load_model()"
   ]
  },
  {
   "cell_type": "code",
   "execution_count": 10,
   "id": "671bd7eb",
   "metadata": {},
   "outputs": [
    {
     "data": {
      "text/plain": [
       "<xgboost.core.Booster at 0x156f8df90>"
      ]
     },
     "execution_count": 10,
     "metadata": {},
     "output_type": "execute_result"
    }
   ],
   "source": [
    "check.model"
   ]
  }
 ],
 "metadata": {
  "kernelspec": {
   "display_name": "math392",
   "language": "python",
   "name": "python3"
  },
  "language_info": {
   "codemirror_mode": {
    "name": "ipython",
    "version": 3
   },
   "file_extension": ".py",
   "mimetype": "text/x-python",
   "name": "python",
   "nbconvert_exporter": "python",
   "pygments_lexer": "ipython3",
   "version": "3.11.8"
  }
 },
 "nbformat": 4,
 "nbformat_minor": 5
}
