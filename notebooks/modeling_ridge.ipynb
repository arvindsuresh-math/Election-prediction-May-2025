{
 "cells": [
  {
   "cell_type": "code",
   "execution_count": 3,
   "id": "4808a18d",
   "metadata": {},
   "outputs": [],
   "source": [
    "import sys\n",
    "from pathlib import Path\n",
    "\n",
    "# Get the absolute path of the current notebook\n",
    "notebook_path = Path().resolve()\n",
    "\n",
    "# Get the project root directory (which is the parent of the 'notebooks' directory)\n",
    "project_root = notebook_path.parent\n",
    "\n",
    "# Add BOTH the project root and the src directory to the Python path\n",
    "if str(project_root) not in sys.path:\n",
    "    sys.path.append(str(project_root))\n",
    "if str(project_root / 'src') not in sys.path:\n",
    "    sys.path.append(str(project_root / 'src'))\n",
    "\n",
    "# Now, we can import our modules\n",
    "from src.data_handling import DataHandler\n",
    "from src.ridge_model import RidgeModel"
   ]
  },
  {
   "cell_type": "markdown",
   "id": "74980c51",
   "metadata": {},
   "source": [
    "### **Model 1: Standard Ridge Regression**\n",
    "Now, we will execute the full pipeline for a standard Ridge regression model without using PCA.\n",
    "\n",
    "#### Initialize DataHandler\n",
    "This cell creates an instance of the `DataHandler` class. It will load the dataset, define the feature/target sets, and pre-fit the weighted scalers and PCA objects for the training data. We will set the test year to 2020."
   ]
  },
  {
   "cell_type": "code",
   "execution_count": 4,
   "id": "39b99a16",
   "metadata": {},
   "outputs": [
    {
     "name": "stdout",
     "output_type": "stream",
     "text": [
      "DataHandler initialized - Using 52 features - Test year: 2020\n"
     ]
    }
   ],
   "source": [
    "dh = DataHandler(test_year=2020)"
   ]
  },
  {
   "cell_type": "markdown",
   "id": "fdff88f6",
   "metadata": {},
   "source": [
    "#### Initialize RidgeModel Handler\n",
    "Here, we create an instance of the `RidgeModel` class. We give it a unique `model_name` (`'ridge_base'`) which will be used to name all the output files (study, model, and predictions)."
   ]
  },
  {
   "cell_type": "code",
   "execution_count": 5,
   "id": "7f3654fe",
   "metadata": {},
   "outputs": [
    {
     "name": "stdout",
     "output_type": "stream",
     "text": [
      "RidgeModel initialized with model name: ridge_base\n",
      "Optuna study will be stored in  : /Users/arvindsuresh/Documents/Github/Election-prediction-May-2025/2020-results-20251023/optuna/ridge_base_study.pkl\n",
      "Trained model will be stored in : /Users/arvindsuresh/Documents/Github/Election-prediction-May-2025/2020-results-20251023/models/ridge_base_model.pkl\n",
      "Final preds will be stored in   : /Users/arvindsuresh/Documents/Github/Election-prediction-May-2025/2020-results-20251023/preds/ridge_base_preds.csv\n"
     ]
    }
   ],
   "source": [
    "ridge_base = RidgeModel(dh, model_name='ridge_base')"
   ]
  },
  {
   "cell_type": "markdown",
   "id": "93565ccf",
   "metadata": {},
   "source": [
    "#### Run Optuna Hyperparameter Study\n",
    "This cell runs the Optuna hyperparameter search. It will perform 3-fold cross-validation on the training years (2008, 2012, 2016) to find the optimal `alpha` value that minimizes the weighted mean squared error. The resulting study object is saved to the results directory."
   ]
  },
  {
   "cell_type": "code",
   "execution_count": 6,
   "id": "e238e963",
   "metadata": {},
   "outputs": [
    {
     "name": "stderr",
     "output_type": "stream",
     "text": [
      "[I 2025-10-23 08:45:18,943] A new study created in memory with name: ridge_base_study\n",
      "[I 2025-10-23 08:45:18,981] Trial 0 finished with value: 0.001559380533786808 and parameters: {'alpha': 1.0991360257357304e-06}. Best is trial 0 with value: 0.001559380533786808.\n",
      "[I 2025-10-23 08:45:19,021] Trial 1 finished with value: 0.001561051008376702 and parameters: {'alpha': 0.0014574187393831734}. Best is trial 0 with value: 0.001559380533786808.\n",
      "[I 2025-10-23 08:45:19,050] Trial 2 finished with value: 0.0015597709846077955 and parameters: {'alpha': 0.0025913925855668425}. Best is trial 0 with value: 0.001559380533786808.\n",
      "[I 2025-10-23 08:45:19,084] Trial 3 finished with value: 0.001559708869201289 and parameters: {'alpha': 4.262245744760241e-05}. Best is trial 0 with value: 0.001559380533786808.\n",
      "[I 2025-10-23 08:45:19,108] Trial 4 finished with value: 0.0015220845785253046 and parameters: {'alpha': 0.045681114172742676}. Best is trial 4 with value: 0.0015220845785253046.\n",
      "[I 2025-10-23 08:45:19,133] Trial 5 finished with value: 0.0015595539438069794 and parameters: {'alpha': 2.2280353175273383e-05}. Best is trial 4 with value: 0.0015220845785253046.\n",
      "[I 2025-10-23 08:45:19,160] Trial 6 finished with value: 0.0014971284471377959 and parameters: {'alpha': 0.13758834194502223}. Best is trial 6 with value: 0.0014971284471377959.\n",
      "[I 2025-10-23 08:45:19,190] Trial 7 finished with value: 0.001560185610525142 and parameters: {'alpha': 0.0001170263907016767}. Best is trial 6 with value: 0.0014971284471377959.\n",
      "[I 2025-10-23 08:45:19,213] Trial 8 finished with value: 0.0015597506200859066 and parameters: {'alpha': 4.836988267356426e-05}. Best is trial 6 with value: 0.0014971284471377959.\n",
      "[I 2025-10-23 08:45:19,240] Trial 9 finished with value: 0.002151112743042952 and parameters: {'alpha': 9.484895955136718}. Best is trial 6 with value: 0.0014971284471377959.\n",
      "[I 2025-10-23 08:45:19,266] Trial 10 finished with value: 0.0014948839717763465 and parameters: {'alpha': 0.3926364624642053}. Best is trial 10 with value: 0.0014948839717763465.\n",
      "[I 2025-10-23 08:45:19,297] Trial 11 finished with value: 0.0015014814899697079 and parameters: {'alpha': 0.5056779556884468}. Best is trial 10 with value: 0.0014948839717763465.\n",
      "[I 2025-10-23 08:45:19,323] Trial 12 finished with value: 0.0014956584490338329 and parameters: {'alpha': 0.1506011657274929}. Best is trial 10 with value: 0.0014948839717763465.\n",
      "[I 2025-10-23 08:45:19,355] Trial 13 finished with value: 0.0016327307861846226 and parameters: {'alpha': 2.006596644632405}. Best is trial 10 with value: 0.0014948839717763465.\n",
      "[I 2025-10-23 08:45:19,417] Trial 14 finished with value: 0.0015245873899239508 and parameters: {'alpha': 0.04114131639870719}. Best is trial 10 with value: 0.0014948839717763465.\n",
      "[I 2025-10-23 08:45:19,440] Trial 15 finished with value: 0.0015464150513247758 and parameters: {'alpha': 0.013437359728842623}. Best is trial 10 with value: 0.0014948839717763465.\n",
      "[I 2025-10-23 08:45:19,471] Trial 16 finished with value: 0.0015292869045604451 and parameters: {'alpha': 0.855399620718596}. Best is trial 10 with value: 0.0014948839717763465.\n",
      "[I 2025-10-23 08:45:19,505] Trial 17 finished with value: 0.0021645150906221887 and parameters: {'alpha': 9.72650405378106}. Best is trial 10 with value: 0.0014948839717763465.\n",
      "[I 2025-10-23 08:45:19,541] Trial 18 finished with value: 0.0014918054161151089 and parameters: {'alpha': 0.21200389778324644}. Best is trial 18 with value: 0.0014918054161151089.\n",
      "[I 2025-10-23 08:45:19,572] Trial 19 finished with value: 0.0015613668591463175 and parameters: {'alpha': 0.0006102628629035544}. Best is trial 18 with value: 0.0014918054161151089.\n",
      "[I 2025-10-23 08:45:19,607] Trial 20 finished with value: 0.0015506092432315086 and parameters: {'alpha': 0.009737122950934695}. Best is trial 18 with value: 0.0014918054161151089.\n",
      "[I 2025-10-23 08:45:19,639] Trial 21 finished with value: 0.0014917685403057132 and parameters: {'alpha': 0.3081522083655241}. Best is trial 21 with value: 0.0014917685403057132.\n",
      "[I 2025-10-23 08:45:19,664] Trial 22 finished with value: 0.0016175317313816917 and parameters: {'alpha': 1.8350066022822378}. Best is trial 21 with value: 0.0014917685403057132.\n",
      "[I 2025-10-23 08:45:19,697] Trial 23 finished with value: 0.0014918095404788424 and parameters: {'alpha': 0.2118717480875632}. Best is trial 21 with value: 0.0014917685403057132.\n",
      "[I 2025-10-23 08:45:19,719] Trial 24 finished with value: 0.0015170875079746598 and parameters: {'alpha': 0.05608001214161226}. Best is trial 21 with value: 0.0014917685403057132.\n",
      "[I 2025-10-23 08:45:19,756] Trial 25 finished with value: 0.001550538775361322 and parameters: {'alpha': 0.009796358536846643}. Best is trial 21 with value: 0.0014917685403057132.\n",
      "[I 2025-10-23 08:45:19,793] Trial 26 finished with value: 0.0016791123929647675 and parameters: {'alpha': 2.5437580095263845}. Best is trial 21 with value: 0.0014917685403057132.\n",
      "[I 2025-10-23 08:45:19,815] Trial 27 finished with value: 0.0014912308632853797 and parameters: {'alpha': 0.2760445043980257}. Best is trial 27 with value: 0.0014912308632853797.\n",
      "[I 2025-10-23 08:45:19,845] Trial 28 finished with value: 0.0015350282733132875 and parameters: {'alpha': 0.02572466247118065}. Best is trial 27 with value: 0.0014912308632853797.\n",
      "[I 2025-10-23 08:45:19,872] Trial 29 finished with value: 0.0015016918726424194 and parameters: {'alpha': 0.10833687663449063}. Best is trial 27 with value: 0.0014912308632853797.\n",
      "[I 2025-10-23 08:45:19,912] Trial 30 finished with value: 0.0015593852234366834 and parameters: {'alpha': 1.6526664091491634e-06}. Best is trial 27 with value: 0.0014912308632853797.\n",
      "[I 2025-10-23 08:45:19,944] Trial 31 finished with value: 0.0014911436945343494 and parameters: {'alpha': 0.25451690813373756}. Best is trial 31 with value: 0.0014911436945343494.\n",
      "[I 2025-10-23 08:45:19,969] Trial 32 finished with value: 0.0015222078974578808 and parameters: {'alpha': 0.7730362870011235}. Best is trial 31 with value: 0.0014911436945343494.\n",
      "[I 2025-10-23 08:45:20,012] Trial 33 finished with value: 0.0017161800475553283 and parameters: {'alpha': 2.9894163639418245}. Best is trial 31 with value: 0.0014911436945343494.\n",
      "[I 2025-10-23 08:45:20,045] Trial 34 finished with value: 0.0015592972305509278 and parameters: {'alpha': 0.0029615267275748423}. Best is trial 31 with value: 0.0014911436945343494.\n",
      "[I 2025-10-23 08:45:20,111] Trial 35 finished with value: 0.0014912903545412726 and parameters: {'alpha': 0.281518333812536}. Best is trial 31 with value: 0.0014911436945343494.\n",
      "[I 2025-10-23 08:45:20,146] Trial 36 finished with value: 0.001561375088463317 and parameters: {'alpha': 0.0009852168997136715}. Best is trial 31 with value: 0.0014911436945343494.\n",
      "[I 2025-10-23 08:45:20,179] Trial 37 finished with value: 0.0015091152779845654 and parameters: {'alpha': 0.07786511963378381}. Best is trial 31 with value: 0.0014911436945343494.\n",
      "[I 2025-10-23 08:45:20,218] Trial 38 finished with value: 0.001496769205835433 and parameters: {'alpha': 0.4289684407700965}. Best is trial 31 with value: 0.0014911436945343494.\n",
      "[I 2025-10-23 08:45:20,250] Trial 39 finished with value: 0.0015381807447609052 and parameters: {'alpha': 0.02193754480784509}. Best is trial 31 with value: 0.0014911436945343494.\n",
      "[I 2025-10-23 08:45:20,284] Trial 40 finished with value: 0.0015546916532810833 and parameters: {'alpha': 0.006451516579830614}. Best is trial 31 with value: 0.0014911436945343494.\n",
      "[I 2025-10-23 08:45:20,327] Trial 41 finished with value: 0.0014912437476719868 and parameters: {'alpha': 0.2389725847352188}. Best is trial 31 with value: 0.0014911436945343494.\n",
      "[I 2025-10-23 08:45:20,362] Trial 42 finished with value: 0.0015732283328948754 and parameters: {'alpha': 1.3439083267865364}. Best is trial 31 with value: 0.0014911436945343494.\n",
      "[I 2025-10-23 08:45:20,395] Trial 43 finished with value: 0.0018029671117156055 and parameters: {'alpha': 4.094488185322397}. Best is trial 31 with value: 0.0014911436945343494.\n",
      "[I 2025-10-23 08:45:20,421] Trial 44 finished with value: 0.0014923762446877986 and parameters: {'alpha': 0.330315806855815}. Best is trial 31 with value: 0.0014911436945343494.\n",
      "[I 2025-10-23 08:45:20,453] Trial 45 finished with value: 0.0015253364637516267 and parameters: {'alpha': 0.8097168913552862}. Best is trial 31 with value: 0.0014911436945343494.\n",
      "[I 2025-10-23 08:45:20,491] Trial 46 finished with value: 0.0015011667735160576 and parameters: {'alpha': 0.1111263212938824}. Best is trial 31 with value: 0.0014911436945343494.\n",
      "[I 2025-10-23 08:45:20,530] Trial 47 finished with value: 0.0014911670327119422 and parameters: {'alpha': 0.26746340809366764}. Best is trial 31 with value: 0.0014911436945343494.\n",
      "[I 2025-10-23 08:45:20,568] Trial 48 finished with value: 0.0015212301134591485 and parameters: {'alpha': 0.0473249975689505}. Best is trial 31 with value: 0.0014911436945343494.\n",
      "[I 2025-10-23 08:45:20,601] Trial 49 finished with value: 0.0015610734023081862 and parameters: {'alpha': 0.0003695830001890368}. Best is trial 31 with value: 0.0014911436945343494.\n"
     ]
    },
    {
     "name": "stdout",
     "output_type": "stream",
     "text": [
      "Best alpha: 0.25451690813373756\n",
      "Optuna study saved to: /Users/arvindsuresh/Documents/Github/Election-prediction-May-2025/2020-results-20251023/optuna/ridge_base_study.pkl\n"
     ]
    }
   ],
   "source": [
    "ridge_base.run_optuna_study(n_trials=50, use_pca=False)"
   ]
  },
  {
   "cell_type": "markdown",
   "id": "9db0c733",
   "metadata": {},
   "source": [
    "#### Train Final Model\n",
    "Using the best `alpha` found by Optuna, this cell trains the final Ridge model on the entire training dataset (2008, 2012, and 2016 combined). The trained model object is then saved to the results directory."
   ]
  },
  {
   "cell_type": "code",
   "execution_count": 7,
   "id": "471995be",
   "metadata": {},
   "outputs": [
    {
     "name": "stdout",
     "output_type": "stream",
     "text": [
      "Updated best_params: {'alpha': 0.25451690813373756}\n",
      "Model saved to: /Users/arvindsuresh/Documents/Github/Election-prediction-May-2025/2020-results-20251023/models/ridge_base_model.pkl\n"
     ]
    }
   ],
   "source": [
    "ridge_base.train_final_model()"
   ]
  },
  {
   "cell_type": "markdown",
   "id": "57f23eb5",
   "metadata": {},
   "source": [
    "#### Generate Final Predictions\n",
    "Finally, we load the trained model and use it to make predictions on the held-out 2020 test set. The predictions are saved to a CSV file in the results directory."
   ]
  },
  {
   "cell_type": "code",
   "execution_count": 8,
   "id": "da4c7126",
   "metadata": {},
   "outputs": [
    {
     "name": "stdout",
     "output_type": "stream",
     "text": [
      "Predictions saved to: /Users/arvindsuresh/Documents/Github/Election-prediction-May-2025/2020-results-20251023/preds/ridge_base_preds.csv\n",
      "\n",
      "Base Model Predictions (first 5 rows):\n",
      "[[0.15881518 0.25941199 0.0203533  0.56141953]\n",
      " [0.14980317 0.29484541 0.03149691 0.52385451]\n",
      " [0.14949427 0.19768357 0.01641405 0.63640811]\n",
      " [0.12391762 0.22150447 0.01862553 0.63595238]\n",
      " [0.10586231 0.27138053 0.01973731 0.60301985]]\n"
     ]
    }
   ],
   "source": [
    "preds_base = ridge_base.make_final_predictions()\n",
    "print(\"\\nBase Model Predictions (first 5 rows):\")\n",
    "print(preds_base[:5])"
   ]
  },
  {
   "cell_type": "markdown",
   "id": "10713c1f",
   "metadata": {},
   "source": [
    "### **Model 2: Ridge Regression with PCA**\n",
    "Next, we will repeat the pipeline for a Ridge model that uses principal components as features.\n",
    "\n",
    "#### Initialize PCA-based RidgeModel Handler\n",
    "We initialize a new `RidgeModel` instance with a different name (`'ridge_pca'`) to keep its artifacts separate from the base model."
   ]
  },
  {
   "cell_type": "code",
   "execution_count": 9,
   "id": "1f3bbae2",
   "metadata": {},
   "outputs": [
    {
     "name": "stdout",
     "output_type": "stream",
     "text": [
      "RidgeModel initialized with model name: ridge_pca\n",
      "Optuna study will be stored in  : /Users/arvindsuresh/Documents/Github/Election-prediction-May-2025/2020-results-20251023/optuna/ridge_pca_study.pkl\n",
      "Trained model will be stored in : /Users/arvindsuresh/Documents/Github/Election-prediction-May-2025/2020-results-20251023/models/ridge_pca_model.pkl\n",
      "Final preds will be stored in   : /Users/arvindsuresh/Documents/Github/Election-prediction-May-2025/2020-results-20251023/preds/ridge_pca_preds.csv\n"
     ]
    }
   ],
   "source": [
    "ridge_pca = RidgeModel(dh, model_name='ridge_pca')"
   ]
  },
  {
   "cell_type": "markdown",
   "id": "04259c92",
   "metadata": {},
   "source": [
    "#### Run Optuna Hyperparameter Study (with PCA)\n",
    "This cell runs the Optuna study again. This time, by setting `use_pca=True`, the objective function will not only tune the `alpha` parameter but also the `n_components` parameter—the number of principal components to use as features."
   ]
  },
  {
   "cell_type": "code",
   "execution_count": 10,
   "id": "ba370743",
   "metadata": {},
   "outputs": [
    {
     "name": "stderr",
     "output_type": "stream",
     "text": [
      "[I 2025-10-23 08:45:32,507] A new study created in memory with name: ridge_pca_study\n",
      "[I 2025-10-23 08:45:32,549] Trial 0 finished with value: 0.001545127517410182 and parameters: {'alpha': 0.0004438594813940582, 'n_components': 40}. Best is trial 0 with value: 0.001545127517410182.\n",
      "[I 2025-10-23 08:45:32,598] Trial 1 finished with value: 0.0015614157558854578 and parameters: {'alpha': 0.0008111757330655691, 'n_components': 50}. Best is trial 0 with value: 0.001545127517410182.\n",
      "[I 2025-10-23 08:45:32,628] Trial 2 finished with value: 0.0017127594147635329 and parameters: {'alpha': 0.02775326881875697, 'n_components': 10}. Best is trial 0 with value: 0.001545127517410182.\n",
      "[I 2025-10-23 08:45:32,664] Trial 3 finished with value: 0.0015594292054799685 and parameters: {'alpha': 6.893447543607435e-06, 'n_components': 50}. Best is trial 0 with value: 0.001545127517410182.\n",
      "[I 2025-10-23 08:45:32,695] Trial 4 finished with value: 0.0015594229130273158 and parameters: {'alpha': 6.138075417554358e-06, 'n_components': 50}. Best is trial 0 with value: 0.001545127517410182.\n",
      "[I 2025-10-23 08:45:32,767] Trial 5 finished with value: 0.0015145683829715234 and parameters: {'alpha': 0.06214983836293413, 'n_components': 50}. Best is trial 5 with value: 0.0015145683829715234.\n",
      "[I 2025-10-23 08:45:32,790] Trial 6 finished with value: 0.0014976327438765474 and parameters: {'alpha': 0.2640175731813748, 'n_components': 40}. Best is trial 6 with value: 0.0014976327438765474.\n",
      "[I 2025-10-23 08:45:32,826] Trial 7 finished with value: 0.0015502301356287486 and parameters: {'alpha': 0.01005691101451652, 'n_components': 50}. Best is trial 6 with value: 0.0014976327438765474.\n",
      "[I 2025-10-23 08:45:32,868] Trial 8 finished with value: 0.0019535536621168932 and parameters: {'alpha': 6.228697531462459, 'n_components': 50}. Best is trial 6 with value: 0.0014976327438765474.\n",
      "[I 2025-10-23 08:45:32,895] Trial 9 finished with value: 0.0015633556335221336 and parameters: {'alpha': 2.4895181197837233e-05, 'n_components': 20}. Best is trial 6 with value: 0.0014976327438765474.\n",
      "[I 2025-10-23 08:45:32,938] Trial 10 finished with value: 0.0019459147268539926 and parameters: {'alpha': 6.055613736803094, 'n_components': 30}. Best is trial 6 with value: 0.0014976327438765474.\n",
      "[I 2025-10-23 08:45:32,984] Trial 11 finished with value: 0.001498274332288052 and parameters: {'alpha': 0.21601839252214847, 'n_components': 40}. Best is trial 6 with value: 0.0014976327438765474.\n",
      "[I 2025-10-23 08:45:33,014] Trial 12 finished with value: 0.0015243333437307384 and parameters: {'alpha': 0.37718785119767484, 'n_components': 30}. Best is trial 6 with value: 0.0014976327438765474.\n",
      "[I 2025-10-23 08:45:33,062] Trial 13 finished with value: 0.0014978947140694575 and parameters: {'alpha': 0.2981312878402218, 'n_components': 40}. Best is trial 6 with value: 0.0014976327438765474.\n",
      "[I 2025-10-23 08:45:33,102] Trial 14 finished with value: 0.0015390895128240742 and parameters: {'alpha': 0.9239502861936036, 'n_components': 40}. Best is trial 6 with value: 0.0014976327438765474.\n",
      "[I 2025-10-23 08:45:33,153] Trial 15 finished with value: 0.001544125818817659 and parameters: {'alpha': 0.0018595091821074674, 'n_components': 40}. Best is trial 6 with value: 0.0014976327438765474.\n",
      "[I 2025-10-23 08:45:33,188] Trial 16 finished with value: 0.0015932062012634785 and parameters: {'alpha': 1.1660469328349974, 'n_components': 20}. Best is trial 6 with value: 0.0014976327438765474.\n",
      "[I 2025-10-23 08:45:33,233] Trial 17 finished with value: 0.0015464569337814513 and parameters: {'alpha': 0.07029368150907214, 'n_components': 30}. Best is trial 6 with value: 0.0014976327438765474.\n",
      "[I 2025-10-23 08:45:33,279] Trial 18 finished with value: 0.001545386712746234 and parameters: {'alpha': 8.324925811537005e-05, 'n_components': 40}. Best is trial 6 with value: 0.0014976327438765474.\n",
      "[I 2025-10-23 08:45:33,314] Trial 19 finished with value: 0.0015621833940136255 and parameters: {'alpha': 0.016020514627108788, 'n_components': 30}. Best is trial 6 with value: 0.0014976327438765474.\n",
      "[I 2025-10-23 08:45:33,346] Trial 20 finished with value: 0.0017026186417610674 and parameters: {'alpha': 2.563474081967949, 'n_components': 20}. Best is trial 6 with value: 0.0014976327438765474.\n",
      "[I 2025-10-23 08:45:33,380] Trial 21 finished with value: 0.0014978870846480083 and parameters: {'alpha': 0.2976147542881417, 'n_components': 40}. Best is trial 6 with value: 0.0014976327438765474.\n",
      "[I 2025-10-23 08:45:33,460] Trial 22 finished with value: 0.0014978752907880422 and parameters: {'alpha': 0.23388234309533176, 'n_components': 40}. Best is trial 6 with value: 0.0014976327438765474.\n",
      "[I 2025-10-23 08:45:33,495] Trial 23 finished with value: 0.001501873675578134 and parameters: {'alpha': 0.15144741265837577, 'n_components': 40}. Best is trial 6 with value: 0.0014976327438765474.\n",
      "[I 2025-10-23 08:45:33,537] Trial 24 finished with value: 0.001541987141153359 and parameters: {'alpha': 0.005004529682927273, 'n_components': 40}. Best is trial 6 with value: 0.0014976327438765474.\n",
      "[I 2025-10-23 08:45:33,574] Trial 25 finished with value: 0.001557799903323823 and parameters: {'alpha': 0.974955062701223, 'n_components': 30}. Best is trial 6 with value: 0.0014976327438765474.\n",
      "[I 2025-10-23 08:45:33,616] Trial 26 finished with value: 0.0015156821909610727 and parameters: {'alpha': 0.0666937024361119, 'n_components': 40}. Best is trial 6 with value: 0.0014976327438765474.\n",
      "[I 2025-10-23 08:45:33,656] Trial 27 finished with value: 0.0016733121995511047 and parameters: {'alpha': 2.3685594196123874, 'n_components': 30}. Best is trial 6 with value: 0.0014976327438765474.\n",
      "[I 2025-10-23 08:45:33,694] Trial 28 finished with value: 0.001528095940319503 and parameters: {'alpha': 0.030698548171386442, 'n_components': 40}. Best is trial 6 with value: 0.0014976327438765474.\n",
      "[I 2025-10-23 08:45:33,739] Trial 29 finished with value: 0.0015426324416961286 and parameters: {'alpha': 0.00403740725971905, 'n_components': 40}. Best is trial 6 with value: 0.0014976327438765474.\n",
      "[I 2025-10-23 08:45:33,775] Trial 30 finished with value: 0.0017132208559117298 and parameters: {'alpha': 0.00047112178517489447, 'n_components': 10}. Best is trial 6 with value: 0.0014976327438765474.\n",
      "[I 2025-10-23 08:45:33,825] Trial 31 finished with value: 0.0015005250576338957 and parameters: {'alpha': 0.38736266846953354, 'n_components': 40}. Best is trial 6 with value: 0.0014976327438765474.\n",
      "[I 2025-10-23 08:45:33,863] Trial 32 finished with value: 0.0014989811305428623 and parameters: {'alpha': 0.4667326687071897, 'n_components': 50}. Best is trial 6 with value: 0.0014976327438765474.\n",
      "[I 2025-10-23 08:45:33,897] Trial 33 finished with value: 0.0015320394520186755 and parameters: {'alpha': 0.1595448215573391, 'n_components': 30}. Best is trial 6 with value: 0.0014976327438765474.\n",
      "[I 2025-10-23 08:45:33,933] Trial 34 finished with value: 0.001661295423045577 and parameters: {'alpha': 2.313004893517775, 'n_components': 40}. Best is trial 6 with value: 0.0014976327438765474.\n",
      "[I 2025-10-23 08:45:33,967] Trial 35 finished with value: 0.0021274555257356225 and parameters: {'alpha': 9.065213298339932, 'n_components': 50}. Best is trial 6 with value: 0.0014976327438765474.\n",
      "[I 2025-10-23 08:45:34,012] Trial 36 finished with value: 0.0015269313992485472 and parameters: {'alpha': 0.03339793899998461, 'n_components': 40}. Best is trial 6 with value: 0.0014976327438765474.\n",
      "[I 2025-10-23 08:45:34,050] Trial 37 finished with value: 0.001498014697671967 and parameters: {'alpha': 0.13082640726502529, 'n_components': 50}. Best is trial 6 with value: 0.0014976327438765474.\n",
      "[I 2025-10-23 08:45:34,095] Trial 38 finished with value: 0.0015488091985972829 and parameters: {'alpha': 0.011280481182714982, 'n_components': 50}. Best is trial 6 with value: 0.0014976327438765474.\n",
      "[I 2025-10-23 08:45:34,130] Trial 39 finished with value: 0.0015442693728271928 and parameters: {'alpha': 0.0016544522395069005, 'n_components': 40}. Best is trial 6 with value: 0.0014976327438765474.\n",
      "[I 2025-10-23 08:45:34,166] Trial 40 finished with value: 0.0015683736628639862 and parameters: {'alpha': 1.472961565103269e-06, 'n_components': 30}. Best is trial 6 with value: 0.0014976327438765474.\n",
      "[I 2025-10-23 08:45:34,243] Trial 41 finished with value: 0.001500538292301146 and parameters: {'alpha': 0.11462336626932292, 'n_components': 50}. Best is trial 6 with value: 0.0014976327438765474.\n",
      "[I 2025-10-23 08:45:34,284] Trial 42 finished with value: 0.0014919628787152164 and parameters: {'alpha': 0.3159703575664662, 'n_components': 50}. Best is trial 42 with value: 0.0014919628787152164.\n",
      "[I 2025-10-23 08:45:34,329] Trial 43 finished with value: 0.001505836346255161 and parameters: {'alpha': 0.5678445570889057, 'n_components': 50}. Best is trial 42 with value: 0.0014919628787152164.\n",
      "[I 2025-10-23 08:45:34,366] Trial 44 finished with value: 0.0014911642169600913 and parameters: {'alpha': 0.2669140548481966, 'n_components': 50}. Best is trial 44 with value: 0.0014911642169600913.\n",
      "[I 2025-10-23 08:45:34,413] Trial 45 finished with value: 0.001516076135013758 and parameters: {'alpha': 0.05844128386840652, 'n_components': 50}. Best is trial 44 with value: 0.0014911642169600913.\n",
      "[I 2025-10-23 08:45:34,453] Trial 46 finished with value: 0.0017433581552682277 and parameters: {'alpha': 3.326017140371813, 'n_components': 50}. Best is trial 44 with value: 0.0014911642169600913.\n",
      "[I 2025-10-23 08:45:34,498] Trial 47 finished with value: 0.0015071723870900197 and parameters: {'alpha': 0.5859348857417689, 'n_components': 50}. Best is trial 44 with value: 0.0014911642169600913.\n",
      "[I 2025-10-23 08:45:34,533] Trial 48 finished with value: 0.0015769718399822824 and parameters: {'alpha': 1.3850713940143555, 'n_components': 50}. Best is trial 44 with value: 0.0014911642169600913.\n",
      "[I 2025-10-23 08:45:34,579] Trial 49 finished with value: 0.0014911453834810528 and parameters: {'alpha': 0.2616955391008058, 'n_components': 50}. Best is trial 49 with value: 0.0014911453834810528.\n"
     ]
    },
    {
     "name": "stdout",
     "output_type": "stream",
     "text": [
      "Best alpha: 0.2616955391008058\n",
      "Best n_components: 50\n",
      "Optuna study saved to: /Users/arvindsuresh/Documents/Github/Election-prediction-May-2025/2020-results-20251023/optuna/ridge_pca_study.pkl\n"
     ]
    }
   ],
   "source": [
    "ridge_pca.run_optuna_study(n_trials=50, use_pca=True)"
   ]
  },
  {
   "cell_type": "markdown",
   "id": "c9ba8033",
   "metadata": {},
   "source": [
    "#### Train Final PCA Model\n",
    "Using the best `alpha` and `n_components` found by Optuna, this cell trains the final model on the PCA-transformed training data. The model is saved to the results directory."
   ]
  },
  {
   "cell_type": "code",
   "execution_count": 11,
   "id": "3bcb922e",
   "metadata": {},
   "outputs": [
    {
     "name": "stdout",
     "output_type": "stream",
     "text": [
      "Updated best_params: {'alpha': 0.2616955391008058, 'n_components': 50}\n",
      "Model saved to: /Users/arvindsuresh/Documents/Github/Election-prediction-May-2025/2020-results-20251023/models/ridge_pca_model.pkl\n"
     ]
    }
   ],
   "source": [
    "ridge_pca.train_final_model()"
   ]
  },
  {
   "cell_type": "markdown",
   "id": "0dc0535c",
   "metadata": {},
   "source": [
    "#### Generate Final Predictions (with PCA)\n",
    "Finally, we generate and save predictions from our PCA-based model on the (identically transformed) 2020 test data."
   ]
  },
  {
   "cell_type": "code",
   "execution_count": 12,
   "id": "36f6d04d",
   "metadata": {},
   "outputs": [
    {
     "name": "stdout",
     "output_type": "stream",
     "text": [
      "Predictions saved to: /Users/arvindsuresh/Documents/Github/Election-prediction-May-2025/2020-results-20251023/preds/ridge_pca_preds.csv\n",
      "\n",
      "PCA Model Predictions (first 5 rows):\n",
      "[[0.15906742 0.25930651 0.02035531 0.56127076]\n",
      " [0.1499611  0.29471339 0.03146421 0.5238613 ]\n",
      " [0.14960783 0.1976685  0.01637518 0.63634849]\n",
      " [0.12391852 0.22153466 0.01860323 0.63594359]\n",
      " [0.10600766 0.27135157 0.01971709 0.60292368]]\n"
     ]
    }
   ],
   "source": [
    "preds_pca = ridge_pca.make_final_predictions()\n",
    "print(\"\\nPCA Model Predictions (first 5 rows):\")\n",
    "print(preds_pca[:5])"
   ]
  },
  {
   "cell_type": "code",
   "execution_count": null,
   "id": "aeab38dd",
   "metadata": {},
   "outputs": [],
   "source": []
  }
 ],
 "metadata": {
  "kernelspec": {
   "display_name": "math392",
   "language": "python",
   "name": "python3"
  },
  "language_info": {
   "codemirror_mode": {
    "name": "ipython",
    "version": 3
   },
   "file_extension": ".py",
   "mimetype": "text/x-python",
   "name": "python",
   "nbconvert_exporter": "python",
   "pygments_lexer": "ipython3",
   "version": "3.11.11"
  }
 },
 "nbformat": 4,
 "nbformat_minor": 5
}
