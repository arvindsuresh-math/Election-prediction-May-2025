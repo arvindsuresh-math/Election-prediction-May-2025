{
 "cells": [
  {
   "cell_type": "code",
   "execution_count": 1,
   "id": "80cfbb2a",
   "metadata": {},
   "outputs": [
    {
     "name": "stdout",
     "output_type": "stream",
     "text": [
      "Using MPS device (Apple Silicon GPU)\n"
     ]
    }
   ],
   "source": [
    "import sys\n",
    "from pathlib import Path\n",
    "\n",
    "# Get the absolute path of the current notebook\n",
    "notebook_path = Path().resolve()\n",
    "\n",
    "# Get the project root directory (which is the parent of the 'notebooks' directory)\n",
    "project_root = notebook_path.parent\n",
    "\n",
    "# Add BOTH the project root and the src directory to the Python path\n",
    "if str(project_root) not in sys.path:\n",
    "    sys.path.append(str(project_root))\n",
    "if str(project_root / 'src') not in sys.path:\n",
    "    sys.path.append(str(project_root / 'src'))\n",
    "\n",
    "# Now, we can import our modules\n",
    "from src.data_handling import DataHandler\n",
    "from src.mlp_model import MLPModel"
   ]
  },
  {
   "cell_type": "markdown",
   "id": "c8fe1b7f",
   "metadata": {},
   "source": [
    "#### Initialize DataHandler\n",
    "This cell creates an instance of the `DataHandler` class. It will load the dataset, define the feature/target sets, and pre-fit the necessary data processing objects. The test year is set to 2020."
   ]
  },
  {
   "cell_type": "code",
   "execution_count": 2,
   "id": "d0db5ed5",
   "metadata": {},
   "outputs": [
    {
     "name": "stdout",
     "output_type": "stream",
     "text": [
      "DataHandler initialized - Using 52 features - Test year: 2020\n"
     ]
    }
   ],
   "source": [
    "dh = DataHandler(test_year=2020)"
   ]
  },
  {
   "cell_type": "markdown",
   "id": "40eb35ed",
   "metadata": {},
   "source": [
    "### **Model: MLP with 2 Hidden Layers**\n",
    "\n",
    "#### Initialize MLPModel Handler\n",
    "Here, we create an instance of the `MLPModel` class, explicitly setting `depth=2`. The `model_name` ensures all artifacts for this architecture are saved to unique files."
   ]
  },
  {
   "cell_type": "code",
   "execution_count": 3,
   "id": "bfa76816",
   "metadata": {},
   "outputs": [
    {
     "name": "stdout",
     "output_type": "stream",
     "text": [
      "MLPModel initialized with model name mlp_depth2 and depth 2.\n",
      "Optuna study will be stored in  : /Users/arvindsuresh/Documents/Github/Election-prediction-May-2025/2020-results-20251023/optuna/mlp_depth2_study.pkl\n",
      "Trained model will be stored in : /Users/arvindsuresh/Documents/Github/Election-prediction-May-2025/2020-results-20251023/models/mlp_depth2_model.pth\n",
      "Final preds will be stored in   : /Users/arvindsuresh/Documents/Github/Election-prediction-May-2025/2020-results-20251023/preds/mlp_depth2_preds.csv\n"
     ]
    }
   ],
   "source": [
    "mlp_depth2 = MLPModel(dh, model_name='mlp_depth2', depth=2)"
   ]
  },
  {
   "cell_type": "markdown",
   "id": "75e2b3c8",
   "metadata": {},
   "source": [
    "#### Run Optuna Hyperparameter Study (Depth=2)\n",
    "This cell runs the Optuna study. For this specific 2-layer architecture, it will find the optimal learning rate, weight decay, batch size, and the number of neurons and dropout rates for both hidden layers."
   ]
  },
  {
   "cell_type": "code",
   "execution_count": 4,
   "id": "a2610909",
   "metadata": {},
   "outputs": [
    {
     "name": "stderr",
     "output_type": "stream",
     "text": [
      "[I 2025-10-23 10:55:34,169] A new study created in memory with name: mlp_depth2_study\n",
      "[I 2025-10-23 10:55:53,523] Trial 8 pruned. \n",
      "[I 2025-10-23 10:55:53,731] Trial 5 pruned. \n",
      "[I 2025-10-23 10:55:54,313] Trial 2 pruned. \n",
      "[I 2025-10-23 10:56:03,228] Trial 4 pruned. \n",
      "[I 2025-10-23 10:56:07,028] Trial 6 pruned. \n",
      "[I 2025-10-23 10:56:07,715] Trial 1 pruned. \n",
      "[I 2025-10-23 10:56:09,927] Trial 11 pruned. \n",
      "[I 2025-10-23 10:56:17,241] Trial 12 pruned. \n",
      "[I 2025-10-23 10:56:23,996] Trial 14 pruned. \n",
      "[I 2025-10-23 10:56:24,310] Trial 15 pruned. \n",
      "[I 2025-10-23 10:56:32,434] Trial 19 pruned. \n",
      "[I 2025-10-23 10:56:33,586] Trial 17 pruned. \n",
      "[I 2025-10-23 10:56:41,294] Trial 18 pruned. \n",
      "[I 2025-10-23 10:56:43,293] Trial 16 pruned. \n",
      "[I 2025-10-23 10:56:52,979] Trial 10 pruned. \n",
      "[I 2025-10-23 10:56:55,348] Trial 7 finished with value: 1.0158263511127896 and parameters: {'learning_rate': 0.07773599703457267, 'weight_decay': 1.4686794058846736e-05, 'batch_size': 256, 'n_hidden_1': 104, 'dropout_rate_1': 0.12244137488813295, 'n_hidden_2': 56, 'dropout_rate_2': 0.060397034801935146}. Best is trial 7 with value: 1.0158263511127896.\n",
      "[I 2025-10-23 10:56:58,451] Trial 13 pruned. \n",
      "[I 2025-10-23 10:57:07,743] Trial 20 pruned. \n",
      "[I 2025-10-23 10:57:09,519] Trial 25 pruned. \n",
      "[I 2025-10-23 10:57:14,216] Trial 3 finished with value: 1.0033033986886342 and parameters: {'learning_rate': 0.009091684392798194, 'weight_decay': 1.0086889835681156e-05, 'batch_size': 192, 'n_hidden_1': 64, 'dropout_rate_1': 0.29923848630903177, 'n_hidden_2': 40, 'dropout_rate_2': 0.46904559562987636}. Best is trial 3 with value: 1.0033033986886342.\n",
      "[I 2025-10-23 10:57:18,359] Trial 22 pruned. \n",
      "[I 2025-10-23 10:57:20,356] Trial 27 pruned. \n",
      "[I 2025-10-23 10:57:20,745] Trial 28 pruned. \n",
      "[I 2025-10-23 10:57:25,736] Trial 21 pruned. \n",
      "[I 2025-10-23 10:57:26,677] Trial 23 pruned. \n",
      "[I 2025-10-23 10:57:28,294] Trial 30 pruned. \n",
      "[I 2025-10-23 10:57:29,899] Trial 24 pruned. \n",
      "[I 2025-10-23 10:57:33,343] Trial 29 pruned. \n",
      "[I 2025-10-23 10:57:34,379] Trial 26 pruned. \n",
      "[I 2025-10-23 10:57:46,115] Trial 34 pruned. \n",
      "[I 2025-10-23 10:57:48,196] Trial 37 pruned. \n",
      "[I 2025-10-23 10:57:48,988] Trial 33 pruned. \n",
      "[I 2025-10-23 10:57:53,714] Trial 36 pruned. \n",
      "[I 2025-10-23 10:57:59,846] Trial 39 pruned. \n",
      "[I 2025-10-23 10:58:04,524] Trial 42 pruned. \n",
      "[I 2025-10-23 10:58:07,576] Trial 0 pruned. \n",
      "[I 2025-10-23 10:58:08,627] Trial 40 pruned. \n",
      "[I 2025-10-23 10:58:14,463] Trial 41 pruned. \n",
      "[I 2025-10-23 10:58:15,719] Trial 35 pruned. \n",
      "[I 2025-10-23 10:58:18,924] Trial 43 pruned. \n",
      "[I 2025-10-23 10:58:27,797] Trial 38 pruned. \n",
      "[I 2025-10-23 10:58:39,994] Trial 44 pruned. \n",
      "[I 2025-10-23 10:58:41,788] Trial 31 finished with value: 1.0008552471796672 and parameters: {'learning_rate': 0.013638764634900312, 'weight_decay': 7.283795869669707e-06, 'batch_size': 256, 'n_hidden_1': 104, 'dropout_rate_1': 0.2999430481001182, 'n_hidden_2': 64, 'dropout_rate_2': 0.08380730710710263}. Best is trial 31 with value: 1.0008552471796672.\n",
      "[I 2025-10-23 10:58:51,544] Trial 32 finished with value: 1.0017686353789435 and parameters: {'learning_rate': 0.01369586984434628, 'weight_decay': 7.73850077136994e-06, 'batch_size': 256, 'n_hidden_1': 128, 'dropout_rate_1': 0.30856183786451435, 'n_hidden_2': 64, 'dropout_rate_2': 0.08640958693951771}. Best is trial 31 with value: 1.0008552471796672.\n",
      "[I 2025-10-23 10:58:53,449] Trial 46 pruned. \n",
      "[I 2025-10-23 10:58:56,368] Trial 48 pruned. \n",
      "[I 2025-10-23 10:58:59,713] Trial 47 pruned. \n",
      "[I 2025-10-23 10:59:03,294] Trial 9 finished with value: 1.0020455254448786 and parameters: {'learning_rate': 0.003322771543881816, 'weight_decay': 9.860611089661875e-05, 'batch_size': 256, 'n_hidden_1': 104, 'dropout_rate_1': 0.17966595421202192, 'n_hidden_2': 40, 'dropout_rate_2': 0.13817708318147282}. Best is trial 31 with value: 1.0008552471796672.\n",
      "[I 2025-10-23 10:59:08,536] Trial 45 pruned. \n",
      "[I 2025-10-23 10:59:09,690] Trial 49 finished with value: 1.001173863808314 and parameters: {'learning_rate': 0.009998628541591437, 'weight_decay': 0.0001802107163652337, 'batch_size': 192, 'n_hidden_1': 72, 'dropout_rate_1': 0.31732483190035954, 'n_hidden_2': 104, 'dropout_rate_2': 0.05568282532323543}. Best is trial 31 with value: 1.0008552471796672.\n"
     ]
    },
    {
     "name": "stdout",
     "output_type": "stream",
     "text": [
      "--------------------\n",
      "Study concluded and saved to /Users/arvindsuresh/Documents/Github/Election-prediction-May-2025/2020-results-20251023/optuna/mlp_depth2_study.pkl.\n",
      "Best trial: 31\n",
      "Best loss: 1.0008552471796672\n",
      "Best params: {'learning_rate': 0.013638764634900312, 'weight_decay': 7.283795869669707e-06, 'batch_size': 256, 'n_hidden_1': 104, 'dropout_rate_1': 0.2999430481001182, 'n_hidden_2': 64, 'dropout_rate_2': 0.08380730710710263}\n",
      "Best epoch: 36\n"
     ]
    }
   ],
   "source": [
    "mlp_depth2.run_optuna_study(\n",
    "    n_trials=50,\n",
    "    timeout=30,               # Stop study after 30 minutes\n",
    "    max_epochs=40,            # Max epochs to train each trial\n",
    "    min_resource=4,          # Min epochs before pruning\n",
    "    reduction_factor=2,\n",
    "    use_pca=False\n",
    ")"
   ]
  },
  {
   "cell_type": "markdown",
   "id": "e4b08b7c",
   "metadata": {},
   "source": [
    "#### Train Final Model (Depth=2)\n",
    "Using the best hyperparameters and the optimal number of training epochs found by Optuna, this cell trains the final 2-layer MLP on the entire training dataset. The model's weights (`.pth` file) are saved to the results directory."
   ]
  },
  {
   "cell_type": "code",
   "execution_count": 5,
   "id": "069ee3d9",
   "metadata": {},
   "outputs": [
    {
     "name": "stdout",
     "output_type": "stream",
     "text": [
      "Training mlp_depth2 with depth 2 for 36 epochs with patience of 10 epochs.\n",
      "Using batch size: 256 and best params: {'learning_rate': 0.013638764634900312, 'weight_decay': 7.283795869669707e-06, 'batch_size': 256, 'n_hidden_1': 104, 'dropout_rate_1': 0.2999430481001182, 'n_hidden_2': 64, 'dropout_rate_2': 0.08380730710710263}.\n",
      "Epoch    0, Loss: 1.044705\n",
      "Epoch    1, Loss: 1.005406\n",
      "Epoch    2, Loss: 0.997768\n",
      "Epoch    3, Loss: 0.997712\n",
      "Epoch    4, Loss: 0.997188\n",
      "Epoch    5, Loss: 0.996592\n",
      "Epoch    6, Loss: 0.998034\n",
      "Epoch    7, Loss: 0.995895\n",
      "Epoch    8, Loss: 0.993838\n",
      "Epoch    9, Loss: 0.992954\n",
      "Epoch   10, Loss: 0.994985\n",
      "Epoch   11, Loss: 0.993056\n",
      "Epoch   12, Loss: 0.994317\n",
      "Epoch   13, Loss: 0.994425\n",
      "Epoch   14, Loss: 0.993872\n",
      "Epoch   15, Loss: 0.993259\n",
      "Epoch   16, Loss: 0.995204\n",
      "Epoch   17, Loss: 0.994015\n",
      "Epoch   18, Loss: 0.993140\n",
      "Epoch   19, Loss: 0.993627\n",
      "Early stopping at epoch 19.\n",
      "Training completed in 3.29 seconds.\n",
      "Model saved to /Users/arvindsuresh/Documents/Github/Election-prediction-May-2025/2020-results-20251023/models/mlp_depth2_model.pth\n"
     ]
    }
   ],
   "source": [
    "mlp_depth2.train_final_model(patience=10) # Stop if loss doesn't improve for 10 epochs"
   ]
  },
  {
   "cell_type": "markdown",
   "id": "c2443ab8",
   "metadata": {},
   "source": [
    "#### Generate Final Predictions (Depth=2)\n",
    "Finally, we load the trained 2-layer model and use it to make predictions on the held-out 2020 test set."
   ]
  },
  {
   "cell_type": "code",
   "execution_count": 6,
   "id": "03b7bd29",
   "metadata": {},
   "outputs": [
    {
     "name": "stdout",
     "output_type": "stream",
     "text": [
      "mlp_depth2 predictions saved to: /Users/arvindsuresh/Documents/Github/Election-prediction-May-2025/2020-results-20251023/preds/mlp_depth2_preds.csv.\n",
      "\n",
      "MLP (Depth=2) Predictions (first 5 rows):\n",
      "[[0.15294294 0.2773426  0.02739584 0.54231864]\n",
      " [0.14686209 0.29007718 0.04715114 0.51590955]\n",
      " [0.19786239 0.19287218 0.01319368 0.5960718 ]\n",
      " [0.11619189 0.23342094 0.01778831 0.6325988 ]\n",
      " [0.12058429 0.2607012  0.03078086 0.5879336 ]]\n"
     ]
    }
   ],
   "source": [
    "# Make predictions on the 2020 test data\n",
    "preds_depth2 = mlp_depth2.make_final_predictions()\n",
    "print(\"\\nMLP (Depth=2) Predictions (first 5 rows):\")\n",
    "print(preds_depth2[:5])"
   ]
  }
 ],
 "metadata": {
  "kernelspec": {
   "display_name": "math392",
   "language": "python",
   "name": "python3"
  },
  "language_info": {
   "codemirror_mode": {
    "name": "ipython",
    "version": 3
   },
   "file_extension": ".py",
   "mimetype": "text/x-python",
   "name": "python",
   "nbconvert_exporter": "python",
   "pygments_lexer": "ipython3",
   "version": "3.11.11"
  }
 },
 "nbformat": 4,
 "nbformat_minor": 5
}
