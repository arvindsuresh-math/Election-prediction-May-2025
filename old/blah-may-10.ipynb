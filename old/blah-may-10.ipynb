{
 "cells": [
  {
   "cell_type": "code",
   "execution_count": 1,
   "id": "64d7eb65",
   "metadata": {},
   "outputs": [
    {
     "name": "stdout",
     "output_type": "stream",
     "text": [
      "Using MPS device (Apple Silicon GPU)\n"
     ]
    }
   ],
   "source": [
    "import torch\n",
    "import torch.nn as nn\n",
    "import torch.optim as optim\n",
    "import optuna\n",
    "import os\n",
    "import json\n",
    "import copy\n",
    "import joblib\n",
    "import pandas as pd\n",
    "import numpy as np\n",
    "import time\n",
    "from typing import Dict, Any, Optional, Union, List, Tuple, Type\n",
    "\n",
    "from constants import DEVICE\n",
    "from data_handling import DataHandler\n",
    "from metrics import weighted_cross_entropy_loss\n",
    "from mlp_model import objective_mlp"
   ]
  },
  {
   "cell_type": "code",
   "execution_count": 2,
   "id": "c97a3486",
   "metadata": {},
   "outputs": [
    {
     "name": "stdout",
     "output_type": "stream",
     "text": [
      "DataHandler initialized - Using 114 features - Test year: 2020\n"
     ]
    }
   ],
   "source": [
    "dh = DataHandler()"
   ]
  },
  {
   "cell_type": "code",
   "execution_count": 3,
   "id": "f0a2184b",
   "metadata": {},
   "outputs": [],
   "source": [
    "# First, set up the ASHA pruner\n",
    "asha_pruner = optuna.pruners.SuccessiveHalvingPruner(\n",
    "    min_resource=20,        # Minimum number of steps before pruning\n",
    "    reduction_factor=2,    # Reduction factor for successive halving\n",
    "    min_early_stopping_rate=0\n",
    ")"
   ]
  },
  {
   "cell_type": "code",
   "execution_count": 4,
   "id": "0a53544c",
   "metadata": {},
   "outputs": [
    {
     "name": "stderr",
     "output_type": "stream",
     "text": [
      "[I 2025-05-11 13:05:55,046] A new study created in memory with name: no-name-cadc6d1b-56c4-4056-85c7-3cfe252c6ca8\n"
     ]
    }
   ],
   "source": [
    "study_mlp3 = optuna.create_study(direction=\"minimize\", pruner=asha_pruner)"
   ]
  },
  {
   "cell_type": "code",
   "execution_count": 5,
   "id": "e60194e4",
   "metadata": {},
   "outputs": [
    {
     "name": "stderr",
     "output_type": "stream",
     "text": [
      "[I 2025-05-11 13:07:38,724] Trial 6 pruned. \n",
      "[I 2025-05-11 13:07:43,569] Trial 4 pruned. \n",
      "[I 2025-05-11 13:09:05,130] Trial 3 pruned. \n",
      "[I 2025-05-11 13:09:25,158] Trial 9 pruned. \n",
      "[I 2025-05-11 13:10:40,102] Trial 10 pruned. \n",
      "[I 2025-05-11 13:12:14,364] Trial 12 pruned. \n",
      "[I 2025-05-11 13:12:44,183] Trial 11 pruned. \n",
      "[I 2025-05-11 13:15:15,765] Trial 13 pruned. \n",
      "[I 2025-05-11 13:15:22,190] Trial 7 finished with value: 1.0639335879912741 and parameters: {'learning_rate': 0.030404413973040313, 'weight_decay': 0.0004494607467880671, 'n_hidden_1': 16, 'dropout_rate_1': 0.17496197346951176, 'n_hidden_2': 80, 'dropout_rate_2': 0.4008359098210006, 'n_hidden_3': 56, 'dropout_rate_3': 0.37737783585462537}. Best is trial 7 with value: 1.0639335879912741.\n",
      "[I 2025-05-11 13:15:28,508] Trial 1 finished with value: 1.054548246738238 and parameters: {'learning_rate': 0.006915658603149061, 'weight_decay': 1.6291229598189416e-05, 'n_hidden_1': 104, 'dropout_rate_1': 0.4564157994013289, 'n_hidden_2': 104, 'dropout_rate_2': 0.30135452099228005, 'n_hidden_3': 8, 'dropout_rate_3': 0.31657142102696645}. Best is trial 1 with value: 1.054548246738238.\n",
      "[I 2025-05-11 13:15:37,552] Trial 5 finished with value: 1.0493404972247589 and parameters: {'learning_rate': 0.00018515529137389588, 'weight_decay': 0.0017412998113407114, 'n_hidden_1': 56, 'dropout_rate_1': 0.18749584259014918, 'n_hidden_2': 88, 'dropout_rate_2': 0.2536241853933499, 'n_hidden_3': 128, 'dropout_rate_3': 0.2596692587961761}. Best is trial 5 with value: 1.0493404972247589.\n",
      "[I 2025-05-11 13:16:49,113] Trial 15 pruned. \n",
      "[I 2025-05-11 13:16:54,215] Trial 16 pruned. \n",
      "[I 2025-05-11 13:17:17,719] Trial 8 finished with value: 1.0484173542413957 and parameters: {'learning_rate': 0.00024390533010894326, 'weight_decay': 0.0010574348339356216, 'n_hidden_1': 56, 'dropout_rate_1': 0.1377459054589698, 'n_hidden_2': 112, 'dropout_rate_2': 0.25960987554638804, 'n_hidden_3': 128, 'dropout_rate_3': 0.07643320226762113}. Best is trial 8 with value: 1.0484173542413957.\n",
      "[I 2025-05-11 13:17:38,857] Trial 2 finished with value: 1.0512321117596748 and parameters: {'learning_rate': 0.0011835412953546279, 'weight_decay': 8.351438919914989e-05, 'n_hidden_1': 88, 'dropout_rate_1': 0.33016240813097464, 'n_hidden_2': 24, 'dropout_rate_2': 0.4598944777888197, 'n_hidden_3': 48, 'dropout_rate_3': 0.08678439942275679}. Best is trial 8 with value: 1.0484173542413957.\n",
      "[I 2025-05-11 13:18:16,491] Trial 14 pruned. \n",
      "[I 2025-05-11 13:18:29,389] Trial 0 finished with value: 1.0484765110871732 and parameters: {'learning_rate': 0.0017404119345552584, 'weight_decay': 0.00010180752455910256, 'n_hidden_1': 96, 'dropout_rate_1': 0.23286092682631382, 'n_hidden_2': 24, 'dropout_rate_2': 0.2797164659954826, 'n_hidden_3': 64, 'dropout_rate_3': 0.004281779273364317}. Best is trial 8 with value: 1.0484173542413957.\n",
      "[I 2025-05-11 13:20:00,554] Trial 17 finished with value: 1.0491604300645683 and parameters: {'learning_rate': 0.0004513750517375654, 'weight_decay': 1.1649504504156601e-06, 'n_hidden_1': 72, 'dropout_rate_1': 0.26954443362528346, 'n_hidden_2': 104, 'dropout_rate_2': 0.3453389392964385, 'n_hidden_3': 72, 'dropout_rate_3': 0.4960908004815314}. Best is trial 8 with value: 1.0484173542413957.\n",
      "[I 2025-05-11 13:20:02,089] Trial 18 finished with value: 1.049760586176163 and parameters: {'learning_rate': 0.0004858372928644628, 'weight_decay': 0.008943003550224872, 'n_hidden_1': 64, 'dropout_rate_1': 0.27727092641761997, 'n_hidden_2': 104, 'dropout_rate_2': 0.32716899118137605, 'n_hidden_3': 72, 'dropout_rate_3': 0.49206832538448825}. Best is trial 8 with value: 1.0484173542413957.\n"
     ]
    }
   ],
   "source": [
    "study_mlp3.optimize(\n",
    "    lambda trial: objective_mlp(trial,\n",
    "                            input_dim=dh.input_dim,\n",
    "                            depth=3,\n",
    "                            dataloaders=dh.get_nn_data('cv', batch_size=256),\n",
    "                            max_epochs=128),\n",
    "    n_trials=64,  # Number of trials to run\n",
    "    timeout=600,   # Timeout in seconds\n",
    "    n_jobs=-1,     # Use all available cores\n",
    ")"
   ]
  },
  {
   "cell_type": "code",
   "execution_count": 6,
   "id": "7bf8e5c9",
   "metadata": {},
   "outputs": [],
   "source": [
    "# study_mlp3.optimize(\n",
    "#     lambda trial: objective_mlp(trial,\n",
    "#                             input_dim=dh.input_dim,\n",
    "#                             depth=3,\n",
    "#                             dataloaders=dh.get_nn_data('cv', batch_size=256),\n",
    "#                             max_epochs=128),\n",
    "#     n_trials=64,  # Number of trials to run\n",
    "#     timeout=1800,   # Timeout in seconds\n",
    "#     n_jobs=-1,     # Use all available cores\n",
    "# )"
   ]
  },
  {
   "cell_type": "code",
   "execution_count": 7,
   "id": "9163d8b3",
   "metadata": {},
   "outputs": [],
   "source": [
    "# # Save the complete study to a file\n",
    "# study_filename = f\"mlp3_optuna_study_{time.strftime('%Y%m%d_%H%M%S')}.pkl\"\n",
    "# joblib.dump(study_mlp3, study_filename)\n",
    "# print(f\"Study saved to {study_filename}\")"
   ]
  }
 ],
 "metadata": {
  "kernelspec": {
   "display_name": "math392",
   "language": "python",
   "name": "python3"
  },
  "language_info": {
   "codemirror_mode": {
    "name": "ipython",
    "version": 3
   },
   "file_extension": ".py",
   "mimetype": "text/x-python",
   "name": "python",
   "nbconvert_exporter": "python",
   "pygments_lexer": "ipython3",
   "version": "3.11.8"
  }
 },
 "nbformat": 4,
 "nbformat_minor": 5
}
