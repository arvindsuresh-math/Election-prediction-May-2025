{
 "cells": [
  {
   "cell_type": "code",
   "execution_count": 1,
   "id": "753f64e8",
   "metadata": {},
   "outputs": [
    {
     "name": "stdout",
     "output_type": "stream",
     "text": [
      "Using MPS device (Apple Silicon GPU)\n"
     ]
    }
   ],
   "source": [
    "import torch\n",
    "import torch.nn as nn\n",
    "import torch.optim as optim\n",
    "import optuna\n",
    "import os\n",
    "import json\n",
    "import copy\n",
    "import joblib\n",
    "import pandas as pd\n",
    "import numpy as np\n",
    "import time\n",
    "from typing import Dict, Any, Optional, Union, List, Tuple, Type\n",
    "\n",
    "from constants import DEVICE\n",
    "from data_handling import DataHandler\n",
    "from metrics import weighted_cross_entropy_loss"
   ]
  },
  {
   "cell_type": "code",
   "execution_count": 2,
   "id": "e7eb7cc2",
   "metadata": {},
   "outputs": [],
   "source": [
    "def suggest_mlp_params(trial: optuna.trial.Trial, depth: int):\n",
    "    \"\"\"Suggests learning rate, weight decay, hidden layer sizes, and dropout rates for an Optuna trial for an MLP.\"\"\"\n",
    "    params = {}\n",
    "    params['learning_rate'] = trial.suggest_float('learning_rate', 1e-4, 1e-1, log=True)\n",
    "    params['weight_decay'] = trial.suggest_float('weight_decay', 1e-6, 1e-2, log=True)\n",
    "    for i in range(1, depth + 1):\n",
    "        params[f'n_hidden_{i}'] = trial.suggest_int(f'n_hidden_{i}', 8, 128, step=8)\n",
    "        params[f'dropout_rate_{i}'] = trial.suggest_float(f'dropout_rate_{i}', 0.0, 0.5, log=False)\n",
    "    return params\n",
    "\n",
    "def build_network(input_dim: int, depth: int, hparams: Dict[str, Any]):\n",
    "    \"\"\"Returns an MLP (nn.Sequential) with the specified input dimension, depth, and hyperparameters.\"\"\"\n",
    "    layers = []\n",
    "    current_dim = input_dim\n",
    "\n",
    "    for i in range(1, depth + 1):\n",
    "        n_hidden = hparams[f\"n_hidden_{i}\"]\n",
    "        layers.append(nn.Linear(current_dim, n_hidden))\n",
    "        layers.append(nn.ReLU()) \n",
    "\n",
    "        dropout_rate = hparams.get(f\"dropout_rate_{i}\", 0.0)\n",
    "        if dropout_rate > 0.0:\n",
    "            layers.append(nn.Dropout(dropout_rate))\n",
    "        current_dim = n_hidden\n",
    "\n",
    "    layers.append(nn.Linear(current_dim, 4))\n",
    "    layers.append(nn.Softmax(dim=1))\n",
    "    return nn.Sequential(*layers)"
   ]
  },
  {
   "cell_type": "code",
   "execution_count": 3,
   "id": "7b680455",
   "metadata": {},
   "outputs": [],
   "source": [
    "def train_and_validate_one_fold(\n",
    "        model: nn.Module,\n",
    "        train_loader: torch.utils.data.DataLoader,\n",
    "        val_loader: torch.utils.data.DataLoader,\n",
    "        optimizer: optim.Optimizer,\n",
    "        num_epochs: int\n",
    "        ):\n",
    "    \"\"\"Trains and validates the model on one fold of the data.\"\"\"\n",
    "    # Training phase\n",
    "    for _ in range(num_epochs):\n",
    "        model.train()\n",
    "        for features, targets, weights in train_loader:\n",
    "            features, targets, weights = features.to(DEVICE), targets.to(DEVICE), weights.to(DEVICE)\n",
    "            optimizer.zero_grad()\n",
    "            outputs = model(features)\n",
    "            loss = weighted_cross_entropy_loss(outputs, targets, weights)\n",
    "            loss.backward()\n",
    "            optimizer.step()\n",
    "\n",
    "    # Validation phase\n",
    "    model.eval()\n",
    "    val_loss = 0.0\n",
    "    with torch.no_grad():\n",
    "        for features, targets, weights in val_loader:\n",
    "            features, targets, weights = features.to(DEVICE), targets.to(DEVICE), weights.to(DEVICE)\n",
    "            outputs = model(features)\n",
    "            loss = weighted_cross_entropy_loss(outputs, targets, weights)\n",
    "            val_loss += loss.item()\n",
    "\n",
    "    return val_loss/ len(val_loader)"
   ]
  },
  {
   "cell_type": "code",
   "execution_count": 4,
   "id": "f202ea3d",
   "metadata": {},
   "outputs": [],
   "source": [
    "def objective(trial: optuna.trial.Trial, \n",
    "              input_dim: int,  \n",
    "              depth: int, \n",
    "              dataloaders: List[Tuple[torch.utils.data.DataLoader, torch.utils.data.DataLoader]]):\n",
    "    # Get hyperparams and build models as before\n",
    "    hparams = suggest_mlp_params(trial, depth)\n",
    "    max_epochs = 100  # Use a larger number, ASHA will prune inefficient ones\n",
    "    \n",
    "    # Create models for each fold\n",
    "    models = {}\n",
    "    for i in range(3):\n",
    "        model_i = copy.deepcopy(build_network(input_dim, depth, hparams))\n",
    "        optimizer_i = optim.AdamW(model_i.parameters(),\n",
    "                                 lr=hparams['learning_rate'],\n",
    "                                 weight_decay=hparams['weight_decay'])\n",
    "        models[i] = (model_i, optimizer_i)\n",
    "    \n",
    "    # Train for multiple epochs\n",
    "    for epoch in range(max_epochs):\n",
    "        epoch_fold_losses = []\n",
    "        \n",
    "        # Train one epoch on each fold\n",
    "        for fold_idx, (train_loader, val_loader) in enumerate(dataloaders):\n",
    "            model, optimizer = models[fold_idx]\n",
    "            \n",
    "            # Train for ONE epoch\n",
    "            model.to(DEVICE)\n",
    "            model.train()\n",
    "            for features, targets, weights in train_loader:\n",
    "                features = features.to(DEVICE)\n",
    "                targets = targets.to(DEVICE)\n",
    "                weights = weights.to(DEVICE)\n",
    "                optimizer.zero_grad()\n",
    "                outputs = model(features)\n",
    "                loss = weighted_cross_entropy_loss(outputs, targets, weights)\n",
    "                loss.backward()\n",
    "                optimizer.step()\n",
    "            \n",
    "            # Validate\n",
    "            model.eval()\n",
    "            val_loss = 0.0\n",
    "            with torch.no_grad():\n",
    "                for features, targets, weights in val_loader:\n",
    "                    features = features.to(DEVICE)\n",
    "                    targets = targets.to(DEVICE)\n",
    "                    weights = weights.to(DEVICE)\n",
    "                    outputs = model(features)\n",
    "                    loss = weighted_cross_entropy_loss(outputs, targets, weights)\n",
    "                    val_loss += loss.item()\n",
    "                    \n",
    "            epoch_fold_losses.append(val_loss/len(val_loader))\n",
    "        \n",
    "        # Update current mean loss\n",
    "        epoch_loss = np.mean(epoch_fold_losses)\n",
    "        \n",
    "        # Report and prune\n",
    "        trial.report(epoch_loss, step=epoch)\n",
    "        if trial.should_prune():\n",
    "            raise optuna.TrialPruned()\n",
    "    \n",
    "    # Return the last epoch loss\n",
    "    return epoch_loss"
   ]
  },
  {
   "cell_type": "code",
   "execution_count": 5,
   "id": "4a511764",
   "metadata": {},
   "outputs": [
    {
     "name": "stdout",
     "output_type": "stream",
     "text": [
      "DataHandler initialized - Using 114 features - Test year: 2020\n"
     ]
    }
   ],
   "source": [
    "dh = DataHandler()\n",
    "cv_dataloaders = dh.get_nn_data('cv', batch_size=256)"
   ]
  },
  {
   "cell_type": "code",
   "execution_count": 6,
   "id": "e75ce1a8",
   "metadata": {},
   "outputs": [
    {
     "name": "stderr",
     "output_type": "stream",
     "text": [
      "[I 2025-05-10 13:41:24,100] A new study created in memory with name: no-name-5081d646-8924-41df-98bf-3c0a5ff14755\n"
     ]
    }
   ],
   "source": [
    "import optuna\n",
    "# First, set up the ASHA pruner\n",
    "asha_pruner = optuna.pruners.SuccessiveHalvingPruner(\n",
    "    min_resource=10,        # Minimum number of steps before pruning\n",
    "    reduction_factor=3,    # Reduction factor for successive halving\n",
    "    min_early_stopping_rate=0\n",
    ")\n",
    "\n",
    "study = optuna.create_study(direction=\"minimize\", pruner=asha_pruner)"
   ]
  },
  {
   "cell_type": "code",
   "execution_count": 7,
   "id": "ae481c70",
   "metadata": {},
   "outputs": [
    {
     "name": "stderr",
     "output_type": "stream",
     "text": [
      "[I 2025-05-10 13:42:12,602] Trial 2 pruned. \n",
      "[I 2025-05-10 13:42:13,699] Trial 3 pruned. \n",
      "[I 2025-05-10 13:42:15,335] Trial 5 pruned. \n",
      "[I 2025-05-10 13:42:16,279] Trial 6 pruned. \n",
      "[I 2025-05-10 13:42:25,681] Trial 0 pruned. \n",
      "[I 2025-05-10 13:42:35,371] Trial 7 pruned. \n",
      "[I 2025-05-10 13:42:58,439] Trial 8 pruned. \n",
      "[I 2025-05-10 13:42:59,884] Trial 9 pruned. \n",
      "[I 2025-05-10 13:43:03,079] Trial 11 pruned. \n",
      "[I 2025-05-10 13:43:43,624] Trial 14 pruned. \n",
      "[I 2025-05-10 13:43:45,970] Trial 4 pruned. \n",
      "[I 2025-05-10 13:43:49,491] Trial 16 pruned. \n",
      "[I 2025-05-10 13:44:34,215] Trial 18 pruned. \n",
      "[I 2025-05-10 13:45:07,235] Trial 15 pruned. \n",
      "[I 2025-05-10 13:45:39,771] Trial 13 pruned. \n",
      "[I 2025-05-10 13:45:50,415] Trial 17 pruned. \n",
      "[I 2025-05-10 13:45:59,701] Trial 19 pruned. \n",
      "[I 2025-05-10 13:46:45,768] Trial 22 pruned. \n",
      "[I 2025-05-10 13:47:14,620] Trial 21 pruned. \n",
      "[I 2025-05-10 13:47:51,754] Trial 25 pruned. \n",
      "[I 2025-05-10 13:47:57,107] Trial 23 pruned. \n",
      "[I 2025-05-10 13:47:59,892] Trial 26 pruned. \n",
      "[I 2025-05-10 13:48:15,860] Trial 1 finished with value: 0.8458496439151274 and parameters: {'learning_rate': 0.0018313262613286383, 'weight_decay': 9.972032984735677e-05, 'n_hidden_1': 112, 'dropout_rate_1': 0.26971801113191035, 'n_hidden_2': 48, 'dropout_rate_2': 0.47415842256682345, 'n_hidden_3': 128, 'dropout_rate_3': 0.17640855508164865}. Best is trial 1 with value: 0.8458496439151274.\n",
      "[I 2025-05-10 13:48:42,594] Trial 28 pruned. \n",
      "[I 2025-05-10 13:48:45,600] Trial 29 pruned. \n",
      "[I 2025-05-10 13:48:58,135] Trial 27 pruned. \n",
      "[I 2025-05-10 13:49:01,230] Trial 30 pruned. \n",
      "[I 2025-05-10 13:49:11,274] Trial 10 finished with value: 0.8443264349912986 and parameters: {'learning_rate': 0.0016255281495529213, 'weight_decay': 5.5157012120724035e-05, 'n_hidden_1': 128, 'dropout_rate_1': 0.3293009044179527, 'n_hidden_2': 48, 'dropout_rate_2': 0.3008558884671535, 'n_hidden_3': 112, 'dropout_rate_3': 0.35918979770528575}. Best is trial 10 with value: 0.8443264349912986.\n",
      "[I 2025-05-10 13:49:28,171] Trial 31 pruned. \n",
      "[I 2025-05-10 13:49:31,497] Trial 32 pruned. \n",
      "[I 2025-05-10 13:49:46,293] Trial 34 pruned. \n",
      "[I 2025-05-10 13:49:56,975] Trial 35 pruned. \n",
      "[I 2025-05-10 13:50:04,785] Trial 33 pruned. \n",
      "[I 2025-05-10 13:50:13,309] Trial 36 pruned. \n",
      "[I 2025-05-10 13:50:16,870] Trial 37 pruned. \n",
      "[I 2025-05-10 13:50:31,283] Trial 38 pruned. \n",
      "[I 2025-05-10 13:50:42,483] Trial 39 pruned. \n",
      "[I 2025-05-10 13:50:50,057] Trial 12 finished with value: 0.8431291763599101 and parameters: {'learning_rate': 0.001115038438607185, 'weight_decay': 7.904791403295057e-05, 'n_hidden_1': 56, 'dropout_rate_1': 0.23592940922084354, 'n_hidden_2': 72, 'dropout_rate_2': 0.010476526620503857, 'n_hidden_3': 128, 'dropout_rate_3': 0.013288838038620465}. Best is trial 12 with value: 0.8431291763599101.\n",
      "[I 2025-05-10 13:50:58,375] Trial 41 pruned. \n",
      "[I 2025-05-10 13:51:01,969] Trial 42 pruned. \n",
      "[I 2025-05-10 13:51:09,887] Trial 40 pruned. \n",
      "[I 2025-05-10 13:51:16,080] Trial 43 pruned. \n",
      "[I 2025-05-10 13:51:27,760] Trial 44 pruned. \n",
      "[I 2025-05-10 13:51:42,447] Trial 46 pruned. \n",
      "[I 2025-05-10 13:51:44,711] Trial 45 pruned. \n",
      "[I 2025-05-10 13:51:46,451] Trial 47 pruned. \n",
      "[I 2025-05-10 13:51:49,767] Trial 20 finished with value: 0.8437982553090805 and parameters: {'learning_rate': 0.0020467342926262897, 'weight_decay': 0.009652557915991707, 'n_hidden_1': 56, 'dropout_rate_1': 0.21966333566381832, 'n_hidden_2': 32, 'dropout_rate_2': 0.12457319950407292, 'n_hidden_3': 88, 'dropout_rate_3': 0.10100511704045925}. Best is trial 12 with value: 0.8431291763599101.\n",
      "[I 2025-05-10 13:52:32,286] Trial 53 pruned. \n",
      "[I 2025-05-10 13:52:41,641] Trial 52 pruned. \n",
      "[I 2025-05-10 13:53:01,422] Trial 24 finished with value: 0.8428410306954995 and parameters: {'learning_rate': 0.001259930585411952, 'weight_decay': 1.2847810934989916e-05, 'n_hidden_1': 64, 'dropout_rate_1': 0.2789810760822564, 'n_hidden_2': 128, 'dropout_rate_2': 0.006837075151043898, 'n_hidden_3': 88, 'dropout_rate_3': 0.11448836257607312}. Best is trial 24 with value: 0.8428410306954995.\n",
      "[I 2025-05-10 13:53:18,174] Trial 55 pruned. \n",
      "[I 2025-05-10 13:53:36,861] Trial 56 pruned. \n",
      "[I 2025-05-10 13:53:36,989] Trial 50 pruned. \n",
      "[I 2025-05-10 13:53:48,014] Trial 57 pruned. \n",
      "[I 2025-05-10 13:53:50,376] Trial 51 pruned. \n",
      "[I 2025-05-10 13:54:03,217] Trial 58 pruned. \n",
      "[I 2025-05-10 13:54:14,171] Trial 48 pruned. \n",
      "[I 2025-05-10 13:54:33,826] Trial 61 pruned. \n",
      "[I 2025-05-10 13:55:44,426] Trial 60 pruned. \n",
      "[I 2025-05-10 13:55:56,277] Trial 62 pruned. \n",
      "[I 2025-05-10 13:56:10,250] Trial 63 pruned. \n",
      "[I 2025-05-10 13:56:41,706] Trial 67 pruned. \n",
      "[I 2025-05-10 13:56:55,648] Trial 68 pruned. \n",
      "[I 2025-05-10 13:57:16,918] Trial 64 pruned. \n",
      "[I 2025-05-10 13:57:26,808] Trial 49 pruned. \n",
      "[I 2025-05-10 13:57:53,522] Trial 66 pruned. \n",
      "[I 2025-05-10 13:58:25,991] Trial 54 pruned. \n",
      "[I 2025-05-10 13:59:13,968] Trial 74 pruned. \n",
      "[I 2025-05-10 14:00:56,351] Trial 65 pruned. \n",
      "[I 2025-05-10 14:01:28,231] Trial 75 pruned. \n",
      "[I 2025-05-10 14:01:41,220] Trial 76 pruned. \n",
      "[I 2025-05-10 14:01:51,665] Trial 59 finished with value: 0.8429280091554691 and parameters: {'learning_rate': 0.0012501766156645853, 'weight_decay': 3.5111765051947157e-06, 'n_hidden_1': 48, 'dropout_rate_1': 0.03573075327624553, 'n_hidden_2': 40, 'dropout_rate_2': 0.004080753185169872, 'n_hidden_3': 88, 'dropout_rate_3': 0.1918790399585226}. Best is trial 24 with value: 0.8428410306954995.\n",
      "[I 2025-05-10 14:02:32,270] Trial 69 pruned. \n",
      "[I 2025-05-10 14:02:41,039] Trial 70 pruned. \n",
      "[I 2025-05-10 14:03:06,917] Trial 73 pruned. \n",
      "[I 2025-05-10 14:03:08,476] Trial 72 finished with value: 0.8433079597277519 and parameters: {'learning_rate': 0.0016858318271719417, 'weight_decay': 6.06598146176023e-05, 'n_hidden_1': 32, 'dropout_rate_1': 0.03484556030245961, 'n_hidden_2': 128, 'dropout_rate_2': 0.06078627454602954, 'n_hidden_3': 128, 'dropout_rate_3': 0.115361963192355}. Best is trial 24 with value: 0.8428410306954995.\n",
      "[I 2025-05-10 14:03:19,366] Trial 71 finished with value: 0.843458796158815 and parameters: {'learning_rate': 0.001674953224065771, 'weight_decay': 0.00014625206122296597, 'n_hidden_1': 72, 'dropout_rate_1': 0.20762441198634818, 'n_hidden_2': 104, 'dropout_rate_2': 0.0570503531480058, 'n_hidden_3': 96, 'dropout_rate_3': 0.2419779654443792}. Best is trial 24 with value: 0.8428410306954995.\n"
     ]
    }
   ],
   "source": [
    "study.optimize(\n",
    "    lambda trial: objective(trial,\n",
    "                            input_dim=dh.input_dim,\n",
    "                            depth=3,\n",
    "                            dataloaders=cv_dataloaders),\n",
    "    n_trials=100,  # Number of trials to run\n",
    "    timeout=1200,   # Timeout in seconds\n",
    "    n_jobs=-1,     # Use all available cores\n",
    ")"
   ]
  },
  {
   "cell_type": "code",
   "execution_count": 29,
   "id": "5a99c632",
   "metadata": {},
   "outputs": [
    {
     "data": {
      "text/plain": [
       "['__class__',\n",
       " '__delattr__',\n",
       " '__dict__',\n",
       " '__dir__',\n",
       " '__doc__',\n",
       " '__eq__',\n",
       " '__format__',\n",
       " '__ge__',\n",
       " '__getattribute__',\n",
       " '__getstate__',\n",
       " '__gt__',\n",
       " '__hash__',\n",
       " '__init__',\n",
       " '__init_subclass__',\n",
       " '__le__',\n",
       " '__lt__',\n",
       " '__module__',\n",
       " '__ne__',\n",
       " '__new__',\n",
       " '__reduce__',\n",
       " '__reduce_ex__',\n",
       " '__repr__',\n",
       " '__setattr__',\n",
       " '__setstate__',\n",
       " '__sizeof__',\n",
       " '__str__',\n",
       " '__subclasshook__',\n",
       " '__weakref__',\n",
       " '_directions',\n",
       " '_get_trials',\n",
       " '_is_multi_objective',\n",
       " '_log_completed_trial',\n",
       " '_pop_waiting_trial_id',\n",
       " '_should_skip_enqueue',\n",
       " '_stop_flag',\n",
       " '_storage',\n",
       " '_study_id',\n",
       " '_thread_local',\n",
       " 'add_trial',\n",
       " 'add_trials',\n",
       " 'ask',\n",
       " 'best_params',\n",
       " 'best_trial',\n",
       " 'best_trials',\n",
       " 'best_value',\n",
       " 'direction',\n",
       " 'directions',\n",
       " 'enqueue_trial',\n",
       " 'get_trials',\n",
       " 'metric_names',\n",
       " 'optimize',\n",
       " 'pruner',\n",
       " 'sampler',\n",
       " 'set_metric_names',\n",
       " 'set_system_attr',\n",
       " 'set_user_attr',\n",
       " 'stop',\n",
       " 'study_name',\n",
       " 'system_attrs',\n",
       " 'tell',\n",
       " 'trials',\n",
       " 'trials_dataframe',\n",
       " 'user_attrs']"
      ]
     },
     "execution_count": 29,
     "metadata": {},
     "output_type": "execute_result"
    }
   ],
   "source": [
    "dir(study)"
   ]
  },
  {
   "cell_type": "code",
   "execution_count": 31,
   "id": "de616e0b",
   "metadata": {},
   "outputs": [],
   "source": [
    "cv_results = study.trials_dataframe()"
   ]
  },
  {
   "cell_type": "code",
   "execution_count": 33,
   "id": "d1afe399",
   "metadata": {},
   "outputs": [
    {
     "data": {
      "application/vnd.microsoft.datawrangler.viewer.v0+json": {
       "columns": [
        {
         "name": "index",
         "rawType": "int64",
         "type": "integer"
        },
        {
         "name": "number",
         "rawType": "int64",
         "type": "integer"
        },
        {
         "name": "value",
         "rawType": "float64",
         "type": "float"
        },
        {
         "name": "datetime_start",
         "rawType": "datetime64[ns]",
         "type": "datetime"
        },
        {
         "name": "datetime_complete",
         "rawType": "datetime64[ns]",
         "type": "datetime"
        },
        {
         "name": "duration",
         "rawType": "timedelta64[ns]",
         "type": "unknown"
        },
        {
         "name": "params_dropout_rate_1",
         "rawType": "float64",
         "type": "float"
        },
        {
         "name": "params_dropout_rate_2",
         "rawType": "float64",
         "type": "float"
        },
        {
         "name": "params_dropout_rate_3",
         "rawType": "float64",
         "type": "float"
        },
        {
         "name": "params_learning_rate",
         "rawType": "float64",
         "type": "float"
        },
        {
         "name": "params_n_hidden_1",
         "rawType": "int64",
         "type": "integer"
        },
        {
         "name": "params_n_hidden_2",
         "rawType": "int64",
         "type": "integer"
        },
        {
         "name": "params_n_hidden_3",
         "rawType": "int64",
         "type": "integer"
        },
        {
         "name": "params_weight_decay",
         "rawType": "float64",
         "type": "float"
        },
        {
         "name": "system_attrs_completed_rung_0",
         "rawType": "float64",
         "type": "float"
        },
        {
         "name": "system_attrs_completed_rung_1",
         "rawType": "float64",
         "type": "float"
        },
        {
         "name": "system_attrs_completed_rung_2",
         "rawType": "float64",
         "type": "float"
        },
        {
         "name": "state",
         "rawType": "object",
         "type": "string"
        }
       ],
       "ref": "bfc72581-43b6-4d39-9753-2421ed16a65b",
       "rows": [
        [
         "0",
         "0",
         "0.8551",
         "2025-05-10 13:41:26.524868",
         "2025-05-10 13:42:25.681876",
         "0 days 00:00:59.157008",
         "0.4596",
         "0.3798",
         "0.4893",
         "0.0064",
         "16",
         "120",
         "112",
         "0.0012",
         "0.8551",
         null,
         null,
         "PRUNED"
        ],
        [
         "1",
         "1",
         "0.8458",
         "2025-05-10 13:41:26.528398",
         "2025-05-10 13:48:15.860357",
         "0 days 00:06:49.331959",
         "0.2697",
         "0.4742",
         "0.1764",
         "0.0018",
         "112",
         "48",
         "128",
         "0.0001",
         "0.8463",
         "0.8466",
         "0.8463",
         "COMPLETE"
        ],
        [
         "2",
         "2",
         "0.8503",
         "2025-05-10 13:41:26.530250",
         "2025-05-10 13:42:12.602229",
         "0 days 00:00:46.071979",
         "0.0798",
         "0.0642",
         "0.168",
         "0.0002",
         "112",
         "96",
         "120",
         "0.0",
         "0.8503",
         null,
         null,
         "PRUNED"
        ],
        [
         "3",
         "3",
         "0.8546",
         "2025-05-10 13:41:26.532781",
         "2025-05-10 13:42:13.699408",
         "0 days 00:00:47.166627",
         "0.4531",
         "0.028",
         "0.3106",
         "0.0175",
         "120",
         "72",
         "8",
         "0.0013",
         "0.8546",
         null,
         null,
         "PRUNED"
        ],
        [
         "4",
         "4",
         "0.8473",
         "2025-05-10 13:41:26.539049",
         "2025-05-10 13:43:45.970324",
         "0 days 00:02:19.431275",
         "0.2116",
         "0.1461",
         "0.088",
         "0.0104",
         "128",
         "32",
         "72",
         "0.0",
         "0.8458",
         "0.8473",
         null,
         "PRUNED"
        ],
        [
         "5",
         "5",
         "0.8617",
         "2025-05-10 13:41:26.541151",
         "2025-05-10 13:42:15.335231",
         "0 days 00:00:48.794080",
         "0.235",
         "0.2402",
         "0.083",
         "0.0001",
         "120",
         "24",
         "80",
         "0.001",
         "0.8617",
         null,
         null,
         "PRUNED"
        ],
        [
         "6",
         "6",
         "0.8613",
         "2025-05-10 13:41:26.544653",
         "2025-05-10 13:42:16.279574",
         "0 days 00:00:49.734921",
         "0.4249",
         "0.0576",
         "0.0157",
         "0.0002",
         "128",
         "8",
         "56",
         "0.0009",
         "0.8613",
         null,
         null,
         "PRUNED"
        ],
        [
         "7",
         "7",
         "0.8769",
         "2025-05-10 13:41:26.548425",
         "2025-05-10 13:42:35.371516",
         "0 days 00:01:08.823091",
         "0.3524",
         "0.4967",
         "0.3217",
         "0.0869",
         "96",
         "56",
         "32",
         "0.0",
         "0.8769",
         null,
         null,
         "PRUNED"
        ],
        [
         "8",
         "8",
         "0.8521",
         "2025-05-10 13:42:12.603529",
         "2025-05-10 13:42:58.439793",
         "0 days 00:00:45.836264",
         "0.0161",
         "0.3376",
         "0.3603",
         "0.0009",
         "40",
         "48",
         "16",
         "0.0016",
         "0.8521",
         null,
         null,
         "PRUNED"
        ],
        [
         "9",
         "9",
         "0.875",
         "2025-05-10 13:42:13.700539",
         "2025-05-10 13:42:59.884529",
         "0 days 00:00:46.183990",
         "0.0877",
         "0.1932",
         "0.1862",
         "0.0515",
         "80",
         "72",
         "24",
         "0.0009",
         "0.875",
         null,
         null,
         "PRUNED"
        ],
        [
         "10",
         "10",
         "0.8443",
         "2025-05-10 13:42:15.336306",
         "2025-05-10 13:49:11.274701",
         "0 days 00:06:55.938395",
         "0.3293",
         "0.3009",
         "0.3592",
         "0.0016",
         "128",
         "48",
         "112",
         "0.0001",
         "0.8474",
         "0.8438",
         "0.8439",
         "COMPLETE"
        ],
        [
         "11",
         "11",
         "0.871",
         "2025-05-10 13:42:16.280744",
         "2025-05-10 13:43:03.079691",
         "0 days 00:00:46.798947",
         "0.3489",
         "0.1834",
         "0.4279",
         "0.0537",
         "16",
         "64",
         "40",
         "0.0003",
         "0.871",
         null,
         null,
         "PRUNED"
        ],
        [
         "12",
         "12",
         "0.8431",
         "2025-05-10 13:42:25.682998",
         "2025-05-10 13:50:50.057105",
         "0 days 00:08:24.374107",
         "0.2359",
         "0.0105",
         "0.0133",
         "0.0011",
         "56",
         "72",
         "128",
         "0.0001",
         "0.8459",
         "0.8424",
         "0.8436",
         "COMPLETE"
        ],
        [
         "13",
         "13",
         "0.8467",
         "2025-05-10 13:42:35.372717",
         "2025-05-10 13:45:39.771501",
         "0 days 00:03:04.398784",
         "0.2741",
         "0.2399",
         "0.2694",
         "0.0019",
         "32",
         "64",
         "40",
         "0.0011",
         "0.8471",
         "0.8467",
         null,
         "PRUNED"
        ],
        [
         "14",
         "14",
         "0.8497",
         "2025-05-10 13:42:58.441046",
         "2025-05-10 13:43:43.624851",
         "0 days 00:00:45.183805",
         "0.1209",
         "0.067",
         "0.3366",
         "0.0152",
         "24",
         "88",
         "32",
         "0.0",
         "0.8497",
         null,
         null,
         "PRUNED"
        ],
        [
         "15",
         "15",
         "0.8469",
         "2025-05-10 13:42:59.885705",
         "2025-05-10 13:45:07.235558",
         "0 days 00:02:07.349853",
         "0.1528",
         "0.3678",
         "0.3374",
         "0.0041",
         "48",
         "32",
         "112",
         "0.0001",
         "0.8473",
         "0.8469",
         null,
         "PRUNED"
        ],
        [
         "16",
         "16",
         "0.8741",
         "2025-05-10 13:43:03.081802",
         "2025-05-10 13:43:49.491694",
         "0 days 00:00:46.409892",
         "0.3775",
         "0.1897",
         "0.2018",
         "0.0934",
         "112",
         "120",
         "40",
         "0.0001",
         "0.8741",
         null,
         null,
         "PRUNED"
        ],
        [
         "17",
         "17",
         "0.8439",
         "2025-05-10 13:43:43.626466",
         "2025-05-10 13:45:50.415473",
         "0 days 00:02:06.789007",
         "0.1972",
         "0.136",
         "0.233",
         "0.0025",
         "48",
         "128",
         "88",
         "0.0",
         "0.8451",
         "0.8439",
         null,
         "PRUNED"
        ],
        [
         "18",
         "18",
         "0.8481",
         "2025-05-10 13:43:45.971675",
         "2025-05-10 13:44:34.214952",
         "0 days 00:00:48.243277",
         "0.1985",
         "0.1257",
         "0.2202",
         "0.0052",
         "56",
         "96",
         "88",
         "0.0",
         "0.8481",
         null,
         null,
         "PRUNED"
        ],
        [
         "19",
         "19",
         "0.8442",
         "2025-05-10 13:43:49.494012",
         "2025-05-10 13:45:59.701401",
         "0 days 00:02:10.207389",
         "0.2073",
         "0.095",
         "0.1002",
         "0.0041",
         "48",
         "96",
         "80",
         "0.0",
         "0.8428",
         "0.8442",
         null,
         "PRUNED"
        ],
        [
         "20",
         "20",
         "0.8438",
         "2025-05-10 13:44:34.216051",
         "2025-05-10 13:51:49.766814",
         "0 days 00:07:15.550763",
         "0.2197",
         "0.1246",
         "0.101",
         "0.002",
         "56",
         "32",
         "88",
         "0.0097",
         "0.8462",
         "0.8438",
         "0.843",
         "COMPLETE"
        ],
        [
         "21",
         "21",
         "0.8444",
         "2025-05-10 13:45:07.236878",
         "2025-05-10 13:47:14.620721",
         "0 days 00:02:07.383843",
         "0.1612",
         "0.3568",
         "0.0793",
         "0.0016",
         "64",
         "32",
         "96",
         "0.0",
         "0.8468",
         "0.8444",
         null,
         "PRUNED"
        ],
        [
         "22",
         "22",
         "0.8484",
         "2025-05-10 13:45:39.772768",
         "2025-05-10 13:46:45.768852",
         "0 days 00:01:05.996084",
         "0.2925",
         "0.3273",
         "0.2794",
         "0.0014",
         "48",
         "40",
         "96",
         "0.0061",
         "0.8484",
         null,
         null,
         "PRUNED"
        ],
        [
         "23",
         "23",
         "0.8439",
         "2025-05-10 13:45:50.417773",
         "2025-05-10 13:47:57.107763",
         "0 days 00:02:06.689990",
         "0.2899",
         "0.2753",
         "0.2722",
         "0.0015",
         "72",
         "112",
         "96",
         "0.007",
         "0.8455",
         "0.8439",
         null,
         "PRUNED"
        ],
        [
         "24",
         "24",
         "0.8428",
         "2025-05-10 13:45:59.702583",
         "2025-05-10 13:53:01.422432",
         "0 days 00:07:01.719849",
         "0.279",
         "0.0068",
         "0.1145",
         "0.0013",
         "64",
         "128",
         "88",
         "0.0",
         "0.8454",
         "0.8435",
         "0.8428",
         "COMPLETE"
        ],
        [
         "25",
         "25",
         "0.8488",
         "2025-05-10 13:46:45.770839",
         "2025-05-10 13:47:51.754066",
         "0 days 00:01:05.983227",
         "0.1744",
         "0.1098",
         "0.1361",
         "0.0005",
         "72",
         "128",
         "64",
         "0.0",
         "0.8488",
         null,
         null,
         "PRUNED"
        ],
        [
         "26",
         "26",
         "0.8484",
         "2025-05-10 13:47:14.621718",
         "2025-05-10 13:47:59.892199",
         "0 days 00:00:45.270481",
         "0.2955",
         "0.1236",
         "0.1351",
         "0.0006",
         "80",
         "128",
         "56",
         "0.0",
         "0.8484",
         null,
         null,
         "PRUNED"
        ],
        [
         "27",
         "27",
         "0.8474",
         "2025-05-10 13:47:51.754947",
         "2025-05-10 13:48:58.135176",
         "0 days 00:01:06.380229",
         "0.2878",
         "0.0091",
         "0.0223",
         "0.0033",
         "88",
         "112",
         "64",
         "0.0003",
         "0.8474",
         null,
         null,
         "PRUNED"
        ],
        [
         "28",
         "28",
         "0.8472",
         "2025-05-10 13:47:57.108965",
         "2025-05-10 13:48:42.594013",
         "0 days 00:00:45.485048",
         "0.3121",
         "0.2798",
         "0.2353",
         "0.003",
         "88",
         "112",
         "96",
         "0.0002",
         "0.8472",
         null,
         null,
         "PRUNED"
        ],
        [
         "29",
         "29",
         "0.8472",
         "2025-05-10 13:47:59.893338",
         "2025-05-10 13:48:45.600562",
         "0 days 00:00:45.707224",
         "0.2418",
         "0.269",
         "0.4003",
         "0.0034",
         "64",
         "104",
         "96",
         "0.0002",
         "0.8472",
         null,
         null,
         "PRUNED"
        ],
        [
         "30",
         "30",
         "0.848",
         "2025-05-10 13:48:15.861924",
         "2025-05-10 13:49:01.230053",
         "0 days 00:00:45.368129",
         "0.2573",
         "0.4872",
         "0.2236",
         "0.0024",
         "104",
         "112",
         "128",
         "0.0002",
         "0.848",
         null,
         null,
         "PRUNED"
        ],
        [
         "31",
         "31",
         "0.8494",
         "2025-05-10 13:48:42.595547",
         "2025-05-10 13:49:28.171882",
         "0 days 00:00:45.576335",
         "0.2541",
         "0.4483",
         "0.3961",
         "0.0009",
         "96",
         "112",
         "128",
         "0.0002",
         "0.8494",
         null,
         null,
         "PRUNED"
        ],
        [
         "32",
         "32",
         "0.8482",
         "2025-05-10 13:48:45.601588",
         "2025-05-10 13:49:31.497789",
         "0 days 00:00:45.896201",
         "0.2596",
         "0.4579",
         "0.2608",
         "0.0009",
         "96",
         "80",
         "128",
         "0.0079",
         "0.8482",
         null,
         null,
         "PRUNED"
        ],
        [
         "33",
         "33",
         "0.8482",
         "2025-05-10 13:48:58.136210",
         "2025-05-10 13:50:04.785694",
         "0 days 00:01:06.649484",
         "0.3956",
         "0.496",
         "0.2602",
         "0.0009",
         "104",
         "80",
         "128",
         "0.0001",
         "0.8482",
         null,
         null,
         "PRUNED"
        ],
        [
         "34",
         "34",
         "0.8559",
         "2025-05-10 13:49:01.231032",
         "2025-05-10 13:49:46.293281",
         "0 days 00:00:45.062249",
         "0.3874",
         "0.4264",
         "0.2761",
         "0.0007",
         "8",
         "80",
         "112",
         "0.0039",
         "0.8559",
         null,
         null,
         "PRUNED"
        ],
        [
         "35",
         "35",
         "0.8475",
         "2025-05-10 13:49:11.276331",
         "2025-05-10 13:49:56.975009",
         "0 days 00:00:45.698678",
         "0.4028",
         "0.3974",
         "0.4415",
         "0.0009",
         "112",
         "80",
         "128",
         "0.0001",
         "0.8475",
         null,
         null,
         "PRUNED"
        ],
        [
         "36",
         "36",
         "0.857",
         "2025-05-10 13:49:28.173078",
         "2025-05-10 13:50:13.309650",
         "0 days 00:00:45.136572",
         "0.4086",
         "0.4053",
         "0.4561",
         "0.0073",
         "8",
         "16",
         "112",
         "0.0001",
         "0.857",
         null,
         null,
         "PRUNED"
        ],
        [
         "37",
         "37",
         "0.8497",
         "2025-05-10 13:49:31.499060",
         "2025-05-10 13:50:16.870897",
         "0 days 00:00:45.371837",
         "0.4021",
         "0.4097",
         "0.4932",
         "0.0079",
         "112",
         "48",
         "112",
         "0.0001",
         "0.8497",
         null,
         null,
         "PRUNED"
        ],
        [
         "38",
         "38",
         "0.8526",
         "2025-05-10 13:49:46.294424",
         "2025-05-10 13:50:31.283225",
         "0 days 00:00:44.988801",
         "0.3262",
         "0.4033",
         "0.43",
         "0.0004",
         "120",
         "48",
         "104",
         "0.0001",
         "0.8526",
         null,
         null,
         "PRUNED"
        ],
        [
         "39",
         "39",
         "0.8505",
         "2025-05-10 13:49:56.976044",
         "2025-05-10 13:50:42.483273",
         "0 days 00:00:45.507229",
         "0.33",
         "0.3029",
         "0.4887",
         "0.0077",
         "128",
         "48",
         "104",
         "0.0001",
         "0.8505",
         null,
         null,
         "PRUNED"
        ],
        [
         "40",
         "40",
         "0.8548",
         "2025-05-10 13:50:04.787065",
         "2025-05-10 13:51:09.887290",
         "0 days 00:01:05.100225",
         "0.3314",
         "0.3066",
         "0.4885",
         "0.0004",
         "120",
         "48",
         "104",
         "0.0",
         "0.8548",
         null,
         null,
         "PRUNED"
        ],
        [
         "41",
         "41",
         "0.8521",
         "2025-05-10 13:50:13.310820",
         "2025-05-10 13:50:58.375316",
         "0 days 00:00:45.064496",
         "0.3296",
         "0.3011",
         "0.1686",
         "0.0004",
         "120",
         "48",
         "104",
         "0.0",
         "0.8521",
         null,
         null,
         "PRUNED"
        ],
        [
         "42",
         "42",
         "0.8511",
         "2025-05-10 13:50:16.873682",
         "2025-05-10 13:51:01.969621",
         "0 days 00:00:45.095939",
         "0.3413",
         "0.3067",
         "0.1579",
         "0.0004",
         "128",
         "56",
         "104",
         "0.0",
         "0.8511",
         null,
         null,
         "PRUNED"
        ],
        [
         "43",
         "43",
         "0.8481",
         "2025-05-10 13:50:31.284911",
         "2025-05-10 13:51:16.079939",
         "0 days 00:00:44.795028",
         "0.4704",
         "0.3094",
         "0.3003",
         "0.0014",
         "128",
         "56",
         "104",
         "0.0005",
         "0.8481",
         null,
         null,
         "PRUNED"
        ],
        [
         "44",
         "44",
         "0.857",
         "2025-05-10 13:50:42.484362",
         "2025-05-10 13:51:27.760314",
         "0 days 00:00:45.275952",
         "0.4879",
         "0.2147",
         "0.3035",
         "0.0003",
         "32",
         "56",
         "120",
         "0.0005",
         "0.857",
         null,
         null,
         "PRUNED"
        ],
        [
         "45",
         "45",
         "0.8538",
         "2025-05-10 13:50:50.058505",
         "2025-05-10 13:51:44.711188",
         "0 days 00:00:54.652683",
         "0.2206",
         "0.042",
         "0.0431",
         "0.0003",
         "56",
         "56",
         "120",
         "0.0",
         "0.8538",
         null,
         null,
         "PRUNED"
        ],
        [
         "46",
         "46",
         "0.8554",
         "2025-05-10 13:50:58.376826",
         "2025-05-10 13:51:42.447606",
         "0 days 00:00:44.070780",
         "0.4846",
         "0.0467",
         "0.0376",
         "0.0003",
         "40",
         "56",
         "120",
         "0.0005",
         "0.8554",
         null,
         null,
         "PRUNED"
        ],
        [
         "47",
         "47",
         "0.8627",
         "2025-05-10 13:51:01.970751",
         "2025-05-10 13:51:46.451372",
         "0 days 00:00:44.480621",
         "0.2215",
         "0.0262",
         "0.308",
         "0.0002",
         "40",
         "8",
         "120",
         "0.0005",
         "0.8627",
         null,
         null,
         "PRUNED"
        ],
        [
         "48",
         "48",
         "0.8457",
         "2025-05-10 13:51:09.888915",
         "2025-05-10 13:54:14.170906",
         "0 days 00:03:04.281991",
         "0.4721",
         "0.2131",
         "0.2971",
         "0.0013",
         "56",
         "120",
         "120",
         "0.0004",
         "0.8468",
         "0.8457",
         null,
         "PRUNED"
        ],
        [
         "49",
         "49",
         "0.8454",
         "2025-05-10 13:51:16.081143",
         "2025-05-10 13:57:26.808281",
         "0 days 00:06:10.727138",
         "0.2264",
         "0.2177",
         "0.0407",
         "0.0023",
         "40",
         "120",
         "120",
         "0.0",
         "0.8465",
         "0.8427",
         "0.8454",
         "PRUNED"
        ]
       ],
       "shape": {
        "columns": 17,
        "rows": 77
       }
      },
      "text/html": [
       "<div>\n",
       "<style scoped>\n",
       "    .dataframe tbody tr th:only-of-type {\n",
       "        vertical-align: middle;\n",
       "    }\n",
       "\n",
       "    .dataframe tbody tr th {\n",
       "        vertical-align: top;\n",
       "    }\n",
       "\n",
       "    .dataframe thead th {\n",
       "        text-align: right;\n",
       "    }\n",
       "</style>\n",
       "<table border=\"1\" class=\"dataframe\">\n",
       "  <thead>\n",
       "    <tr style=\"text-align: right;\">\n",
       "      <th></th>\n",
       "      <th>number</th>\n",
       "      <th>value</th>\n",
       "      <th>datetime_start</th>\n",
       "      <th>datetime_complete</th>\n",
       "      <th>duration</th>\n",
       "      <th>params_dropout_rate_1</th>\n",
       "      <th>params_dropout_rate_2</th>\n",
       "      <th>params_dropout_rate_3</th>\n",
       "      <th>params_learning_rate</th>\n",
       "      <th>params_n_hidden_1</th>\n",
       "      <th>params_n_hidden_2</th>\n",
       "      <th>params_n_hidden_3</th>\n",
       "      <th>params_weight_decay</th>\n",
       "      <th>system_attrs_completed_rung_0</th>\n",
       "      <th>system_attrs_completed_rung_1</th>\n",
       "      <th>system_attrs_completed_rung_2</th>\n",
       "      <th>state</th>\n",
       "    </tr>\n",
       "  </thead>\n",
       "  <tbody>\n",
       "    <tr>\n",
       "      <th>0</th>\n",
       "      <td>0</td>\n",
       "      <td>0.8551</td>\n",
       "      <td>2025-05-10 13:41:26.524868</td>\n",
       "      <td>2025-05-10 13:42:25.681876</td>\n",
       "      <td>0 days 00:00:59.157008</td>\n",
       "      <td>0.4596</td>\n",
       "      <td>0.3798</td>\n",
       "      <td>0.4893</td>\n",
       "      <td>0.0064</td>\n",
       "      <td>16</td>\n",
       "      <td>120</td>\n",
       "      <td>112</td>\n",
       "      <td>0.0012</td>\n",
       "      <td>0.8551</td>\n",
       "      <td>NaN</td>\n",
       "      <td>NaN</td>\n",
       "      <td>PRUNED</td>\n",
       "    </tr>\n",
       "    <tr>\n",
       "      <th>1</th>\n",
       "      <td>1</td>\n",
       "      <td>0.8458</td>\n",
       "      <td>2025-05-10 13:41:26.528398</td>\n",
       "      <td>2025-05-10 13:48:15.860357</td>\n",
       "      <td>0 days 00:06:49.331959</td>\n",
       "      <td>0.2697</td>\n",
       "      <td>0.4742</td>\n",
       "      <td>0.1764</td>\n",
       "      <td>0.0018</td>\n",
       "      <td>112</td>\n",
       "      <td>48</td>\n",
       "      <td>128</td>\n",
       "      <td>0.0001</td>\n",
       "      <td>0.8463</td>\n",
       "      <td>0.8466</td>\n",
       "      <td>0.8463</td>\n",
       "      <td>COMPLETE</td>\n",
       "    </tr>\n",
       "    <tr>\n",
       "      <th>2</th>\n",
       "      <td>2</td>\n",
       "      <td>0.8503</td>\n",
       "      <td>2025-05-10 13:41:26.530250</td>\n",
       "      <td>2025-05-10 13:42:12.602229</td>\n",
       "      <td>0 days 00:00:46.071979</td>\n",
       "      <td>0.0798</td>\n",
       "      <td>0.0642</td>\n",
       "      <td>0.1680</td>\n",
       "      <td>0.0002</td>\n",
       "      <td>112</td>\n",
       "      <td>96</td>\n",
       "      <td>120</td>\n",
       "      <td>0.0000</td>\n",
       "      <td>0.8503</td>\n",
       "      <td>NaN</td>\n",
       "      <td>NaN</td>\n",
       "      <td>PRUNED</td>\n",
       "    </tr>\n",
       "    <tr>\n",
       "      <th>3</th>\n",
       "      <td>3</td>\n",
       "      <td>0.8546</td>\n",
       "      <td>2025-05-10 13:41:26.532781</td>\n",
       "      <td>2025-05-10 13:42:13.699408</td>\n",
       "      <td>0 days 00:00:47.166627</td>\n",
       "      <td>0.4531</td>\n",
       "      <td>0.0280</td>\n",
       "      <td>0.3106</td>\n",
       "      <td>0.0175</td>\n",
       "      <td>120</td>\n",
       "      <td>72</td>\n",
       "      <td>8</td>\n",
       "      <td>0.0013</td>\n",
       "      <td>0.8546</td>\n",
       "      <td>NaN</td>\n",
       "      <td>NaN</td>\n",
       "      <td>PRUNED</td>\n",
       "    </tr>\n",
       "    <tr>\n",
       "      <th>4</th>\n",
       "      <td>4</td>\n",
       "      <td>0.8473</td>\n",
       "      <td>2025-05-10 13:41:26.539049</td>\n",
       "      <td>2025-05-10 13:43:45.970324</td>\n",
       "      <td>0 days 00:02:19.431275</td>\n",
       "      <td>0.2116</td>\n",
       "      <td>0.1461</td>\n",
       "      <td>0.0880</td>\n",
       "      <td>0.0104</td>\n",
       "      <td>128</td>\n",
       "      <td>32</td>\n",
       "      <td>72</td>\n",
       "      <td>0.0000</td>\n",
       "      <td>0.8458</td>\n",
       "      <td>0.8473</td>\n",
       "      <td>NaN</td>\n",
       "      <td>PRUNED</td>\n",
       "    </tr>\n",
       "    <tr>\n",
       "      <th>...</th>\n",
       "      <td>...</td>\n",
       "      <td>...</td>\n",
       "      <td>...</td>\n",
       "      <td>...</td>\n",
       "      <td>...</td>\n",
       "      <td>...</td>\n",
       "      <td>...</td>\n",
       "      <td>...</td>\n",
       "      <td>...</td>\n",
       "      <td>...</td>\n",
       "      <td>...</td>\n",
       "      <td>...</td>\n",
       "      <td>...</td>\n",
       "      <td>...</td>\n",
       "      <td>...</td>\n",
       "      <td>...</td>\n",
       "      <td>...</td>\n",
       "    </tr>\n",
       "    <tr>\n",
       "      <th>72</th>\n",
       "      <td>72</td>\n",
       "      <td>0.8433</td>\n",
       "      <td>2025-05-10 13:57:26.809194</td>\n",
       "      <td>2025-05-10 14:03:08.476634</td>\n",
       "      <td>0 days 00:05:41.667440</td>\n",
       "      <td>0.0348</td>\n",
       "      <td>0.0608</td>\n",
       "      <td>0.1154</td>\n",
       "      <td>0.0017</td>\n",
       "      <td>32</td>\n",
       "      <td>128</td>\n",
       "      <td>128</td>\n",
       "      <td>0.0001</td>\n",
       "      <td>0.8448</td>\n",
       "      <td>0.8433</td>\n",
       "      <td>0.8434</td>\n",
       "      <td>COMPLETE</td>\n",
       "    </tr>\n",
       "    <tr>\n",
       "      <th>73</th>\n",
       "      <td>73</td>\n",
       "      <td>0.8443</td>\n",
       "      <td>2025-05-10 13:57:53.524313</td>\n",
       "      <td>2025-05-10 14:03:06.917164</td>\n",
       "      <td>0 days 00:05:13.392851</td>\n",
       "      <td>0.2082</td>\n",
       "      <td>0.1012</td>\n",
       "      <td>0.1049</td>\n",
       "      <td>0.0019</td>\n",
       "      <td>32</td>\n",
       "      <td>104</td>\n",
       "      <td>128</td>\n",
       "      <td>0.0002</td>\n",
       "      <td>0.8457</td>\n",
       "      <td>0.8437</td>\n",
       "      <td>0.8443</td>\n",
       "      <td>PRUNED</td>\n",
       "    </tr>\n",
       "    <tr>\n",
       "      <th>74</th>\n",
       "      <td>74</td>\n",
       "      <td>0.8473</td>\n",
       "      <td>2025-05-10 13:58:25.992187</td>\n",
       "      <td>2025-05-10 13:59:13.968227</td>\n",
       "      <td>0 days 00:00:47.976040</td>\n",
       "      <td>0.1617</td>\n",
       "      <td>0.3485</td>\n",
       "      <td>0.1025</td>\n",
       "      <td>0.0017</td>\n",
       "      <td>40</td>\n",
       "      <td>16</td>\n",
       "      <td>128</td>\n",
       "      <td>0.0001</td>\n",
       "      <td>0.8473</td>\n",
       "      <td>NaN</td>\n",
       "      <td>NaN</td>\n",
       "      <td>PRUNED</td>\n",
       "    </tr>\n",
       "    <tr>\n",
       "      <th>75</th>\n",
       "      <td>75</td>\n",
       "      <td>0.8448</td>\n",
       "      <td>2025-05-10 13:59:13.969216</td>\n",
       "      <td>2025-05-10 14:01:28.231832</td>\n",
       "      <td>0 days 00:02:14.262616</td>\n",
       "      <td>0.2102</td>\n",
       "      <td>0.1007</td>\n",
       "      <td>0.0541</td>\n",
       "      <td>0.0028</td>\n",
       "      <td>32</td>\n",
       "      <td>32</td>\n",
       "      <td>112</td>\n",
       "      <td>0.0000</td>\n",
       "      <td>0.8455</td>\n",
       "      <td>0.8448</td>\n",
       "      <td>NaN</td>\n",
       "      <td>PRUNED</td>\n",
       "    </tr>\n",
       "    <tr>\n",
       "      <th>76</th>\n",
       "      <td>76</td>\n",
       "      <td>0.8471</td>\n",
       "      <td>2025-05-10 14:00:56.352230</td>\n",
       "      <td>2025-05-10 14:01:41.219990</td>\n",
       "      <td>0 days 00:00:44.867760</td>\n",
       "      <td>0.2116</td>\n",
       "      <td>0.1899</td>\n",
       "      <td>0.0314</td>\n",
       "      <td>0.0018</td>\n",
       "      <td>32</td>\n",
       "      <td>16</td>\n",
       "      <td>80</td>\n",
       "      <td>0.0000</td>\n",
       "      <td>0.8471</td>\n",
       "      <td>NaN</td>\n",
       "      <td>NaN</td>\n",
       "      <td>PRUNED</td>\n",
       "    </tr>\n",
       "  </tbody>\n",
       "</table>\n",
       "<p>77 rows × 17 columns</p>\n",
       "</div>"
      ],
      "text/plain": [
       "    number   value             datetime_start          datetime_complete  \\\n",
       "0        0  0.8551 2025-05-10 13:41:26.524868 2025-05-10 13:42:25.681876   \n",
       "1        1  0.8458 2025-05-10 13:41:26.528398 2025-05-10 13:48:15.860357   \n",
       "2        2  0.8503 2025-05-10 13:41:26.530250 2025-05-10 13:42:12.602229   \n",
       "3        3  0.8546 2025-05-10 13:41:26.532781 2025-05-10 13:42:13.699408   \n",
       "4        4  0.8473 2025-05-10 13:41:26.539049 2025-05-10 13:43:45.970324   \n",
       "..     ...     ...                        ...                        ...   \n",
       "72      72  0.8433 2025-05-10 13:57:26.809194 2025-05-10 14:03:08.476634   \n",
       "73      73  0.8443 2025-05-10 13:57:53.524313 2025-05-10 14:03:06.917164   \n",
       "74      74  0.8473 2025-05-10 13:58:25.992187 2025-05-10 13:59:13.968227   \n",
       "75      75  0.8448 2025-05-10 13:59:13.969216 2025-05-10 14:01:28.231832   \n",
       "76      76  0.8471 2025-05-10 14:00:56.352230 2025-05-10 14:01:41.219990   \n",
       "\n",
       "                 duration  params_dropout_rate_1  params_dropout_rate_2  \\\n",
       "0  0 days 00:00:59.157008                 0.4596                 0.3798   \n",
       "1  0 days 00:06:49.331959                 0.2697                 0.4742   \n",
       "2  0 days 00:00:46.071979                 0.0798                 0.0642   \n",
       "3  0 days 00:00:47.166627                 0.4531                 0.0280   \n",
       "4  0 days 00:02:19.431275                 0.2116                 0.1461   \n",
       "..                    ...                    ...                    ...   \n",
       "72 0 days 00:05:41.667440                 0.0348                 0.0608   \n",
       "73 0 days 00:05:13.392851                 0.2082                 0.1012   \n",
       "74 0 days 00:00:47.976040                 0.1617                 0.3485   \n",
       "75 0 days 00:02:14.262616                 0.2102                 0.1007   \n",
       "76 0 days 00:00:44.867760                 0.2116                 0.1899   \n",
       "\n",
       "    params_dropout_rate_3  params_learning_rate  params_n_hidden_1  \\\n",
       "0                  0.4893                0.0064                 16   \n",
       "1                  0.1764                0.0018                112   \n",
       "2                  0.1680                0.0002                112   \n",
       "3                  0.3106                0.0175                120   \n",
       "4                  0.0880                0.0104                128   \n",
       "..                    ...                   ...                ...   \n",
       "72                 0.1154                0.0017                 32   \n",
       "73                 0.1049                0.0019                 32   \n",
       "74                 0.1025                0.0017                 40   \n",
       "75                 0.0541                0.0028                 32   \n",
       "76                 0.0314                0.0018                 32   \n",
       "\n",
       "    params_n_hidden_2  params_n_hidden_3  params_weight_decay  \\\n",
       "0                 120                112               0.0012   \n",
       "1                  48                128               0.0001   \n",
       "2                  96                120               0.0000   \n",
       "3                  72                  8               0.0013   \n",
       "4                  32                 72               0.0000   \n",
       "..                ...                ...                  ...   \n",
       "72                128                128               0.0001   \n",
       "73                104                128               0.0002   \n",
       "74                 16                128               0.0001   \n",
       "75                 32                112               0.0000   \n",
       "76                 16                 80               0.0000   \n",
       "\n",
       "    system_attrs_completed_rung_0  system_attrs_completed_rung_1  \\\n",
       "0                          0.8551                            NaN   \n",
       "1                          0.8463                         0.8466   \n",
       "2                          0.8503                            NaN   \n",
       "3                          0.8546                            NaN   \n",
       "4                          0.8458                         0.8473   \n",
       "..                            ...                            ...   \n",
       "72                         0.8448                         0.8433   \n",
       "73                         0.8457                         0.8437   \n",
       "74                         0.8473                            NaN   \n",
       "75                         0.8455                         0.8448   \n",
       "76                         0.8471                            NaN   \n",
       "\n",
       "    system_attrs_completed_rung_2     state  \n",
       "0                             NaN    PRUNED  \n",
       "1                          0.8463  COMPLETE  \n",
       "2                             NaN    PRUNED  \n",
       "3                             NaN    PRUNED  \n",
       "4                             NaN    PRUNED  \n",
       "..                            ...       ...  \n",
       "72                         0.8434  COMPLETE  \n",
       "73                         0.8443    PRUNED  \n",
       "74                            NaN    PRUNED  \n",
       "75                            NaN    PRUNED  \n",
       "76                            NaN    PRUNED  \n",
       "\n",
       "[77 rows x 17 columns]"
      ]
     },
     "execution_count": 33,
     "metadata": {},
     "output_type": "execute_result"
    }
   ],
   "source": [
    "cv_results"
   ]
  },
  {
   "cell_type": "code",
   "execution_count": 39,
   "id": "54e7a281",
   "metadata": {},
   "outputs": [],
   "source": [
    "df# Plot parameter importance if you have matplotlib\n",
    "import optuna.visualization as vis\n",
    "import matplotlib.pyplot as plt\n",
    "param_importances = vis.plot_param_importances(study)\n",
    "optimization_history = vis.plot_optimization_history(study)\n",
    "parallel_coordinate = vis.plot_parallel_coordinate(study)"
   ]
  },
  {
   "cell_type": "code",
   "execution_count": 41,
   "id": "658adebf",
   "metadata": {},
   "outputs": [
    {
     "data": {
      "application/vnd.plotly.v1+json": {
       "config": {
        "plotlyServerURL": "https://plot.ly"
       },
       "data": [
        {
         "cliponaxis": false,
         "hovertemplate": [
          "n_hidden_3 (IntDistribution): 0.02131970189500063<extra></extra>",
          "weight_decay (FloatDistribution): 0.04067987720112206<extra></extra>",
          "dropout_rate_3 (FloatDistribution): 0.049907508792522946<extra></extra>",
          "n_hidden_2 (IntDistribution): 0.051775980166336485<extra></extra>",
          "dropout_rate_1 (FloatDistribution): 0.0846520016763254<extra></extra>",
          "learning_rate (FloatDistribution): 0.09466097490701916<extra></extra>",
          "n_hidden_1 (IntDistribution): 0.1429193716166529<extra></extra>",
          "dropout_rate_2 (FloatDistribution): 0.5140845837450203<extra></extra>"
         ],
         "name": "Objective Value",
         "orientation": "h",
         "text": [
          "0.02",
          "0.04",
          "0.05",
          "0.05",
          "0.08",
          "0.09",
          "0.14",
          "0.51"
         ],
         "textposition": "outside",
         "type": "bar",
         "x": [
          0.02131970189500063,
          0.04067987720112206,
          0.049907508792522946,
          0.051775980166336485,
          0.0846520016763254,
          0.09466097490701916,
          0.1429193716166529,
          0.5140845837450203
         ],
         "y": [
          "n_hidden_3",
          "weight_decay",
          "dropout_rate_3",
          "n_hidden_2",
          "dropout_rate_1",
          "learning_rate",
          "n_hidden_1",
          "dropout_rate_2"
         ]
        }
       ],
       "layout": {
        "template": {
         "data": {
          "bar": [
           {
            "error_x": {
             "color": "#2a3f5f"
            },
            "error_y": {
             "color": "#2a3f5f"
            },
            "marker": {
             "line": {
              "color": "#E5ECF6",
              "width": 0.5
             },
             "pattern": {
              "fillmode": "overlay",
              "size": 10,
              "solidity": 0.2
             }
            },
            "type": "bar"
           }
          ],
          "barpolar": [
           {
            "marker": {
             "line": {
              "color": "#E5ECF6",
              "width": 0.5
             },
             "pattern": {
              "fillmode": "overlay",
              "size": 10,
              "solidity": 0.2
             }
            },
            "type": "barpolar"
           }
          ],
          "carpet": [
           {
            "aaxis": {
             "endlinecolor": "#2a3f5f",
             "gridcolor": "white",
             "linecolor": "white",
             "minorgridcolor": "white",
             "startlinecolor": "#2a3f5f"
            },
            "baxis": {
             "endlinecolor": "#2a3f5f",
             "gridcolor": "white",
             "linecolor": "white",
             "minorgridcolor": "white",
             "startlinecolor": "#2a3f5f"
            },
            "type": "carpet"
           }
          ],
          "choropleth": [
           {
            "colorbar": {
             "outlinewidth": 0,
             "ticks": ""
            },
            "type": "choropleth"
           }
          ],
          "contour": [
           {
            "colorbar": {
             "outlinewidth": 0,
             "ticks": ""
            },
            "colorscale": [
             [
              0,
              "#0d0887"
             ],
             [
              0.1111111111111111,
              "#46039f"
             ],
             [
              0.2222222222222222,
              "#7201a8"
             ],
             [
              0.3333333333333333,
              "#9c179e"
             ],
             [
              0.4444444444444444,
              "#bd3786"
             ],
             [
              0.5555555555555556,
              "#d8576b"
             ],
             [
              0.6666666666666666,
              "#ed7953"
             ],
             [
              0.7777777777777778,
              "#fb9f3a"
             ],
             [
              0.8888888888888888,
              "#fdca26"
             ],
             [
              1,
              "#f0f921"
             ]
            ],
            "type": "contour"
           }
          ],
          "contourcarpet": [
           {
            "colorbar": {
             "outlinewidth": 0,
             "ticks": ""
            },
            "type": "contourcarpet"
           }
          ],
          "heatmap": [
           {
            "colorbar": {
             "outlinewidth": 0,
             "ticks": ""
            },
            "colorscale": [
             [
              0,
              "#0d0887"
             ],
             [
              0.1111111111111111,
              "#46039f"
             ],
             [
              0.2222222222222222,
              "#7201a8"
             ],
             [
              0.3333333333333333,
              "#9c179e"
             ],
             [
              0.4444444444444444,
              "#bd3786"
             ],
             [
              0.5555555555555556,
              "#d8576b"
             ],
             [
              0.6666666666666666,
              "#ed7953"
             ],
             [
              0.7777777777777778,
              "#fb9f3a"
             ],
             [
              0.8888888888888888,
              "#fdca26"
             ],
             [
              1,
              "#f0f921"
             ]
            ],
            "type": "heatmap"
           }
          ],
          "histogram": [
           {
            "marker": {
             "pattern": {
              "fillmode": "overlay",
              "size": 10,
              "solidity": 0.2
             }
            },
            "type": "histogram"
           }
          ],
          "histogram2d": [
           {
            "colorbar": {
             "outlinewidth": 0,
             "ticks": ""
            },
            "colorscale": [
             [
              0,
              "#0d0887"
             ],
             [
              0.1111111111111111,
              "#46039f"
             ],
             [
              0.2222222222222222,
              "#7201a8"
             ],
             [
              0.3333333333333333,
              "#9c179e"
             ],
             [
              0.4444444444444444,
              "#bd3786"
             ],
             [
              0.5555555555555556,
              "#d8576b"
             ],
             [
              0.6666666666666666,
              "#ed7953"
             ],
             [
              0.7777777777777778,
              "#fb9f3a"
             ],
             [
              0.8888888888888888,
              "#fdca26"
             ],
             [
              1,
              "#f0f921"
             ]
            ],
            "type": "histogram2d"
           }
          ],
          "histogram2dcontour": [
           {
            "colorbar": {
             "outlinewidth": 0,
             "ticks": ""
            },
            "colorscale": [
             [
              0,
              "#0d0887"
             ],
             [
              0.1111111111111111,
              "#46039f"
             ],
             [
              0.2222222222222222,
              "#7201a8"
             ],
             [
              0.3333333333333333,
              "#9c179e"
             ],
             [
              0.4444444444444444,
              "#bd3786"
             ],
             [
              0.5555555555555556,
              "#d8576b"
             ],
             [
              0.6666666666666666,
              "#ed7953"
             ],
             [
              0.7777777777777778,
              "#fb9f3a"
             ],
             [
              0.8888888888888888,
              "#fdca26"
             ],
             [
              1,
              "#f0f921"
             ]
            ],
            "type": "histogram2dcontour"
           }
          ],
          "mesh3d": [
           {
            "colorbar": {
             "outlinewidth": 0,
             "ticks": ""
            },
            "type": "mesh3d"
           }
          ],
          "parcoords": [
           {
            "line": {
             "colorbar": {
              "outlinewidth": 0,
              "ticks": ""
             }
            },
            "type": "parcoords"
           }
          ],
          "pie": [
           {
            "automargin": true,
            "type": "pie"
           }
          ],
          "scatter": [
           {
            "fillpattern": {
             "fillmode": "overlay",
             "size": 10,
             "solidity": 0.2
            },
            "type": "scatter"
           }
          ],
          "scatter3d": [
           {
            "line": {
             "colorbar": {
              "outlinewidth": 0,
              "ticks": ""
             }
            },
            "marker": {
             "colorbar": {
              "outlinewidth": 0,
              "ticks": ""
             }
            },
            "type": "scatter3d"
           }
          ],
          "scattercarpet": [
           {
            "marker": {
             "colorbar": {
              "outlinewidth": 0,
              "ticks": ""
             }
            },
            "type": "scattercarpet"
           }
          ],
          "scattergeo": [
           {
            "marker": {
             "colorbar": {
              "outlinewidth": 0,
              "ticks": ""
             }
            },
            "type": "scattergeo"
           }
          ],
          "scattergl": [
           {
            "marker": {
             "colorbar": {
              "outlinewidth": 0,
              "ticks": ""
             }
            },
            "type": "scattergl"
           }
          ],
          "scattermap": [
           {
            "marker": {
             "colorbar": {
              "outlinewidth": 0,
              "ticks": ""
             }
            },
            "type": "scattermap"
           }
          ],
          "scattermapbox": [
           {
            "marker": {
             "colorbar": {
              "outlinewidth": 0,
              "ticks": ""
             }
            },
            "type": "scattermapbox"
           }
          ],
          "scatterpolar": [
           {
            "marker": {
             "colorbar": {
              "outlinewidth": 0,
              "ticks": ""
             }
            },
            "type": "scatterpolar"
           }
          ],
          "scatterpolargl": [
           {
            "marker": {
             "colorbar": {
              "outlinewidth": 0,
              "ticks": ""
             }
            },
            "type": "scatterpolargl"
           }
          ],
          "scatterternary": [
           {
            "marker": {
             "colorbar": {
              "outlinewidth": 0,
              "ticks": ""
             }
            },
            "type": "scatterternary"
           }
          ],
          "surface": [
           {
            "colorbar": {
             "outlinewidth": 0,
             "ticks": ""
            },
            "colorscale": [
             [
              0,
              "#0d0887"
             ],
             [
              0.1111111111111111,
              "#46039f"
             ],
             [
              0.2222222222222222,
              "#7201a8"
             ],
             [
              0.3333333333333333,
              "#9c179e"
             ],
             [
              0.4444444444444444,
              "#bd3786"
             ],
             [
              0.5555555555555556,
              "#d8576b"
             ],
             [
              0.6666666666666666,
              "#ed7953"
             ],
             [
              0.7777777777777778,
              "#fb9f3a"
             ],
             [
              0.8888888888888888,
              "#fdca26"
             ],
             [
              1,
              "#f0f921"
             ]
            ],
            "type": "surface"
           }
          ],
          "table": [
           {
            "cells": {
             "fill": {
              "color": "#EBF0F8"
             },
             "line": {
              "color": "white"
             }
            },
            "header": {
             "fill": {
              "color": "#C8D4E3"
             },
             "line": {
              "color": "white"
             }
            },
            "type": "table"
           }
          ]
         },
         "layout": {
          "annotationdefaults": {
           "arrowcolor": "#2a3f5f",
           "arrowhead": 0,
           "arrowwidth": 1
          },
          "autotypenumbers": "strict",
          "coloraxis": {
           "colorbar": {
            "outlinewidth": 0,
            "ticks": ""
           }
          },
          "colorscale": {
           "diverging": [
            [
             0,
             "#8e0152"
            ],
            [
             0.1,
             "#c51b7d"
            ],
            [
             0.2,
             "#de77ae"
            ],
            [
             0.3,
             "#f1b6da"
            ],
            [
             0.4,
             "#fde0ef"
            ],
            [
             0.5,
             "#f7f7f7"
            ],
            [
             0.6,
             "#e6f5d0"
            ],
            [
             0.7,
             "#b8e186"
            ],
            [
             0.8,
             "#7fbc41"
            ],
            [
             0.9,
             "#4d9221"
            ],
            [
             1,
             "#276419"
            ]
           ],
           "sequential": [
            [
             0,
             "#0d0887"
            ],
            [
             0.1111111111111111,
             "#46039f"
            ],
            [
             0.2222222222222222,
             "#7201a8"
            ],
            [
             0.3333333333333333,
             "#9c179e"
            ],
            [
             0.4444444444444444,
             "#bd3786"
            ],
            [
             0.5555555555555556,
             "#d8576b"
            ],
            [
             0.6666666666666666,
             "#ed7953"
            ],
            [
             0.7777777777777778,
             "#fb9f3a"
            ],
            [
             0.8888888888888888,
             "#fdca26"
            ],
            [
             1,
             "#f0f921"
            ]
           ],
           "sequentialminus": [
            [
             0,
             "#0d0887"
            ],
            [
             0.1111111111111111,
             "#46039f"
            ],
            [
             0.2222222222222222,
             "#7201a8"
            ],
            [
             0.3333333333333333,
             "#9c179e"
            ],
            [
             0.4444444444444444,
             "#bd3786"
            ],
            [
             0.5555555555555556,
             "#d8576b"
            ],
            [
             0.6666666666666666,
             "#ed7953"
            ],
            [
             0.7777777777777778,
             "#fb9f3a"
            ],
            [
             0.8888888888888888,
             "#fdca26"
            ],
            [
             1,
             "#f0f921"
            ]
           ]
          },
          "colorway": [
           "#636efa",
           "#EF553B",
           "#00cc96",
           "#ab63fa",
           "#FFA15A",
           "#19d3f3",
           "#FF6692",
           "#B6E880",
           "#FF97FF",
           "#FECB52"
          ],
          "font": {
           "color": "#2a3f5f"
          },
          "geo": {
           "bgcolor": "white",
           "lakecolor": "white",
           "landcolor": "#E5ECF6",
           "showlakes": true,
           "showland": true,
           "subunitcolor": "white"
          },
          "hoverlabel": {
           "align": "left"
          },
          "hovermode": "closest",
          "mapbox": {
           "style": "light"
          },
          "paper_bgcolor": "white",
          "plot_bgcolor": "#E5ECF6",
          "polar": {
           "angularaxis": {
            "gridcolor": "white",
            "linecolor": "white",
            "ticks": ""
           },
           "bgcolor": "#E5ECF6",
           "radialaxis": {
            "gridcolor": "white",
            "linecolor": "white",
            "ticks": ""
           }
          },
          "scene": {
           "xaxis": {
            "backgroundcolor": "#E5ECF6",
            "gridcolor": "white",
            "gridwidth": 2,
            "linecolor": "white",
            "showbackground": true,
            "ticks": "",
            "zerolinecolor": "white"
           },
           "yaxis": {
            "backgroundcolor": "#E5ECF6",
            "gridcolor": "white",
            "gridwidth": 2,
            "linecolor": "white",
            "showbackground": true,
            "ticks": "",
            "zerolinecolor": "white"
           },
           "zaxis": {
            "backgroundcolor": "#E5ECF6",
            "gridcolor": "white",
            "gridwidth": 2,
            "linecolor": "white",
            "showbackground": true,
            "ticks": "",
            "zerolinecolor": "white"
           }
          },
          "shapedefaults": {
           "line": {
            "color": "#2a3f5f"
           }
          },
          "ternary": {
           "aaxis": {
            "gridcolor": "white",
            "linecolor": "white",
            "ticks": ""
           },
           "baxis": {
            "gridcolor": "white",
            "linecolor": "white",
            "ticks": ""
           },
           "bgcolor": "#E5ECF6",
           "caxis": {
            "gridcolor": "white",
            "linecolor": "white",
            "ticks": ""
           }
          },
          "title": {
           "x": 0.05
          },
          "xaxis": {
           "automargin": true,
           "gridcolor": "white",
           "linecolor": "white",
           "ticks": "",
           "title": {
            "standoff": 15
           },
           "zerolinecolor": "white",
           "zerolinewidth": 2
          },
          "yaxis": {
           "automargin": true,
           "gridcolor": "white",
           "linecolor": "white",
           "ticks": "",
           "title": {
            "standoff": 15
           },
           "zerolinecolor": "white",
           "zerolinewidth": 2
          }
         }
        },
        "title": {
         "text": "Hyperparameter Importances"
        },
        "xaxis": {
         "title": {
          "text": "Hyperparameter Importance"
         }
        },
        "yaxis": {
         "title": {
          "text": "Hyperparameter"
         }
        }
       }
      }
     },
     "metadata": {},
     "output_type": "display_data"
    },
    {
     "data": {
      "application/vnd.plotly.v1+json": {
       "config": {
        "plotlyServerURL": "https://plot.ly"
       },
       "data": [
        {
         "mode": "markers",
         "name": "Objective Value",
         "type": "scatter",
         "x": [
          1,
          10,
          12,
          20,
          24,
          59,
          71,
          72
         ],
         "y": [
          0.8458496439151274,
          0.8443264349912986,
          0.8431291763599101,
          0.8437982553090805,
          0.8428410306954995,
          0.8429280091554691,
          0.843458796158815,
          0.8433079597277519
         ]
        },
        {
         "mode": "lines",
         "name": "Best Value",
         "type": "scatter",
         "x": [
          0,
          1,
          2,
          3,
          4,
          5,
          6,
          7,
          8,
          9,
          10,
          11,
          12,
          13,
          14,
          15,
          16,
          17,
          18,
          19,
          20,
          21,
          22,
          23,
          24,
          25,
          26,
          27,
          28,
          29,
          30,
          31,
          32,
          33,
          34,
          35,
          36,
          37,
          38,
          39,
          40,
          41,
          42,
          43,
          44,
          45,
          46,
          47,
          48,
          49,
          50,
          51,
          52,
          53,
          54,
          55,
          56,
          57,
          58,
          59,
          60,
          61,
          62,
          63,
          64,
          65,
          66,
          67,
          68,
          69,
          70,
          71,
          72,
          73,
          74,
          75,
          76
         ],
         "y": [
          null,
          0.8458496439151274,
          0.8458496439151274,
          0.8458496439151274,
          0.8458496439151274,
          0.8458496439151274,
          0.8458496439151274,
          0.8458496439151274,
          0.8458496439151274,
          0.8458496439151274,
          0.8443264349912986,
          0.8443264349912986,
          0.8431291763599101,
          0.8431291763599101,
          0.8431291763599101,
          0.8431291763599101,
          0.8431291763599101,
          0.8431291763599101,
          0.8431291763599101,
          0.8431291763599101,
          0.8431291763599101,
          0.8431291763599101,
          0.8431291763599101,
          0.8431291763599101,
          0.8428410306954995,
          0.8428410306954995,
          0.8428410306954995,
          0.8428410306954995,
          0.8428410306954995,
          0.8428410306954995,
          0.8428410306954995,
          0.8428410306954995,
          0.8428410306954995,
          0.8428410306954995,
          0.8428410306954995,
          0.8428410306954995,
          0.8428410306954995,
          0.8428410306954995,
          0.8428410306954995,
          0.8428410306954995,
          0.8428410306954995,
          0.8428410306954995,
          0.8428410306954995,
          0.8428410306954995,
          0.8428410306954995,
          0.8428410306954995,
          0.8428410306954995,
          0.8428410306954995,
          0.8428410306954995,
          0.8428410306954995,
          0.8428410306954995,
          0.8428410306954995,
          0.8428410306954995,
          0.8428410306954995,
          0.8428410306954995,
          0.8428410306954995,
          0.8428410306954995,
          0.8428410306954995,
          0.8428410306954995,
          0.8428410306954995,
          0.8428410306954995,
          0.8428410306954995,
          0.8428410306954995,
          0.8428410306954995,
          0.8428410306954995,
          0.8428410306954995,
          0.8428410306954995,
          0.8428410306954995,
          0.8428410306954995,
          0.8428410306954995,
          0.8428410306954995,
          0.8428410306954995,
          0.8428410306954995,
          0.8428410306954995,
          0.8428410306954995,
          0.8428410306954995,
          0.8428410306954995
         ]
        },
        {
         "marker": {
          "color": "#cccccc"
         },
         "mode": "markers",
         "name": "Infeasible Trial",
         "showlegend": false,
         "type": "scatter",
         "x": [],
         "y": []
        }
       ],
       "layout": {
        "template": {
         "data": {
          "bar": [
           {
            "error_x": {
             "color": "#2a3f5f"
            },
            "error_y": {
             "color": "#2a3f5f"
            },
            "marker": {
             "line": {
              "color": "#E5ECF6",
              "width": 0.5
             },
             "pattern": {
              "fillmode": "overlay",
              "size": 10,
              "solidity": 0.2
             }
            },
            "type": "bar"
           }
          ],
          "barpolar": [
           {
            "marker": {
             "line": {
              "color": "#E5ECF6",
              "width": 0.5
             },
             "pattern": {
              "fillmode": "overlay",
              "size": 10,
              "solidity": 0.2
             }
            },
            "type": "barpolar"
           }
          ],
          "carpet": [
           {
            "aaxis": {
             "endlinecolor": "#2a3f5f",
             "gridcolor": "white",
             "linecolor": "white",
             "minorgridcolor": "white",
             "startlinecolor": "#2a3f5f"
            },
            "baxis": {
             "endlinecolor": "#2a3f5f",
             "gridcolor": "white",
             "linecolor": "white",
             "minorgridcolor": "white",
             "startlinecolor": "#2a3f5f"
            },
            "type": "carpet"
           }
          ],
          "choropleth": [
           {
            "colorbar": {
             "outlinewidth": 0,
             "ticks": ""
            },
            "type": "choropleth"
           }
          ],
          "contour": [
           {
            "colorbar": {
             "outlinewidth": 0,
             "ticks": ""
            },
            "colorscale": [
             [
              0,
              "#0d0887"
             ],
             [
              0.1111111111111111,
              "#46039f"
             ],
             [
              0.2222222222222222,
              "#7201a8"
             ],
             [
              0.3333333333333333,
              "#9c179e"
             ],
             [
              0.4444444444444444,
              "#bd3786"
             ],
             [
              0.5555555555555556,
              "#d8576b"
             ],
             [
              0.6666666666666666,
              "#ed7953"
             ],
             [
              0.7777777777777778,
              "#fb9f3a"
             ],
             [
              0.8888888888888888,
              "#fdca26"
             ],
             [
              1,
              "#f0f921"
             ]
            ],
            "type": "contour"
           }
          ],
          "contourcarpet": [
           {
            "colorbar": {
             "outlinewidth": 0,
             "ticks": ""
            },
            "type": "contourcarpet"
           }
          ],
          "heatmap": [
           {
            "colorbar": {
             "outlinewidth": 0,
             "ticks": ""
            },
            "colorscale": [
             [
              0,
              "#0d0887"
             ],
             [
              0.1111111111111111,
              "#46039f"
             ],
             [
              0.2222222222222222,
              "#7201a8"
             ],
             [
              0.3333333333333333,
              "#9c179e"
             ],
             [
              0.4444444444444444,
              "#bd3786"
             ],
             [
              0.5555555555555556,
              "#d8576b"
             ],
             [
              0.6666666666666666,
              "#ed7953"
             ],
             [
              0.7777777777777778,
              "#fb9f3a"
             ],
             [
              0.8888888888888888,
              "#fdca26"
             ],
             [
              1,
              "#f0f921"
             ]
            ],
            "type": "heatmap"
           }
          ],
          "histogram": [
           {
            "marker": {
             "pattern": {
              "fillmode": "overlay",
              "size": 10,
              "solidity": 0.2
             }
            },
            "type": "histogram"
           }
          ],
          "histogram2d": [
           {
            "colorbar": {
             "outlinewidth": 0,
             "ticks": ""
            },
            "colorscale": [
             [
              0,
              "#0d0887"
             ],
             [
              0.1111111111111111,
              "#46039f"
             ],
             [
              0.2222222222222222,
              "#7201a8"
             ],
             [
              0.3333333333333333,
              "#9c179e"
             ],
             [
              0.4444444444444444,
              "#bd3786"
             ],
             [
              0.5555555555555556,
              "#d8576b"
             ],
             [
              0.6666666666666666,
              "#ed7953"
             ],
             [
              0.7777777777777778,
              "#fb9f3a"
             ],
             [
              0.8888888888888888,
              "#fdca26"
             ],
             [
              1,
              "#f0f921"
             ]
            ],
            "type": "histogram2d"
           }
          ],
          "histogram2dcontour": [
           {
            "colorbar": {
             "outlinewidth": 0,
             "ticks": ""
            },
            "colorscale": [
             [
              0,
              "#0d0887"
             ],
             [
              0.1111111111111111,
              "#46039f"
             ],
             [
              0.2222222222222222,
              "#7201a8"
             ],
             [
              0.3333333333333333,
              "#9c179e"
             ],
             [
              0.4444444444444444,
              "#bd3786"
             ],
             [
              0.5555555555555556,
              "#d8576b"
             ],
             [
              0.6666666666666666,
              "#ed7953"
             ],
             [
              0.7777777777777778,
              "#fb9f3a"
             ],
             [
              0.8888888888888888,
              "#fdca26"
             ],
             [
              1,
              "#f0f921"
             ]
            ],
            "type": "histogram2dcontour"
           }
          ],
          "mesh3d": [
           {
            "colorbar": {
             "outlinewidth": 0,
             "ticks": ""
            },
            "type": "mesh3d"
           }
          ],
          "parcoords": [
           {
            "line": {
             "colorbar": {
              "outlinewidth": 0,
              "ticks": ""
             }
            },
            "type": "parcoords"
           }
          ],
          "pie": [
           {
            "automargin": true,
            "type": "pie"
           }
          ],
          "scatter": [
           {
            "fillpattern": {
             "fillmode": "overlay",
             "size": 10,
             "solidity": 0.2
            },
            "type": "scatter"
           }
          ],
          "scatter3d": [
           {
            "line": {
             "colorbar": {
              "outlinewidth": 0,
              "ticks": ""
             }
            },
            "marker": {
             "colorbar": {
              "outlinewidth": 0,
              "ticks": ""
             }
            },
            "type": "scatter3d"
           }
          ],
          "scattercarpet": [
           {
            "marker": {
             "colorbar": {
              "outlinewidth": 0,
              "ticks": ""
             }
            },
            "type": "scattercarpet"
           }
          ],
          "scattergeo": [
           {
            "marker": {
             "colorbar": {
              "outlinewidth": 0,
              "ticks": ""
             }
            },
            "type": "scattergeo"
           }
          ],
          "scattergl": [
           {
            "marker": {
             "colorbar": {
              "outlinewidth": 0,
              "ticks": ""
             }
            },
            "type": "scattergl"
           }
          ],
          "scattermap": [
           {
            "marker": {
             "colorbar": {
              "outlinewidth": 0,
              "ticks": ""
             }
            },
            "type": "scattermap"
           }
          ],
          "scattermapbox": [
           {
            "marker": {
             "colorbar": {
              "outlinewidth": 0,
              "ticks": ""
             }
            },
            "type": "scattermapbox"
           }
          ],
          "scatterpolar": [
           {
            "marker": {
             "colorbar": {
              "outlinewidth": 0,
              "ticks": ""
             }
            },
            "type": "scatterpolar"
           }
          ],
          "scatterpolargl": [
           {
            "marker": {
             "colorbar": {
              "outlinewidth": 0,
              "ticks": ""
             }
            },
            "type": "scatterpolargl"
           }
          ],
          "scatterternary": [
           {
            "marker": {
             "colorbar": {
              "outlinewidth": 0,
              "ticks": ""
             }
            },
            "type": "scatterternary"
           }
          ],
          "surface": [
           {
            "colorbar": {
             "outlinewidth": 0,
             "ticks": ""
            },
            "colorscale": [
             [
              0,
              "#0d0887"
             ],
             [
              0.1111111111111111,
              "#46039f"
             ],
             [
              0.2222222222222222,
              "#7201a8"
             ],
             [
              0.3333333333333333,
              "#9c179e"
             ],
             [
              0.4444444444444444,
              "#bd3786"
             ],
             [
              0.5555555555555556,
              "#d8576b"
             ],
             [
              0.6666666666666666,
              "#ed7953"
             ],
             [
              0.7777777777777778,
              "#fb9f3a"
             ],
             [
              0.8888888888888888,
              "#fdca26"
             ],
             [
              1,
              "#f0f921"
             ]
            ],
            "type": "surface"
           }
          ],
          "table": [
           {
            "cells": {
             "fill": {
              "color": "#EBF0F8"
             },
             "line": {
              "color": "white"
             }
            },
            "header": {
             "fill": {
              "color": "#C8D4E3"
             },
             "line": {
              "color": "white"
             }
            },
            "type": "table"
           }
          ]
         },
         "layout": {
          "annotationdefaults": {
           "arrowcolor": "#2a3f5f",
           "arrowhead": 0,
           "arrowwidth": 1
          },
          "autotypenumbers": "strict",
          "coloraxis": {
           "colorbar": {
            "outlinewidth": 0,
            "ticks": ""
           }
          },
          "colorscale": {
           "diverging": [
            [
             0,
             "#8e0152"
            ],
            [
             0.1,
             "#c51b7d"
            ],
            [
             0.2,
             "#de77ae"
            ],
            [
             0.3,
             "#f1b6da"
            ],
            [
             0.4,
             "#fde0ef"
            ],
            [
             0.5,
             "#f7f7f7"
            ],
            [
             0.6,
             "#e6f5d0"
            ],
            [
             0.7,
             "#b8e186"
            ],
            [
             0.8,
             "#7fbc41"
            ],
            [
             0.9,
             "#4d9221"
            ],
            [
             1,
             "#276419"
            ]
           ],
           "sequential": [
            [
             0,
             "#0d0887"
            ],
            [
             0.1111111111111111,
             "#46039f"
            ],
            [
             0.2222222222222222,
             "#7201a8"
            ],
            [
             0.3333333333333333,
             "#9c179e"
            ],
            [
             0.4444444444444444,
             "#bd3786"
            ],
            [
             0.5555555555555556,
             "#d8576b"
            ],
            [
             0.6666666666666666,
             "#ed7953"
            ],
            [
             0.7777777777777778,
             "#fb9f3a"
            ],
            [
             0.8888888888888888,
             "#fdca26"
            ],
            [
             1,
             "#f0f921"
            ]
           ],
           "sequentialminus": [
            [
             0,
             "#0d0887"
            ],
            [
             0.1111111111111111,
             "#46039f"
            ],
            [
             0.2222222222222222,
             "#7201a8"
            ],
            [
             0.3333333333333333,
             "#9c179e"
            ],
            [
             0.4444444444444444,
             "#bd3786"
            ],
            [
             0.5555555555555556,
             "#d8576b"
            ],
            [
             0.6666666666666666,
             "#ed7953"
            ],
            [
             0.7777777777777778,
             "#fb9f3a"
            ],
            [
             0.8888888888888888,
             "#fdca26"
            ],
            [
             1,
             "#f0f921"
            ]
           ]
          },
          "colorway": [
           "#636efa",
           "#EF553B",
           "#00cc96",
           "#ab63fa",
           "#FFA15A",
           "#19d3f3",
           "#FF6692",
           "#B6E880",
           "#FF97FF",
           "#FECB52"
          ],
          "font": {
           "color": "#2a3f5f"
          },
          "geo": {
           "bgcolor": "white",
           "lakecolor": "white",
           "landcolor": "#E5ECF6",
           "showlakes": true,
           "showland": true,
           "subunitcolor": "white"
          },
          "hoverlabel": {
           "align": "left"
          },
          "hovermode": "closest",
          "mapbox": {
           "style": "light"
          },
          "paper_bgcolor": "white",
          "plot_bgcolor": "#E5ECF6",
          "polar": {
           "angularaxis": {
            "gridcolor": "white",
            "linecolor": "white",
            "ticks": ""
           },
           "bgcolor": "#E5ECF6",
           "radialaxis": {
            "gridcolor": "white",
            "linecolor": "white",
            "ticks": ""
           }
          },
          "scene": {
           "xaxis": {
            "backgroundcolor": "#E5ECF6",
            "gridcolor": "white",
            "gridwidth": 2,
            "linecolor": "white",
            "showbackground": true,
            "ticks": "",
            "zerolinecolor": "white"
           },
           "yaxis": {
            "backgroundcolor": "#E5ECF6",
            "gridcolor": "white",
            "gridwidth": 2,
            "linecolor": "white",
            "showbackground": true,
            "ticks": "",
            "zerolinecolor": "white"
           },
           "zaxis": {
            "backgroundcolor": "#E5ECF6",
            "gridcolor": "white",
            "gridwidth": 2,
            "linecolor": "white",
            "showbackground": true,
            "ticks": "",
            "zerolinecolor": "white"
           }
          },
          "shapedefaults": {
           "line": {
            "color": "#2a3f5f"
           }
          },
          "ternary": {
           "aaxis": {
            "gridcolor": "white",
            "linecolor": "white",
            "ticks": ""
           },
           "baxis": {
            "gridcolor": "white",
            "linecolor": "white",
            "ticks": ""
           },
           "bgcolor": "#E5ECF6",
           "caxis": {
            "gridcolor": "white",
            "linecolor": "white",
            "ticks": ""
           }
          },
          "title": {
           "x": 0.05
          },
          "xaxis": {
           "automargin": true,
           "gridcolor": "white",
           "linecolor": "white",
           "ticks": "",
           "title": {
            "standoff": 15
           },
           "zerolinecolor": "white",
           "zerolinewidth": 2
          },
          "yaxis": {
           "automargin": true,
           "gridcolor": "white",
           "linecolor": "white",
           "ticks": "",
           "title": {
            "standoff": 15
           },
           "zerolinecolor": "white",
           "zerolinewidth": 2
          }
         }
        },
        "title": {
         "text": "Optimization History Plot"
        },
        "xaxis": {
         "title": {
          "text": "Trial"
         }
        },
        "yaxis": {
         "title": {
          "text": "Objective Value"
         }
        }
       }
      }
     },
     "metadata": {},
     "output_type": "display_data"
    },
    {
     "data": {
      "application/vnd.plotly.v1+json": {
       "config": {
        "plotlyServerURL": "https://plot.ly"
       },
       "data": [
        {
         "dimensions": [
          {
           "label": "Objective Value",
           "range": [
            0.8428410306954995,
            0.8458496439151274
           ],
           "values": [
            0.8458496439151274,
            0.8443264349912986,
            0.8431291763599101,
            0.8437982553090805,
            0.8428410306954995,
            0.8429280091554691,
            0.843458796158815,
            0.8433079597277519
           ]
          },
          {
           "label": "dropout_rate_1",
           "range": [
            0.03484556030245961,
            0.3293009044179527
           ],
           "values": [
            0.26971801113191035,
            0.3293009044179527,
            0.23592940922084354,
            0.21966333566381832,
            0.2789810760822564,
            0.03573075327624553,
            0.20762441198634818,
            0.03484556030245961
           ]
          },
          {
           "label": "dropout_rate_2",
           "range": [
            0.004080753185169872,
            0.47415842256682345
           ],
           "values": [
            0.47415842256682345,
            0.3008558884671535,
            0.010476526620503857,
            0.12457319950407292,
            0.006837075151043898,
            0.004080753185169872,
            0.0570503531480058,
            0.06078627454602954
           ]
          },
          {
           "label": "dropout_rate_3",
           "range": [
            0.013288838038620465,
            0.35918979770528575
           ],
           "values": [
            0.17640855508164865,
            0.35918979770528575,
            0.013288838038620465,
            0.10100511704045925,
            0.11448836257607312,
            0.1918790399585226,
            0.2419779654443792,
            0.115361963192355
           ]
          },
          {
           "label": "learning_rate",
           "range": [
            -2.952710160968063,
            -2.688938533857374
           ],
           "ticktext": [
            "0.00112",
            "0.00205"
           ],
           "tickvals": [
            -2.952710160968063,
            -2.688938533857374
           ],
           "values": [
            -2.7372342767402587,
            -2.789005505349861,
            -2.952710160968063,
            -2.688938533857374,
            -2.899653381234008,
            -2.903028628759734,
            -2.7759973168741676,
            -2.773185751285445
           ]
          },
          {
           "label": "n_hidden_1",
           "range": [
            32,
            128
           ],
           "values": [
            112,
            128,
            56,
            56,
            64,
            48,
            72,
            32
           ]
          },
          {
           "label": "n_hidden_2",
           "range": [
            32,
            128
           ],
           "values": [
            48,
            48,
            72,
            32,
            128,
            40,
            104,
            128
           ]
          },
          {
           "label": "n_hidden_3",
           "range": [
            88,
            128
           ],
           "values": [
            128,
            112,
            128,
            88,
            88,
            88,
            96,
            128
           ]
          },
          {
           "label": "weight_decay",
           "range": [
            -5.454547338206153,
            -2.0153575839002196
           ],
           "ticktext": [
            "3.51e-06",
            "1e-05",
            "0.0001",
            "0.001",
            "0.00965"
           ],
           "tickvals": [
            -5.454547338206153,
            -5,
            -4,
            -3,
            -2.0153575839002196
           ],
           "values": [
            -4.001216293639484,
            -4.258399267779506,
            -4.102109586021866,
            -2.0153575839002196,
            -4.89117086298186,
            -5.454547338206153,
            -3.8348980044153413,
            -4.217098921270251
           ]
          }
         ],
         "labelangle": 30,
         "labelside": "bottom",
         "line": {
          "color": [
           0.8458496439151274,
           0.8443264349912986,
           0.8431291763599101,
           0.8437982553090805,
           0.8428410306954995,
           0.8429280091554691,
           0.843458796158815,
           0.8433079597277519
          ],
          "colorbar": {
           "title": {
            "text": "Objective Value"
           }
          },
          "colorscale": [
           [
            0,
            "rgb(247,251,255)"
           ],
           [
            0.125,
            "rgb(222,235,247)"
           ],
           [
            0.25,
            "rgb(198,219,239)"
           ],
           [
            0.375,
            "rgb(158,202,225)"
           ],
           [
            0.5,
            "rgb(107,174,214)"
           ],
           [
            0.625,
            "rgb(66,146,198)"
           ],
           [
            0.75,
            "rgb(33,113,181)"
           ],
           [
            0.875,
            "rgb(8,81,156)"
           ],
           [
            1,
            "rgb(8,48,107)"
           ]
          ],
          "reversescale": true,
          "showscale": true
         },
         "type": "parcoords"
        }
       ],
       "layout": {
        "template": {
         "data": {
          "bar": [
           {
            "error_x": {
             "color": "#2a3f5f"
            },
            "error_y": {
             "color": "#2a3f5f"
            },
            "marker": {
             "line": {
              "color": "#E5ECF6",
              "width": 0.5
             },
             "pattern": {
              "fillmode": "overlay",
              "size": 10,
              "solidity": 0.2
             }
            },
            "type": "bar"
           }
          ],
          "barpolar": [
           {
            "marker": {
             "line": {
              "color": "#E5ECF6",
              "width": 0.5
             },
             "pattern": {
              "fillmode": "overlay",
              "size": 10,
              "solidity": 0.2
             }
            },
            "type": "barpolar"
           }
          ],
          "carpet": [
           {
            "aaxis": {
             "endlinecolor": "#2a3f5f",
             "gridcolor": "white",
             "linecolor": "white",
             "minorgridcolor": "white",
             "startlinecolor": "#2a3f5f"
            },
            "baxis": {
             "endlinecolor": "#2a3f5f",
             "gridcolor": "white",
             "linecolor": "white",
             "minorgridcolor": "white",
             "startlinecolor": "#2a3f5f"
            },
            "type": "carpet"
           }
          ],
          "choropleth": [
           {
            "colorbar": {
             "outlinewidth": 0,
             "ticks": ""
            },
            "type": "choropleth"
           }
          ],
          "contour": [
           {
            "colorbar": {
             "outlinewidth": 0,
             "ticks": ""
            },
            "colorscale": [
             [
              0,
              "#0d0887"
             ],
             [
              0.1111111111111111,
              "#46039f"
             ],
             [
              0.2222222222222222,
              "#7201a8"
             ],
             [
              0.3333333333333333,
              "#9c179e"
             ],
             [
              0.4444444444444444,
              "#bd3786"
             ],
             [
              0.5555555555555556,
              "#d8576b"
             ],
             [
              0.6666666666666666,
              "#ed7953"
             ],
             [
              0.7777777777777778,
              "#fb9f3a"
             ],
             [
              0.8888888888888888,
              "#fdca26"
             ],
             [
              1,
              "#f0f921"
             ]
            ],
            "type": "contour"
           }
          ],
          "contourcarpet": [
           {
            "colorbar": {
             "outlinewidth": 0,
             "ticks": ""
            },
            "type": "contourcarpet"
           }
          ],
          "heatmap": [
           {
            "colorbar": {
             "outlinewidth": 0,
             "ticks": ""
            },
            "colorscale": [
             [
              0,
              "#0d0887"
             ],
             [
              0.1111111111111111,
              "#46039f"
             ],
             [
              0.2222222222222222,
              "#7201a8"
             ],
             [
              0.3333333333333333,
              "#9c179e"
             ],
             [
              0.4444444444444444,
              "#bd3786"
             ],
             [
              0.5555555555555556,
              "#d8576b"
             ],
             [
              0.6666666666666666,
              "#ed7953"
             ],
             [
              0.7777777777777778,
              "#fb9f3a"
             ],
             [
              0.8888888888888888,
              "#fdca26"
             ],
             [
              1,
              "#f0f921"
             ]
            ],
            "type": "heatmap"
           }
          ],
          "histogram": [
           {
            "marker": {
             "pattern": {
              "fillmode": "overlay",
              "size": 10,
              "solidity": 0.2
             }
            },
            "type": "histogram"
           }
          ],
          "histogram2d": [
           {
            "colorbar": {
             "outlinewidth": 0,
             "ticks": ""
            },
            "colorscale": [
             [
              0,
              "#0d0887"
             ],
             [
              0.1111111111111111,
              "#46039f"
             ],
             [
              0.2222222222222222,
              "#7201a8"
             ],
             [
              0.3333333333333333,
              "#9c179e"
             ],
             [
              0.4444444444444444,
              "#bd3786"
             ],
             [
              0.5555555555555556,
              "#d8576b"
             ],
             [
              0.6666666666666666,
              "#ed7953"
             ],
             [
              0.7777777777777778,
              "#fb9f3a"
             ],
             [
              0.8888888888888888,
              "#fdca26"
             ],
             [
              1,
              "#f0f921"
             ]
            ],
            "type": "histogram2d"
           }
          ],
          "histogram2dcontour": [
           {
            "colorbar": {
             "outlinewidth": 0,
             "ticks": ""
            },
            "colorscale": [
             [
              0,
              "#0d0887"
             ],
             [
              0.1111111111111111,
              "#46039f"
             ],
             [
              0.2222222222222222,
              "#7201a8"
             ],
             [
              0.3333333333333333,
              "#9c179e"
             ],
             [
              0.4444444444444444,
              "#bd3786"
             ],
             [
              0.5555555555555556,
              "#d8576b"
             ],
             [
              0.6666666666666666,
              "#ed7953"
             ],
             [
              0.7777777777777778,
              "#fb9f3a"
             ],
             [
              0.8888888888888888,
              "#fdca26"
             ],
             [
              1,
              "#f0f921"
             ]
            ],
            "type": "histogram2dcontour"
           }
          ],
          "mesh3d": [
           {
            "colorbar": {
             "outlinewidth": 0,
             "ticks": ""
            },
            "type": "mesh3d"
           }
          ],
          "parcoords": [
           {
            "line": {
             "colorbar": {
              "outlinewidth": 0,
              "ticks": ""
             }
            },
            "type": "parcoords"
           }
          ],
          "pie": [
           {
            "automargin": true,
            "type": "pie"
           }
          ],
          "scatter": [
           {
            "fillpattern": {
             "fillmode": "overlay",
             "size": 10,
             "solidity": 0.2
            },
            "type": "scatter"
           }
          ],
          "scatter3d": [
           {
            "line": {
             "colorbar": {
              "outlinewidth": 0,
              "ticks": ""
             }
            },
            "marker": {
             "colorbar": {
              "outlinewidth": 0,
              "ticks": ""
             }
            },
            "type": "scatter3d"
           }
          ],
          "scattercarpet": [
           {
            "marker": {
             "colorbar": {
              "outlinewidth": 0,
              "ticks": ""
             }
            },
            "type": "scattercarpet"
           }
          ],
          "scattergeo": [
           {
            "marker": {
             "colorbar": {
              "outlinewidth": 0,
              "ticks": ""
             }
            },
            "type": "scattergeo"
           }
          ],
          "scattergl": [
           {
            "marker": {
             "colorbar": {
              "outlinewidth": 0,
              "ticks": ""
             }
            },
            "type": "scattergl"
           }
          ],
          "scattermap": [
           {
            "marker": {
             "colorbar": {
              "outlinewidth": 0,
              "ticks": ""
             }
            },
            "type": "scattermap"
           }
          ],
          "scattermapbox": [
           {
            "marker": {
             "colorbar": {
              "outlinewidth": 0,
              "ticks": ""
             }
            },
            "type": "scattermapbox"
           }
          ],
          "scatterpolar": [
           {
            "marker": {
             "colorbar": {
              "outlinewidth": 0,
              "ticks": ""
             }
            },
            "type": "scatterpolar"
           }
          ],
          "scatterpolargl": [
           {
            "marker": {
             "colorbar": {
              "outlinewidth": 0,
              "ticks": ""
             }
            },
            "type": "scatterpolargl"
           }
          ],
          "scatterternary": [
           {
            "marker": {
             "colorbar": {
              "outlinewidth": 0,
              "ticks": ""
             }
            },
            "type": "scatterternary"
           }
          ],
          "surface": [
           {
            "colorbar": {
             "outlinewidth": 0,
             "ticks": ""
            },
            "colorscale": [
             [
              0,
              "#0d0887"
             ],
             [
              0.1111111111111111,
              "#46039f"
             ],
             [
              0.2222222222222222,
              "#7201a8"
             ],
             [
              0.3333333333333333,
              "#9c179e"
             ],
             [
              0.4444444444444444,
              "#bd3786"
             ],
             [
              0.5555555555555556,
              "#d8576b"
             ],
             [
              0.6666666666666666,
              "#ed7953"
             ],
             [
              0.7777777777777778,
              "#fb9f3a"
             ],
             [
              0.8888888888888888,
              "#fdca26"
             ],
             [
              1,
              "#f0f921"
             ]
            ],
            "type": "surface"
           }
          ],
          "table": [
           {
            "cells": {
             "fill": {
              "color": "#EBF0F8"
             },
             "line": {
              "color": "white"
             }
            },
            "header": {
             "fill": {
              "color": "#C8D4E3"
             },
             "line": {
              "color": "white"
             }
            },
            "type": "table"
           }
          ]
         },
         "layout": {
          "annotationdefaults": {
           "arrowcolor": "#2a3f5f",
           "arrowhead": 0,
           "arrowwidth": 1
          },
          "autotypenumbers": "strict",
          "coloraxis": {
           "colorbar": {
            "outlinewidth": 0,
            "ticks": ""
           }
          },
          "colorscale": {
           "diverging": [
            [
             0,
             "#8e0152"
            ],
            [
             0.1,
             "#c51b7d"
            ],
            [
             0.2,
             "#de77ae"
            ],
            [
             0.3,
             "#f1b6da"
            ],
            [
             0.4,
             "#fde0ef"
            ],
            [
             0.5,
             "#f7f7f7"
            ],
            [
             0.6,
             "#e6f5d0"
            ],
            [
             0.7,
             "#b8e186"
            ],
            [
             0.8,
             "#7fbc41"
            ],
            [
             0.9,
             "#4d9221"
            ],
            [
             1,
             "#276419"
            ]
           ],
           "sequential": [
            [
             0,
             "#0d0887"
            ],
            [
             0.1111111111111111,
             "#46039f"
            ],
            [
             0.2222222222222222,
             "#7201a8"
            ],
            [
             0.3333333333333333,
             "#9c179e"
            ],
            [
             0.4444444444444444,
             "#bd3786"
            ],
            [
             0.5555555555555556,
             "#d8576b"
            ],
            [
             0.6666666666666666,
             "#ed7953"
            ],
            [
             0.7777777777777778,
             "#fb9f3a"
            ],
            [
             0.8888888888888888,
             "#fdca26"
            ],
            [
             1,
             "#f0f921"
            ]
           ],
           "sequentialminus": [
            [
             0,
             "#0d0887"
            ],
            [
             0.1111111111111111,
             "#46039f"
            ],
            [
             0.2222222222222222,
             "#7201a8"
            ],
            [
             0.3333333333333333,
             "#9c179e"
            ],
            [
             0.4444444444444444,
             "#bd3786"
            ],
            [
             0.5555555555555556,
             "#d8576b"
            ],
            [
             0.6666666666666666,
             "#ed7953"
            ],
            [
             0.7777777777777778,
             "#fb9f3a"
            ],
            [
             0.8888888888888888,
             "#fdca26"
            ],
            [
             1,
             "#f0f921"
            ]
           ]
          },
          "colorway": [
           "#636efa",
           "#EF553B",
           "#00cc96",
           "#ab63fa",
           "#FFA15A",
           "#19d3f3",
           "#FF6692",
           "#B6E880",
           "#FF97FF",
           "#FECB52"
          ],
          "font": {
           "color": "#2a3f5f"
          },
          "geo": {
           "bgcolor": "white",
           "lakecolor": "white",
           "landcolor": "#E5ECF6",
           "showlakes": true,
           "showland": true,
           "subunitcolor": "white"
          },
          "hoverlabel": {
           "align": "left"
          },
          "hovermode": "closest",
          "mapbox": {
           "style": "light"
          },
          "paper_bgcolor": "white",
          "plot_bgcolor": "#E5ECF6",
          "polar": {
           "angularaxis": {
            "gridcolor": "white",
            "linecolor": "white",
            "ticks": ""
           },
           "bgcolor": "#E5ECF6",
           "radialaxis": {
            "gridcolor": "white",
            "linecolor": "white",
            "ticks": ""
           }
          },
          "scene": {
           "xaxis": {
            "backgroundcolor": "#E5ECF6",
            "gridcolor": "white",
            "gridwidth": 2,
            "linecolor": "white",
            "showbackground": true,
            "ticks": "",
            "zerolinecolor": "white"
           },
           "yaxis": {
            "backgroundcolor": "#E5ECF6",
            "gridcolor": "white",
            "gridwidth": 2,
            "linecolor": "white",
            "showbackground": true,
            "ticks": "",
            "zerolinecolor": "white"
           },
           "zaxis": {
            "backgroundcolor": "#E5ECF6",
            "gridcolor": "white",
            "gridwidth": 2,
            "linecolor": "white",
            "showbackground": true,
            "ticks": "",
            "zerolinecolor": "white"
           }
          },
          "shapedefaults": {
           "line": {
            "color": "#2a3f5f"
           }
          },
          "ternary": {
           "aaxis": {
            "gridcolor": "white",
            "linecolor": "white",
            "ticks": ""
           },
           "baxis": {
            "gridcolor": "white",
            "linecolor": "white",
            "ticks": ""
           },
           "bgcolor": "#E5ECF6",
           "caxis": {
            "gridcolor": "white",
            "linecolor": "white",
            "ticks": ""
           }
          },
          "title": {
           "x": 0.05
          },
          "xaxis": {
           "automargin": true,
           "gridcolor": "white",
           "linecolor": "white",
           "ticks": "",
           "title": {
            "standoff": 15
           },
           "zerolinecolor": "white",
           "zerolinewidth": 2
          },
          "yaxis": {
           "automargin": true,
           "gridcolor": "white",
           "linecolor": "white",
           "ticks": "",
           "title": {
            "standoff": 15
           },
           "zerolinecolor": "white",
           "zerolinewidth": 2
          }
         }
        },
        "title": {
         "text": "Parallel Coordinate Plot"
        }
       }
      }
     },
     "metadata": {},
     "output_type": "display_data"
    }
   ],
   "source": [
    "# plot the figures\n",
    "param_importances.show()\n",
    "optimization_history.show()\n",
    "parallel_coordinate.show()"
   ]
  },
  {
   "cell_type": "code",
   "execution_count": 42,
   "id": "7cabb4ec",
   "metadata": {},
   "outputs": [
    {
     "name": "stdout",
     "output_type": "stream",
     "text": [
      "Study saved to mlp_optuna_study_20250510_150441.pkl\n"
     ]
    }
   ],
   "source": [
    "import joblib\n",
    "\n",
    "# Save the complete study to a file\n",
    "study_filename = f\"mlp_optuna_study_{time.strftime('%Y%m%d_%H%M%S')}.pkl\"\n",
    "joblib.dump(study, study_filename)\n",
    "print(f\"Study saved to {study_filename}\")"
   ]
  },
  {
   "cell_type": "code",
   "execution_count": 43,
   "id": "08d965b1",
   "metadata": {},
   "outputs": [],
   "source": [
    "# Later, you can load it back\n",
    "loaded_study = joblib.load(study_filename)"
   ]
  },
  {
   "cell_type": "code",
   "execution_count": 44,
   "id": "66edee83",
   "metadata": {},
   "outputs": [],
   "source": [
    "import optuna\n",
    "# First, set up the ASHA pruner\n",
    "asha_pruner = optuna.pruners.SuccessiveHalvingPruner(\n",
    "    min_resource=20,        # Minimum number of steps before pruning\n",
    "    reduction_factor=2,    # Reduction factor for successive halving\n",
    "    min_early_stopping_rate=0\n",
    ")"
   ]
  },
  {
   "cell_type": "code",
   "execution_count": 45,
   "id": "8df82e1a",
   "metadata": {},
   "outputs": [
    {
     "name": "stderr",
     "output_type": "stream",
     "text": [
      "[I 2025-05-10 15:18:47,761] A new study created in memory with name: no-name-78db8b76-9125-4860-b0ff-bfecfd29d304\n"
     ]
    }
   ],
   "source": [
    "study_mlp0 = optuna.create_study(direction=\"minimize\", pruner=asha_pruner)"
   ]
  },
  {
   "cell_type": "code",
   "execution_count": 46,
   "id": "28a5165c",
   "metadata": {},
   "outputs": [
    {
     "name": "stderr",
     "output_type": "stream",
     "text": [
      "[I 2025-05-10 15:19:44,594] Trial 0 pruned. \n",
      "[I 2025-05-10 15:19:46,948] Trial 6 pruned. \n",
      "[I 2025-05-10 15:19:56,699] Trial 4 pruned. \n",
      "[I 2025-05-10 15:20:20,745] Trial 3 pruned. \n",
      "[I 2025-05-10 15:20:31,092] Trial 8 pruned. \n",
      "[I 2025-05-10 15:20:40,195] Trial 7 pruned. \n",
      "[I 2025-05-10 15:20:56,048] Trial 10 pruned. \n",
      "[I 2025-05-10 15:21:31,698] Trial 13 pruned. \n",
      "[I 2025-05-10 15:21:54,212] Trial 14 pruned. \n",
      "[I 2025-05-10 15:22:27,438] Trial 2 finished with value: 0.8636572926472393 and parameters: {'learning_rate': 0.029889873696552514, 'weight_decay': 8.830553721022295e-06}. Best is trial 2 with value: 0.8636572926472393.\n",
      "[I 2025-05-10 15:22:33,366] Trial 5 finished with value: 0.8487560978302588 and parameters: {'learning_rate': 0.004095416753618702, 'weight_decay': 1.325392561516055e-06}. Best is trial 5 with value: 0.8487560978302588.\n",
      "[I 2025-05-10 15:23:05,379] Trial 11 pruned. \n",
      "[I 2025-05-10 15:23:11,838] Trial 17 pruned. \n",
      "[I 2025-05-10 15:23:26,516] Trial 1 pruned. \n",
      "[I 2025-05-10 15:23:38,316] Trial 9 finished with value: 0.8476265118672298 and parameters: {'learning_rate': 0.004467405129949569, 'weight_decay': 0.004788478554214533}. Best is trial 9 with value: 0.8476265118672298.\n",
      "[I 2025-05-10 15:23:53,302] Trial 16 pruned. \n",
      "[I 2025-05-10 15:23:56,569] Trial 20 pruned. \n",
      "[I 2025-05-10 15:24:02,345] Trial 18 pruned. \n",
      "[I 2025-05-10 15:24:14,727] Trial 12 finished with value: 0.8478090182328835 and parameters: {'learning_rate': 0.0030823326791737647, 'weight_decay': 1.0005137906684646e-05}. Best is trial 9 with value: 0.8476265118672298.\n",
      "[I 2025-05-10 15:24:28,363] Trial 22 pruned. \n",
      "[I 2025-05-10 15:24:37,678] Trial 21 pruned. \n",
      "[I 2025-05-10 15:24:41,395] Trial 24 pruned. \n",
      "[I 2025-05-10 15:24:47,714] Trial 25 pruned. \n",
      "[I 2025-05-10 15:24:52,703] Trial 23 pruned. \n",
      "[I 2025-05-10 15:24:58,861] Trial 26 pruned. \n",
      "[I 2025-05-10 15:25:08,538] Trial 27 pruned. \n",
      "[I 2025-05-10 15:25:16,959] Trial 19 pruned. \n",
      "[I 2025-05-10 15:25:20,824] Trial 15 finished with value: 0.8493736264033195 and parameters: {'learning_rate': 0.00495946453624772, 'weight_decay': 0.0005057457233164913}. Best is trial 9 with value: 0.8476265118672298.\n",
      "[I 2025-05-10 15:25:56,440] Trial 29 pruned. \n",
      "[I 2025-05-10 15:25:57,357] Trial 28 pruned. \n"
     ]
    }
   ],
   "source": [
    "study_mlp0.optimize(\n",
    "    lambda trial: objective(trial,\n",
    "                            input_dim=dh.input_dim,\n",
    "                            depth=0,\n",
    "                            dataloaders=cv_dataloaders),\n",
    "    n_trials=30,  # Number of trials to run\n",
    "    timeout=600,   # Timeout in seconds\n",
    "    n_jobs=-1,     # Use all available cores\n",
    ")"
   ]
  },
  {
   "cell_type": "code",
   "execution_count": 47,
   "id": "cd635dae",
   "metadata": {},
   "outputs": [
    {
     "data": {
      "application/vnd.microsoft.datawrangler.viewer.v0+json": {
       "columns": [
        {
         "name": "index",
         "rawType": "int64",
         "type": "integer"
        },
        {
         "name": "number",
         "rawType": "int64",
         "type": "integer"
        },
        {
         "name": "value",
         "rawType": "float64",
         "type": "float"
        },
        {
         "name": "datetime_start",
         "rawType": "datetime64[ns]",
         "type": "datetime"
        },
        {
         "name": "datetime_complete",
         "rawType": "datetime64[ns]",
         "type": "datetime"
        },
        {
         "name": "duration",
         "rawType": "timedelta64[ns]",
         "type": "unknown"
        },
        {
         "name": "params_learning_rate",
         "rawType": "float64",
         "type": "float"
        },
        {
         "name": "params_weight_decay",
         "rawType": "float64",
         "type": "float"
        },
        {
         "name": "system_attrs_completed_rung_0",
         "rawType": "float64",
         "type": "float"
        },
        {
         "name": "system_attrs_completed_rung_1",
         "rawType": "float64",
         "type": "float"
        },
        {
         "name": "system_attrs_completed_rung_2",
         "rawType": "float64",
         "type": "float"
        },
        {
         "name": "state",
         "rawType": "object",
         "type": "string"
        }
       ],
       "ref": "effe79a1-44d7-41f1-b870-db6a45d685ca",
       "rows": [
        [
         "0",
         "0",
         "0.8774987474465981",
         "2025-05-10 15:18:57.321908",
         "2025-05-10 15:19:44.593940",
         "0 days 00:00:47.272032",
         "0.0018359995585655938",
         "1.872170802112056e-05",
         "0.8774987474465981",
         null,
         null,
         "PRUNED"
        ],
        [
         "1",
         "1",
         "0.8505911582555526",
         "2025-05-10 15:18:57.333704",
         "2025-05-10 15:23:26.516318",
         "0 days 00:04:29.182614",
         "0.019596958156956754",
         "0.0007722304325226934",
         "0.8591026969445057",
         "0.8506413774612622",
         "0.8505911582555526",
         "PRUNED"
        ],
        [
         "2",
         "2",
         "0.8636572926472393",
         "2025-05-10 15:18:57.335416",
         "2025-05-10 15:22:27.438276",
         "0 days 00:03:30.102860",
         "0.029889873696552514",
         "8.830553721022295e-06",
         "0.8596396751892872",
         "0.8670641917448777",
         "0.8571384319892297",
         "COMPLETE"
        ],
        [
         "3",
         "3",
         "0.9924678634374571",
         "2025-05-10 15:18:57.336431",
         "2025-05-10 15:20:20.745331",
         "0 days 00:01:23.408900",
         "0.00026650248034310384",
         "0.005868092718690977",
         "0.9924678634374571",
         null,
         null,
         "PRUNED"
        ],
        [
         "4",
         "4",
         "1.105933883251288",
         "2025-05-10 15:18:57.337485",
         "2025-05-10 15:19:56.699140",
         "0 days 00:00:59.361655",
         "0.09572591214823434",
         "0.0005891233246954226",
         "1.105933883251288",
         null,
         null,
         "PRUNED"
        ],
        [
         "5",
         "5",
         "0.8487560978302588",
         "2025-05-10 15:18:57.338264",
         "2025-05-10 15:22:33.366451",
         "0 days 00:03:36.028187",
         "0.004095416753618702",
         "1.325392561516055e-06",
         "0.8518776282286034",
         "0.8488840185678922",
         "0.8487189947030483",
         "COMPLETE"
        ],
        [
         "6",
         "6",
         "0.8792635187124596",
         "2025-05-10 15:18:57.344447",
         "2025-05-10 15:19:46.948447",
         "0 days 00:00:49.604000",
         "0.001905314762345584",
         "2.3025964336793498e-05",
         "0.8792635187124596",
         null,
         null,
         "PRUNED"
        ],
        [
         "7",
         "7",
         "0.8620943228403727",
         "2025-05-10 15:18:57.345479",
         "2025-05-10 15:20:40.195732",
         "0 days 00:01:42.850253",
         "0.010804290884493618",
         "2.333331631353302e-06",
         "0.8524880409240723",
         "0.8620943228403727",
         null,
         "PRUNED"
        ],
        [
         "8",
         "8",
         "1.0490479515149043",
         "2025-05-10 15:19:44.596212",
         "2025-05-10 15:20:31.092185",
         "0 days 00:00:46.495973",
         "0.00010364763635514438",
         "2.1321525232576856e-06",
         "1.0490479515149043",
         null,
         null,
         "PRUNED"
        ],
        [
         "9",
         "9",
         "0.8476265118672298",
         "2025-05-10 15:19:46.949785",
         "2025-05-10 15:23:38.316152",
         "0 days 00:03:51.366367",
         "0.004467405129949569",
         "0.004788478554214533",
         "0.8507098020651401",
         "0.8477900486726027",
         "0.8470605596517905",
         "COMPLETE"
        ],
        [
         "10",
         "10",
         "1.0288421588066294",
         "2025-05-10 15:19:56.700226",
         "2025-05-10 15:20:56.048913",
         "0 days 00:00:59.348687",
         "0.07996726263103296",
         "1.2463804772037922e-05",
         "1.0288421588066294",
         null,
         null,
         "PRUNED"
        ],
        [
         "11",
         "11",
         "0.84955132771761",
         "2025-05-10 15:20:20.748368",
         "2025-05-10 15:23:05.379020",
         "0 days 00:02:44.630652",
         "0.005948413865836922",
         "1.8221878467413506e-06",
         "0.8518870763289623",
         "0.84955132771761",
         null,
         "PRUNED"
        ],
        [
         "12",
         "12",
         "0.8478090182328835",
         "2025-05-10 15:20:31.093328",
         "2025-05-10 15:24:14.726755",
         "0 days 00:03:43.633427",
         "0.0030823326791737647",
         "1.0005137906684646e-05",
         "0.8609843972401742",
         "0.8487393963031279",
         "0.8486829476478772",
         "COMPLETE"
        ],
        [
         "13",
         "13",
         "1.0279447711431062",
         "2025-05-10 15:20:40.196942",
         "2025-05-10 15:21:31.698580",
         "0 days 00:00:51.501638",
         "0.00013522067918849347",
         "0.003681420210226865",
         "1.0279447711431062",
         null,
         null,
         "PRUNED"
        ],
        [
         "14",
         "14",
         "1.0213875006406736",
         "2025-05-10 15:20:56.049790",
         "2025-05-10 15:21:54.212045",
         "0 days 00:00:58.162255",
         "0.00014907540676417186",
         "5.9171781438341274e-06",
         "1.0213875006406736",
         null,
         null,
         "PRUNED"
        ],
        [
         "15",
         "15",
         "0.8493736264033195",
         "2025-05-10 15:21:31.700677",
         "2025-05-10 15:25:20.824459",
         "0 days 00:03:49.123782",
         "0.00495946453624772",
         "0.0005057457233164913",
         "0.8518886413329687",
         "0.8475230427888724",
         "0.8477538533699818",
         "COMPLETE"
        ],
        [
         "16",
         "16",
         "0.8682455344077867",
         "2025-05-10 15:21:54.213955",
         "2025-05-10 15:23:53.302349",
         "0 days 00:01:59.088394",
         "0.0229762064552258",
         "6.929794332141749e-06",
         "0.8543001413345337",
         "0.8682455344077867",
         null,
         "PRUNED"
        ],
        [
         "17",
         "17",
         "0.8718849160732368",
         "2025-05-10 15:22:27.439984",
         "2025-05-10 15:23:11.838843",
         "0 days 00:00:44.398859",
         "0.01583546467465862",
         "0.0002336133062473256",
         "0.8718849160732368",
         null,
         null,
         "PRUNED"
        ],
        [
         "18",
         "18",
         "0.8544560716702388",
         "2025-05-10 15:22:33.369634",
         "2025-05-10 15:24:02.345657",
         "0 days 00:01:28.976023",
         "0.012342449170527273",
         "1.0535692829601308e-06",
         "0.8518946186090126",
         "0.8544560716702388",
         null,
         "PRUNED"
        ],
        [
         "19",
         "19",
         "0.8558355921354049",
         "2025-05-10 15:23:05.380054",
         "2025-05-10 15:25:16.959496",
         "0 days 00:02:11.579442",
         "0.02168127094120684",
         "7.847287632908745e-05",
         "0.8530062849705037",
         "0.8558355921354049",
         null,
         "PRUNED"
        ],
        [
         "20",
         "20",
         "0.8682842162939218",
         "2025-05-10 15:23:11.840267",
         "2025-05-10 15:23:56.569830",
         "0 days 00:00:44.729563",
         "0.031100800787997037",
         "7.021204138278745e-05",
         "0.8682842162939218",
         null,
         null,
         "PRUNED"
        ],
        [
         "21",
         "21",
         "0.9588672961944189",
         "2025-05-10 15:23:26.517560",
         "2025-05-10 15:24:37.678284",
         "0 days 00:01:11.160724",
         "0.0005390986268773635",
         "6.75582313203971e-05",
         "0.9588672961944189",
         null,
         null,
         "PRUNED"
        ],
        [
         "22",
         "22",
         "0.9276494628343827",
         "2025-05-10 15:23:38.318626",
         "2025-05-10 15:24:28.362999",
         "0 days 00:00:50.044373",
         "0.0007893633413399297",
         "8.531997116599878e-05",
         "0.9276494628343827",
         null,
         null,
         "PRUNED"
        ],
        [
         "23",
         "23",
         "0.9275935659041771",
         "2025-05-10 15:23:53.304068",
         "2025-05-10 15:24:52.703340",
         "0 days 00:00:59.399272",
         "0.0008675486639602697",
         "7.46260218666485e-05",
         "0.9275935659041771",
         null,
         null,
         "PRUNED"
        ],
        [
         "24",
         "24",
         "0.9275398774024768",
         "2025-05-10 15:23:56.570780",
         "2025-05-10 15:24:41.395915",
         "0 days 00:00:44.825135",
         "0.0009172979053078386",
         "0.0014192728754629552",
         "0.9275398774024768",
         null,
         null,
         "PRUNED"
        ],
        [
         "25",
         "25",
         "0.9312320871230884",
         "2025-05-10 15:24:02.346846",
         "2025-05-10 15:24:47.714006",
         "0 days 00:00:45.367160",
         "0.0008487645101357333",
         "0.0015576355131500155",
         "0.9312320871230884",
         null,
         null,
         "PRUNED"
        ],
        [
         "26",
         "26",
         "0.9186243980358809",
         "2025-05-10 15:24:14.728224",
         "2025-05-10 15:24:58.861400",
         "0 days 00:00:44.133176",
         "0.0008930312729770192",
         "8.653884280180737e-05",
         "0.9186243980358809",
         null,
         null,
         "PRUNED"
        ],
        [
         "27",
         "27",
         "0.9318002049739543",
         "2025-05-10 15:24:28.364766",
         "2025-05-10 15:25:08.538870",
         "0 days 00:00:40.174104",
         "0.0007863616541349196",
         "0.0030803386903925116",
         "0.9318002049739543",
         null,
         null,
         "PRUNED"
        ],
        [
         "28",
         "28",
         "0.84954467186561",
         "2025-05-10 15:24:37.679663",
         "2025-05-10 15:25:57.357881",
         "0 days 00:01:19.678218",
         "0.004306848879223964",
         "0.002170548821010839",
         "0.8523290218451084",
         "0.8467516899108887",
         "0.84954467186561",
         "PRUNED"
        ],
        [
         "29",
         "29",
         "0.8497040027227157",
         "2025-05-10 15:24:41.397255",
         "2025-05-10 15:25:56.440108",
         "0 days 00:01:15.042853",
         "0.004392582523612472",
         "2.4776308883167123e-05",
         "0.8519842701080518",
         "0.8472731434381925",
         "0.8497040027227157",
         "PRUNED"
        ]
       ],
       "shape": {
        "columns": 11,
        "rows": 30
       }
      },
      "text/html": [
       "<div>\n",
       "<style scoped>\n",
       "    .dataframe tbody tr th:only-of-type {\n",
       "        vertical-align: middle;\n",
       "    }\n",
       "\n",
       "    .dataframe tbody tr th {\n",
       "        vertical-align: top;\n",
       "    }\n",
       "\n",
       "    .dataframe thead th {\n",
       "        text-align: right;\n",
       "    }\n",
       "</style>\n",
       "<table border=\"1\" class=\"dataframe\">\n",
       "  <thead>\n",
       "    <tr style=\"text-align: right;\">\n",
       "      <th></th>\n",
       "      <th>number</th>\n",
       "      <th>value</th>\n",
       "      <th>datetime_start</th>\n",
       "      <th>datetime_complete</th>\n",
       "      <th>duration</th>\n",
       "      <th>params_learning_rate</th>\n",
       "      <th>params_weight_decay</th>\n",
       "      <th>system_attrs_completed_rung_0</th>\n",
       "      <th>system_attrs_completed_rung_1</th>\n",
       "      <th>system_attrs_completed_rung_2</th>\n",
       "      <th>state</th>\n",
       "    </tr>\n",
       "  </thead>\n",
       "  <tbody>\n",
       "    <tr>\n",
       "      <th>0</th>\n",
       "      <td>0</td>\n",
       "      <td>0.877499</td>\n",
       "      <td>2025-05-10 15:18:57.321908</td>\n",
       "      <td>2025-05-10 15:19:44.593940</td>\n",
       "      <td>0 days 00:00:47.272032</td>\n",
       "      <td>0.001836</td>\n",
       "      <td>0.000019</td>\n",
       "      <td>0.877499</td>\n",
       "      <td>NaN</td>\n",
       "      <td>NaN</td>\n",
       "      <td>PRUNED</td>\n",
       "    </tr>\n",
       "    <tr>\n",
       "      <th>1</th>\n",
       "      <td>1</td>\n",
       "      <td>0.850591</td>\n",
       "      <td>2025-05-10 15:18:57.333704</td>\n",
       "      <td>2025-05-10 15:23:26.516318</td>\n",
       "      <td>0 days 00:04:29.182614</td>\n",
       "      <td>0.019597</td>\n",
       "      <td>0.000772</td>\n",
       "      <td>0.859103</td>\n",
       "      <td>0.850641</td>\n",
       "      <td>0.850591</td>\n",
       "      <td>PRUNED</td>\n",
       "    </tr>\n",
       "    <tr>\n",
       "      <th>2</th>\n",
       "      <td>2</td>\n",
       "      <td>0.863657</td>\n",
       "      <td>2025-05-10 15:18:57.335416</td>\n",
       "      <td>2025-05-10 15:22:27.438276</td>\n",
       "      <td>0 days 00:03:30.102860</td>\n",
       "      <td>0.029890</td>\n",
       "      <td>0.000009</td>\n",
       "      <td>0.859640</td>\n",
       "      <td>0.867064</td>\n",
       "      <td>0.857138</td>\n",
       "      <td>COMPLETE</td>\n",
       "    </tr>\n",
       "    <tr>\n",
       "      <th>3</th>\n",
       "      <td>3</td>\n",
       "      <td>0.992468</td>\n",
       "      <td>2025-05-10 15:18:57.336431</td>\n",
       "      <td>2025-05-10 15:20:20.745331</td>\n",
       "      <td>0 days 00:01:23.408900</td>\n",
       "      <td>0.000267</td>\n",
       "      <td>0.005868</td>\n",
       "      <td>0.992468</td>\n",
       "      <td>NaN</td>\n",
       "      <td>NaN</td>\n",
       "      <td>PRUNED</td>\n",
       "    </tr>\n",
       "    <tr>\n",
       "      <th>4</th>\n",
       "      <td>4</td>\n",
       "      <td>1.105934</td>\n",
       "      <td>2025-05-10 15:18:57.337485</td>\n",
       "      <td>2025-05-10 15:19:56.699140</td>\n",
       "      <td>0 days 00:00:59.361655</td>\n",
       "      <td>0.095726</td>\n",
       "      <td>0.000589</td>\n",
       "      <td>1.105934</td>\n",
       "      <td>NaN</td>\n",
       "      <td>NaN</td>\n",
       "      <td>PRUNED</td>\n",
       "    </tr>\n",
       "    <tr>\n",
       "      <th>5</th>\n",
       "      <td>5</td>\n",
       "      <td>0.848756</td>\n",
       "      <td>2025-05-10 15:18:57.338264</td>\n",
       "      <td>2025-05-10 15:22:33.366451</td>\n",
       "      <td>0 days 00:03:36.028187</td>\n",
       "      <td>0.004095</td>\n",
       "      <td>0.000001</td>\n",
       "      <td>0.851878</td>\n",
       "      <td>0.848884</td>\n",
       "      <td>0.848719</td>\n",
       "      <td>COMPLETE</td>\n",
       "    </tr>\n",
       "    <tr>\n",
       "      <th>6</th>\n",
       "      <td>6</td>\n",
       "      <td>0.879264</td>\n",
       "      <td>2025-05-10 15:18:57.344447</td>\n",
       "      <td>2025-05-10 15:19:46.948447</td>\n",
       "      <td>0 days 00:00:49.604000</td>\n",
       "      <td>0.001905</td>\n",
       "      <td>0.000023</td>\n",
       "      <td>0.879264</td>\n",
       "      <td>NaN</td>\n",
       "      <td>NaN</td>\n",
       "      <td>PRUNED</td>\n",
       "    </tr>\n",
       "    <tr>\n",
       "      <th>7</th>\n",
       "      <td>7</td>\n",
       "      <td>0.862094</td>\n",
       "      <td>2025-05-10 15:18:57.345479</td>\n",
       "      <td>2025-05-10 15:20:40.195732</td>\n",
       "      <td>0 days 00:01:42.850253</td>\n",
       "      <td>0.010804</td>\n",
       "      <td>0.000002</td>\n",
       "      <td>0.852488</td>\n",
       "      <td>0.862094</td>\n",
       "      <td>NaN</td>\n",
       "      <td>PRUNED</td>\n",
       "    </tr>\n",
       "    <tr>\n",
       "      <th>8</th>\n",
       "      <td>8</td>\n",
       "      <td>1.049048</td>\n",
       "      <td>2025-05-10 15:19:44.596212</td>\n",
       "      <td>2025-05-10 15:20:31.092185</td>\n",
       "      <td>0 days 00:00:46.495973</td>\n",
       "      <td>0.000104</td>\n",
       "      <td>0.000002</td>\n",
       "      <td>1.049048</td>\n",
       "      <td>NaN</td>\n",
       "      <td>NaN</td>\n",
       "      <td>PRUNED</td>\n",
       "    </tr>\n",
       "    <tr>\n",
       "      <th>9</th>\n",
       "      <td>9</td>\n",
       "      <td>0.847627</td>\n",
       "      <td>2025-05-10 15:19:46.949785</td>\n",
       "      <td>2025-05-10 15:23:38.316152</td>\n",
       "      <td>0 days 00:03:51.366367</td>\n",
       "      <td>0.004467</td>\n",
       "      <td>0.004788</td>\n",
       "      <td>0.850710</td>\n",
       "      <td>0.847790</td>\n",
       "      <td>0.847061</td>\n",
       "      <td>COMPLETE</td>\n",
       "    </tr>\n",
       "    <tr>\n",
       "      <th>10</th>\n",
       "      <td>10</td>\n",
       "      <td>1.028842</td>\n",
       "      <td>2025-05-10 15:19:56.700226</td>\n",
       "      <td>2025-05-10 15:20:56.048913</td>\n",
       "      <td>0 days 00:00:59.348687</td>\n",
       "      <td>0.079967</td>\n",
       "      <td>0.000012</td>\n",
       "      <td>1.028842</td>\n",
       "      <td>NaN</td>\n",
       "      <td>NaN</td>\n",
       "      <td>PRUNED</td>\n",
       "    </tr>\n",
       "    <tr>\n",
       "      <th>11</th>\n",
       "      <td>11</td>\n",
       "      <td>0.849551</td>\n",
       "      <td>2025-05-10 15:20:20.748368</td>\n",
       "      <td>2025-05-10 15:23:05.379020</td>\n",
       "      <td>0 days 00:02:44.630652</td>\n",
       "      <td>0.005948</td>\n",
       "      <td>0.000002</td>\n",
       "      <td>0.851887</td>\n",
       "      <td>0.849551</td>\n",
       "      <td>NaN</td>\n",
       "      <td>PRUNED</td>\n",
       "    </tr>\n",
       "    <tr>\n",
       "      <th>12</th>\n",
       "      <td>12</td>\n",
       "      <td>0.847809</td>\n",
       "      <td>2025-05-10 15:20:31.093328</td>\n",
       "      <td>2025-05-10 15:24:14.726755</td>\n",
       "      <td>0 days 00:03:43.633427</td>\n",
       "      <td>0.003082</td>\n",
       "      <td>0.000010</td>\n",
       "      <td>0.860984</td>\n",
       "      <td>0.848739</td>\n",
       "      <td>0.848683</td>\n",
       "      <td>COMPLETE</td>\n",
       "    </tr>\n",
       "    <tr>\n",
       "      <th>13</th>\n",
       "      <td>13</td>\n",
       "      <td>1.027945</td>\n",
       "      <td>2025-05-10 15:20:40.196942</td>\n",
       "      <td>2025-05-10 15:21:31.698580</td>\n",
       "      <td>0 days 00:00:51.501638</td>\n",
       "      <td>0.000135</td>\n",
       "      <td>0.003681</td>\n",
       "      <td>1.027945</td>\n",
       "      <td>NaN</td>\n",
       "      <td>NaN</td>\n",
       "      <td>PRUNED</td>\n",
       "    </tr>\n",
       "    <tr>\n",
       "      <th>14</th>\n",
       "      <td>14</td>\n",
       "      <td>1.021388</td>\n",
       "      <td>2025-05-10 15:20:56.049790</td>\n",
       "      <td>2025-05-10 15:21:54.212045</td>\n",
       "      <td>0 days 00:00:58.162255</td>\n",
       "      <td>0.000149</td>\n",
       "      <td>0.000006</td>\n",
       "      <td>1.021388</td>\n",
       "      <td>NaN</td>\n",
       "      <td>NaN</td>\n",
       "      <td>PRUNED</td>\n",
       "    </tr>\n",
       "    <tr>\n",
       "      <th>15</th>\n",
       "      <td>15</td>\n",
       "      <td>0.849374</td>\n",
       "      <td>2025-05-10 15:21:31.700677</td>\n",
       "      <td>2025-05-10 15:25:20.824459</td>\n",
       "      <td>0 days 00:03:49.123782</td>\n",
       "      <td>0.004959</td>\n",
       "      <td>0.000506</td>\n",
       "      <td>0.851889</td>\n",
       "      <td>0.847523</td>\n",
       "      <td>0.847754</td>\n",
       "      <td>COMPLETE</td>\n",
       "    </tr>\n",
       "    <tr>\n",
       "      <th>16</th>\n",
       "      <td>16</td>\n",
       "      <td>0.868246</td>\n",
       "      <td>2025-05-10 15:21:54.213955</td>\n",
       "      <td>2025-05-10 15:23:53.302349</td>\n",
       "      <td>0 days 00:01:59.088394</td>\n",
       "      <td>0.022976</td>\n",
       "      <td>0.000007</td>\n",
       "      <td>0.854300</td>\n",
       "      <td>0.868246</td>\n",
       "      <td>NaN</td>\n",
       "      <td>PRUNED</td>\n",
       "    </tr>\n",
       "    <tr>\n",
       "      <th>17</th>\n",
       "      <td>17</td>\n",
       "      <td>0.871885</td>\n",
       "      <td>2025-05-10 15:22:27.439984</td>\n",
       "      <td>2025-05-10 15:23:11.838843</td>\n",
       "      <td>0 days 00:00:44.398859</td>\n",
       "      <td>0.015835</td>\n",
       "      <td>0.000234</td>\n",
       "      <td>0.871885</td>\n",
       "      <td>NaN</td>\n",
       "      <td>NaN</td>\n",
       "      <td>PRUNED</td>\n",
       "    </tr>\n",
       "    <tr>\n",
       "      <th>18</th>\n",
       "      <td>18</td>\n",
       "      <td>0.854456</td>\n",
       "      <td>2025-05-10 15:22:33.369634</td>\n",
       "      <td>2025-05-10 15:24:02.345657</td>\n",
       "      <td>0 days 00:01:28.976023</td>\n",
       "      <td>0.012342</td>\n",
       "      <td>0.000001</td>\n",
       "      <td>0.851895</td>\n",
       "      <td>0.854456</td>\n",
       "      <td>NaN</td>\n",
       "      <td>PRUNED</td>\n",
       "    </tr>\n",
       "    <tr>\n",
       "      <th>19</th>\n",
       "      <td>19</td>\n",
       "      <td>0.855836</td>\n",
       "      <td>2025-05-10 15:23:05.380054</td>\n",
       "      <td>2025-05-10 15:25:16.959496</td>\n",
       "      <td>0 days 00:02:11.579442</td>\n",
       "      <td>0.021681</td>\n",
       "      <td>0.000078</td>\n",
       "      <td>0.853006</td>\n",
       "      <td>0.855836</td>\n",
       "      <td>NaN</td>\n",
       "      <td>PRUNED</td>\n",
       "    </tr>\n",
       "    <tr>\n",
       "      <th>20</th>\n",
       "      <td>20</td>\n",
       "      <td>0.868284</td>\n",
       "      <td>2025-05-10 15:23:11.840267</td>\n",
       "      <td>2025-05-10 15:23:56.569830</td>\n",
       "      <td>0 days 00:00:44.729563</td>\n",
       "      <td>0.031101</td>\n",
       "      <td>0.000070</td>\n",
       "      <td>0.868284</td>\n",
       "      <td>NaN</td>\n",
       "      <td>NaN</td>\n",
       "      <td>PRUNED</td>\n",
       "    </tr>\n",
       "    <tr>\n",
       "      <th>21</th>\n",
       "      <td>21</td>\n",
       "      <td>0.958867</td>\n",
       "      <td>2025-05-10 15:23:26.517560</td>\n",
       "      <td>2025-05-10 15:24:37.678284</td>\n",
       "      <td>0 days 00:01:11.160724</td>\n",
       "      <td>0.000539</td>\n",
       "      <td>0.000068</td>\n",
       "      <td>0.958867</td>\n",
       "      <td>NaN</td>\n",
       "      <td>NaN</td>\n",
       "      <td>PRUNED</td>\n",
       "    </tr>\n",
       "    <tr>\n",
       "      <th>22</th>\n",
       "      <td>22</td>\n",
       "      <td>0.927649</td>\n",
       "      <td>2025-05-10 15:23:38.318626</td>\n",
       "      <td>2025-05-10 15:24:28.362999</td>\n",
       "      <td>0 days 00:00:50.044373</td>\n",
       "      <td>0.000789</td>\n",
       "      <td>0.000085</td>\n",
       "      <td>0.927649</td>\n",
       "      <td>NaN</td>\n",
       "      <td>NaN</td>\n",
       "      <td>PRUNED</td>\n",
       "    </tr>\n",
       "    <tr>\n",
       "      <th>23</th>\n",
       "      <td>23</td>\n",
       "      <td>0.927594</td>\n",
       "      <td>2025-05-10 15:23:53.304068</td>\n",
       "      <td>2025-05-10 15:24:52.703340</td>\n",
       "      <td>0 days 00:00:59.399272</td>\n",
       "      <td>0.000868</td>\n",
       "      <td>0.000075</td>\n",
       "      <td>0.927594</td>\n",
       "      <td>NaN</td>\n",
       "      <td>NaN</td>\n",
       "      <td>PRUNED</td>\n",
       "    </tr>\n",
       "    <tr>\n",
       "      <th>24</th>\n",
       "      <td>24</td>\n",
       "      <td>0.927540</td>\n",
       "      <td>2025-05-10 15:23:56.570780</td>\n",
       "      <td>2025-05-10 15:24:41.395915</td>\n",
       "      <td>0 days 00:00:44.825135</td>\n",
       "      <td>0.000917</td>\n",
       "      <td>0.001419</td>\n",
       "      <td>0.927540</td>\n",
       "      <td>NaN</td>\n",
       "      <td>NaN</td>\n",
       "      <td>PRUNED</td>\n",
       "    </tr>\n",
       "    <tr>\n",
       "      <th>25</th>\n",
       "      <td>25</td>\n",
       "      <td>0.931232</td>\n",
       "      <td>2025-05-10 15:24:02.346846</td>\n",
       "      <td>2025-05-10 15:24:47.714006</td>\n",
       "      <td>0 days 00:00:45.367160</td>\n",
       "      <td>0.000849</td>\n",
       "      <td>0.001558</td>\n",
       "      <td>0.931232</td>\n",
       "      <td>NaN</td>\n",
       "      <td>NaN</td>\n",
       "      <td>PRUNED</td>\n",
       "    </tr>\n",
       "    <tr>\n",
       "      <th>26</th>\n",
       "      <td>26</td>\n",
       "      <td>0.918624</td>\n",
       "      <td>2025-05-10 15:24:14.728224</td>\n",
       "      <td>2025-05-10 15:24:58.861400</td>\n",
       "      <td>0 days 00:00:44.133176</td>\n",
       "      <td>0.000893</td>\n",
       "      <td>0.000087</td>\n",
       "      <td>0.918624</td>\n",
       "      <td>NaN</td>\n",
       "      <td>NaN</td>\n",
       "      <td>PRUNED</td>\n",
       "    </tr>\n",
       "    <tr>\n",
       "      <th>27</th>\n",
       "      <td>27</td>\n",
       "      <td>0.931800</td>\n",
       "      <td>2025-05-10 15:24:28.364766</td>\n",
       "      <td>2025-05-10 15:25:08.538870</td>\n",
       "      <td>0 days 00:00:40.174104</td>\n",
       "      <td>0.000786</td>\n",
       "      <td>0.003080</td>\n",
       "      <td>0.931800</td>\n",
       "      <td>NaN</td>\n",
       "      <td>NaN</td>\n",
       "      <td>PRUNED</td>\n",
       "    </tr>\n",
       "    <tr>\n",
       "      <th>28</th>\n",
       "      <td>28</td>\n",
       "      <td>0.849545</td>\n",
       "      <td>2025-05-10 15:24:37.679663</td>\n",
       "      <td>2025-05-10 15:25:57.357881</td>\n",
       "      <td>0 days 00:01:19.678218</td>\n",
       "      <td>0.004307</td>\n",
       "      <td>0.002171</td>\n",
       "      <td>0.852329</td>\n",
       "      <td>0.846752</td>\n",
       "      <td>0.849545</td>\n",
       "      <td>PRUNED</td>\n",
       "    </tr>\n",
       "    <tr>\n",
       "      <th>29</th>\n",
       "      <td>29</td>\n",
       "      <td>0.849704</td>\n",
       "      <td>2025-05-10 15:24:41.397255</td>\n",
       "      <td>2025-05-10 15:25:56.440108</td>\n",
       "      <td>0 days 00:01:15.042853</td>\n",
       "      <td>0.004393</td>\n",
       "      <td>0.000025</td>\n",
       "      <td>0.851984</td>\n",
       "      <td>0.847273</td>\n",
       "      <td>0.849704</td>\n",
       "      <td>PRUNED</td>\n",
       "    </tr>\n",
       "  </tbody>\n",
       "</table>\n",
       "</div>"
      ],
      "text/plain": [
       "    number     value             datetime_start          datetime_complete  \\\n",
       "0        0  0.877499 2025-05-10 15:18:57.321908 2025-05-10 15:19:44.593940   \n",
       "1        1  0.850591 2025-05-10 15:18:57.333704 2025-05-10 15:23:26.516318   \n",
       "2        2  0.863657 2025-05-10 15:18:57.335416 2025-05-10 15:22:27.438276   \n",
       "3        3  0.992468 2025-05-10 15:18:57.336431 2025-05-10 15:20:20.745331   \n",
       "4        4  1.105934 2025-05-10 15:18:57.337485 2025-05-10 15:19:56.699140   \n",
       "5        5  0.848756 2025-05-10 15:18:57.338264 2025-05-10 15:22:33.366451   \n",
       "6        6  0.879264 2025-05-10 15:18:57.344447 2025-05-10 15:19:46.948447   \n",
       "7        7  0.862094 2025-05-10 15:18:57.345479 2025-05-10 15:20:40.195732   \n",
       "8        8  1.049048 2025-05-10 15:19:44.596212 2025-05-10 15:20:31.092185   \n",
       "9        9  0.847627 2025-05-10 15:19:46.949785 2025-05-10 15:23:38.316152   \n",
       "10      10  1.028842 2025-05-10 15:19:56.700226 2025-05-10 15:20:56.048913   \n",
       "11      11  0.849551 2025-05-10 15:20:20.748368 2025-05-10 15:23:05.379020   \n",
       "12      12  0.847809 2025-05-10 15:20:31.093328 2025-05-10 15:24:14.726755   \n",
       "13      13  1.027945 2025-05-10 15:20:40.196942 2025-05-10 15:21:31.698580   \n",
       "14      14  1.021388 2025-05-10 15:20:56.049790 2025-05-10 15:21:54.212045   \n",
       "15      15  0.849374 2025-05-10 15:21:31.700677 2025-05-10 15:25:20.824459   \n",
       "16      16  0.868246 2025-05-10 15:21:54.213955 2025-05-10 15:23:53.302349   \n",
       "17      17  0.871885 2025-05-10 15:22:27.439984 2025-05-10 15:23:11.838843   \n",
       "18      18  0.854456 2025-05-10 15:22:33.369634 2025-05-10 15:24:02.345657   \n",
       "19      19  0.855836 2025-05-10 15:23:05.380054 2025-05-10 15:25:16.959496   \n",
       "20      20  0.868284 2025-05-10 15:23:11.840267 2025-05-10 15:23:56.569830   \n",
       "21      21  0.958867 2025-05-10 15:23:26.517560 2025-05-10 15:24:37.678284   \n",
       "22      22  0.927649 2025-05-10 15:23:38.318626 2025-05-10 15:24:28.362999   \n",
       "23      23  0.927594 2025-05-10 15:23:53.304068 2025-05-10 15:24:52.703340   \n",
       "24      24  0.927540 2025-05-10 15:23:56.570780 2025-05-10 15:24:41.395915   \n",
       "25      25  0.931232 2025-05-10 15:24:02.346846 2025-05-10 15:24:47.714006   \n",
       "26      26  0.918624 2025-05-10 15:24:14.728224 2025-05-10 15:24:58.861400   \n",
       "27      27  0.931800 2025-05-10 15:24:28.364766 2025-05-10 15:25:08.538870   \n",
       "28      28  0.849545 2025-05-10 15:24:37.679663 2025-05-10 15:25:57.357881   \n",
       "29      29  0.849704 2025-05-10 15:24:41.397255 2025-05-10 15:25:56.440108   \n",
       "\n",
       "                 duration  params_learning_rate  params_weight_decay  \\\n",
       "0  0 days 00:00:47.272032              0.001836             0.000019   \n",
       "1  0 days 00:04:29.182614              0.019597             0.000772   \n",
       "2  0 days 00:03:30.102860              0.029890             0.000009   \n",
       "3  0 days 00:01:23.408900              0.000267             0.005868   \n",
       "4  0 days 00:00:59.361655              0.095726             0.000589   \n",
       "5  0 days 00:03:36.028187              0.004095             0.000001   \n",
       "6  0 days 00:00:49.604000              0.001905             0.000023   \n",
       "7  0 days 00:01:42.850253              0.010804             0.000002   \n",
       "8  0 days 00:00:46.495973              0.000104             0.000002   \n",
       "9  0 days 00:03:51.366367              0.004467             0.004788   \n",
       "10 0 days 00:00:59.348687              0.079967             0.000012   \n",
       "11 0 days 00:02:44.630652              0.005948             0.000002   \n",
       "12 0 days 00:03:43.633427              0.003082             0.000010   \n",
       "13 0 days 00:00:51.501638              0.000135             0.003681   \n",
       "14 0 days 00:00:58.162255              0.000149             0.000006   \n",
       "15 0 days 00:03:49.123782              0.004959             0.000506   \n",
       "16 0 days 00:01:59.088394              0.022976             0.000007   \n",
       "17 0 days 00:00:44.398859              0.015835             0.000234   \n",
       "18 0 days 00:01:28.976023              0.012342             0.000001   \n",
       "19 0 days 00:02:11.579442              0.021681             0.000078   \n",
       "20 0 days 00:00:44.729563              0.031101             0.000070   \n",
       "21 0 days 00:01:11.160724              0.000539             0.000068   \n",
       "22 0 days 00:00:50.044373              0.000789             0.000085   \n",
       "23 0 days 00:00:59.399272              0.000868             0.000075   \n",
       "24 0 days 00:00:44.825135              0.000917             0.001419   \n",
       "25 0 days 00:00:45.367160              0.000849             0.001558   \n",
       "26 0 days 00:00:44.133176              0.000893             0.000087   \n",
       "27 0 days 00:00:40.174104              0.000786             0.003080   \n",
       "28 0 days 00:01:19.678218              0.004307             0.002171   \n",
       "29 0 days 00:01:15.042853              0.004393             0.000025   \n",
       "\n",
       "    system_attrs_completed_rung_0  system_attrs_completed_rung_1  \\\n",
       "0                        0.877499                            NaN   \n",
       "1                        0.859103                       0.850641   \n",
       "2                        0.859640                       0.867064   \n",
       "3                        0.992468                            NaN   \n",
       "4                        1.105934                            NaN   \n",
       "5                        0.851878                       0.848884   \n",
       "6                        0.879264                            NaN   \n",
       "7                        0.852488                       0.862094   \n",
       "8                        1.049048                            NaN   \n",
       "9                        0.850710                       0.847790   \n",
       "10                       1.028842                            NaN   \n",
       "11                       0.851887                       0.849551   \n",
       "12                       0.860984                       0.848739   \n",
       "13                       1.027945                            NaN   \n",
       "14                       1.021388                            NaN   \n",
       "15                       0.851889                       0.847523   \n",
       "16                       0.854300                       0.868246   \n",
       "17                       0.871885                            NaN   \n",
       "18                       0.851895                       0.854456   \n",
       "19                       0.853006                       0.855836   \n",
       "20                       0.868284                            NaN   \n",
       "21                       0.958867                            NaN   \n",
       "22                       0.927649                            NaN   \n",
       "23                       0.927594                            NaN   \n",
       "24                       0.927540                            NaN   \n",
       "25                       0.931232                            NaN   \n",
       "26                       0.918624                            NaN   \n",
       "27                       0.931800                            NaN   \n",
       "28                       0.852329                       0.846752   \n",
       "29                       0.851984                       0.847273   \n",
       "\n",
       "    system_attrs_completed_rung_2     state  \n",
       "0                             NaN    PRUNED  \n",
       "1                        0.850591    PRUNED  \n",
       "2                        0.857138  COMPLETE  \n",
       "3                             NaN    PRUNED  \n",
       "4                             NaN    PRUNED  \n",
       "5                        0.848719  COMPLETE  \n",
       "6                             NaN    PRUNED  \n",
       "7                             NaN    PRUNED  \n",
       "8                             NaN    PRUNED  \n",
       "9                        0.847061  COMPLETE  \n",
       "10                            NaN    PRUNED  \n",
       "11                            NaN    PRUNED  \n",
       "12                       0.848683  COMPLETE  \n",
       "13                            NaN    PRUNED  \n",
       "14                            NaN    PRUNED  \n",
       "15                       0.847754  COMPLETE  \n",
       "16                            NaN    PRUNED  \n",
       "17                            NaN    PRUNED  \n",
       "18                            NaN    PRUNED  \n",
       "19                            NaN    PRUNED  \n",
       "20                            NaN    PRUNED  \n",
       "21                            NaN    PRUNED  \n",
       "22                            NaN    PRUNED  \n",
       "23                            NaN    PRUNED  \n",
       "24                            NaN    PRUNED  \n",
       "25                            NaN    PRUNED  \n",
       "26                            NaN    PRUNED  \n",
       "27                            NaN    PRUNED  \n",
       "28                       0.849545    PRUNED  \n",
       "29                       0.849704    PRUNED  "
      ]
     },
     "execution_count": 47,
     "metadata": {},
     "output_type": "execute_result"
    }
   ],
   "source": [
    "study_mlp0.trials_dataframe()"
   ]
  },
  {
   "cell_type": "code",
   "execution_count": 48,
   "id": "ba6083d4",
   "metadata": {},
   "outputs": [
    {
     "name": "stdout",
     "output_type": "stream",
     "text": [
      "Study saved to mlp0_optuna_study_20250510_155610.pkl\n"
     ]
    }
   ],
   "source": [
    "# Save the complete study to a file\n",
    "study_filename = f\"mlp0_optuna_study_{time.strftime('%Y%m%d_%H%M%S')}.pkl\"\n",
    "joblib.dump(study, study_filename)\n",
    "print(f\"Study saved to {study_filename}\")"
   ]
  },
  {
   "cell_type": "code",
   "execution_count": null,
   "id": "8738728f",
   "metadata": {},
   "outputs": [],
   "source": [
    "# First, set up the ASHA pruner\n",
    "asha_pruner = optuna.pruners.SuccessiveHalvingPruner(\n",
    "    min_resource=20,        # Minimum number of steps before pruning\n",
    "    reduction_factor=2,    # Reduction factor for successive halving\n",
    "    min_early_stopping_rate=0\n",
    ")"
   ]
  },
  {
   "cell_type": "code",
   "execution_count": null,
   "id": "fca0aae9",
   "metadata": {},
   "outputs": [],
   "source": [
    "study_mlp3 = optuna.create_study(direction=\"minimize\", pruner=asha_pruner)\n",
    "study_mlp3.optimize(\n",
    "    lambda trial: objective(trial,\n",
    "                            input_dim=dh.input_dim,\n",
    "                            depth=3,\n",
    "                            dataloaders=dh.get_nn_data('cv', batch_size=512),\n",
    "                            max_epochs=100),\n",
    "    n_trials=30,  # Number of trials to run\n",
    "    timeout=600,   # Timeout in seconds\n",
    "    n_jobs=-1,     # Use all available cores\n",
    ")"
   ]
  }
 ],
 "metadata": {
  "kernelspec": {
   "display_name": "math392",
   "language": "python",
   "name": "python3"
  },
  "language_info": {
   "codemirror_mode": {
    "name": "ipython",
    "version": 3
   },
   "file_extension": ".py",
   "mimetype": "text/x-python",
   "name": "python",
   "nbconvert_exporter": "python",
   "pygments_lexer": "ipython3",
   "version": "3.11.8"
  }
 },
 "nbformat": 4,
 "nbformat_minor": 5
}
