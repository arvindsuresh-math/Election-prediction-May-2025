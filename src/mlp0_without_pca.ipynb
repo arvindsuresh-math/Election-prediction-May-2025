{
 "cells": [
  {
   "cell_type": "code",
   "execution_count": null,
   "id": "89a5f720",
   "metadata": {},
   "outputs": [],
   "source": [
    "from data_handling import DataHandler\n",
    "from mlp_model import MLPModel"
   ]
  },
  {
   "cell_type": "code",
   "execution_count": null,
   "id": "d51531e4",
   "metadata": {},
   "outputs": [],
   "source": [
    "dh = DataHandler()"
   ]
  },
  {
   "cell_type": "code",
   "execution_count": 7,
   "id": "90b11a43",
   "metadata": {},
   "outputs": [],
   "source": [
    "mlp0 = MLPModel(dh, 'mlp0_without_pca', 0)"
   ]
  },
  {
   "cell_type": "code",
   "execution_count": null,
   "id": "da655b85",
   "metadata": {},
   "outputs": [],
   "source": [
    "mlp0.run_optuna_study(min_resource=5, reduction_factor=3, n_trials=10, timeout=5, max_epochs=20, use_pca=False)"
   ]
  },
  {
   "cell_type": "code",
   "execution_count": null,
   "id": "e938a146",
   "metadata": {},
   "outputs": [],
   "source": [
    "mlp0.train_final_model(max_epochs=20)"
   ]
  },
  {
   "cell_type": "code",
   "execution_count": null,
   "id": "31a06e7e",
   "metadata": {},
   "outputs": [],
   "source": [
    "mlp0.make_final_predictions()"
   ]
  },
  {
   "cell_type": "code",
   "execution_count": null,
   "id": "9d7f8510",
   "metadata": {},
   "outputs": [],
   "source": [
    "check = MLPModel(dh, 'mlp0_without_pca', 0)\n",
    "study = check.load_optuna_study()"
   ]
  },
  {
   "cell_type": "code",
   "execution_count": null,
   "id": "c9307bdb",
   "metadata": {},
   "outputs": [],
   "source": [
    "study.trials_dataframe()"
   ]
  },
  {
   "cell_type": "code",
   "execution_count": null,
   "id": "9c30e264",
   "metadata": {},
   "outputs": [],
   "source": [
    "check.load_model()"
   ]
  },
  {
   "cell_type": "code",
   "execution_count": null,
   "id": "8b15cf59",
   "metadata": {},
   "outputs": [],
   "source": [
    "print(check.model)"
   ]
  },
  {
   "cell_type": "code",
   "execution_count": null,
   "id": "8a9d40d9",
   "metadata": {},
   "outputs": [],
   "source": []
  }
 ],
 "metadata": {
  "kernelspec": {
   "display_name": "math392",
   "language": "python",
   "name": "python3"
  },
  "language_info": {
   "codemirror_mode": {
    "name": "ipython",
    "version": 3
   },
   "file_extension": ".py",
   "mimetype": "text/x-python",
   "name": "python",
   "nbconvert_exporter": "python",
   "pygments_lexer": "ipython3",
   "version": "3.11.8"
  }
 },
 "nbformat": 4,
 "nbformat_minor": 5
}
